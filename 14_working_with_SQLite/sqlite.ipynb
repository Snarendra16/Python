{
 "cells": [
  {
   "cell_type": "markdown",
   "id": "60bb4799",
   "metadata": {},
   "source": [
    "### SQL and SQLite "
   ]
  },
  {
   "cell_type": "code",
   "execution_count": null,
   "id": "ee877841",
   "metadata": {},
   "outputs": [],
   "source": [
    "import sqlite3 "
   ]
  },
  {
   "cell_type": "code",
   "execution_count": 2,
   "id": "8d84438e",
   "metadata": {},
   "outputs": [],
   "source": [
    "# Connect to SQLite database or creation \n",
    "connection=sqlite3.connect('example.db')"
   ]
  },
  {
   "cell_type": "code",
   "execution_count": 4,
   "id": "97a3ea91",
   "metadata": {},
   "outputs": [
    {
     "data": {
      "text/plain": [
       "<sqlite3.Connection at 0x1e92eaa5d40>"
      ]
     },
     "execution_count": 4,
     "metadata": {},
     "output_type": "execute_result"
    }
   ],
   "source": [
    "connection"
   ]
  },
  {
   "cell_type": "code",
   "execution_count": 6,
   "metadata": {},
   "outputs": [],
   "source": [
    "# Creating a cursor in py db\n",
    "cursor=connection.cursor()"
   ]
  },
  {
   "cell_type": "code",
   "execution_count": 9,
   "id": "e1ddcf2b",
   "metadata": {},
   "outputs": [],
   "source": [
    "# Creating a Table\n",
    "cursor.execute('''\n",
    "    CREATE TABLE IF NOT EXISTS Students(\n",
    "        PRN Integer PRIMARY KEY,\n",
    "        Name TEXT NOT NULL,\n",
    "        Department TEXT NOT NULL,\n",
    "        Year INTEGER NOT NULL\n",
    "    )\n",
    "''')\n",
    "\n",
    "# Inserting data into a table data\n",
    "\n",
    "connection.commit()"
   ]
  },
  {
   "cell_type": "code",
   "execution_count": 12,
   "id": "de92222d",
   "metadata": {},
   "outputs": [],
   "source": [
    "# Insert data\n",
    "cursor.execute('''\n",
    "    INSERT OR IGNORE INTO Students (PRN, Name, Department, Year)\n",
    "    VALUES\n",
    "    (1123, 'Gandu', 'Computer Science', 2),\n",
    "    (1124, 'Bobyyy', 'Electrical Engineering', 3),\n",
    "    (1125, 'Charlieee', 'Mechanical Engineering', 1)\n",
    "''')\n",
    "\n",
    "connection.commit()"
   ]
  },
  {
   "cell_type": "code",
   "execution_count": 13,
   "metadata": {},
   "outputs": [
    {
     "name": "stdout",
     "output_type": "stream",
     "text": [
      "(1123, 'Gandu', 'Computer Science', 2)\n",
      "(1124, 'Bobyyy', 'Electrical Engineering', 3)\n",
      "(1125, 'Charlieee', 'Mechanical Engineering', 1)\n"
     ]
    }
   ],
   "source": [
    "cursor.execute(\"SELECT * FROM Students\")\n",
    "rows=cursor.fetchall()\n",
    "\n",
    "for row in rows:\n",
    "    print(row)"
   ]
  },
  {
   "cell_type": "code",
   "execution_count": null,
   "metadata": {},
   "outputs": [],
   "source": []
  },
  {
   "cell_type": "code",
   "execution_count": null,
   "metadata": {},
   "outputs": [],
   "source": []
  },
  {
   "cell_type": "code",
   "execution_count": null,
   "metadata": {},
   "outputs": [],
   "source": []
  },
  {
   "cell_type": "code",
   "execution_count": null,
   "id": "764cb5a7",
   "metadata": {},
   "outputs": [],
   "source": []
  },
  {
   "cell_type": "code",
   "execution_count": null,
   "metadata": {},
   "outputs": [],
   "source": []
  },
  {
   "cell_type": "code",
   "execution_count": null,
   "metadata": {},
   "outputs": [],
   "source": []
  },
  {
   "cell_type": "code",
   "execution_count": null,
   "metadata": {},
   "outputs": [],
   "source": []
  }
 ],
 "metadata": {
  "kernelspec": {
   "display_name": "Python 3",
   "language": "python",
   "name": "python3"
  },
  "language_info": {
   "codemirror_mode": {
    "name": "ipython",
    "version": 3
   },
   "file_extension": ".py",
   "mimetype": "text/x-python",
   "name": "python",
   "nbconvert_exporter": "python",
   "pygments_lexer": "ipython3",
   "version": "3.10.0"
  }
 },
 "nbformat": 4,
 "nbformat_minor": 5
}
