{
 "cells": [
  {
   "cell_type": "markdown",
   "id": "cd9c9690",
   "metadata": {},
   "source": [
    "1. Importing of modules in Python"
   ]
  },
  {
   "cell_type": "code",
   "execution_count": 3,
   "id": "a2faee99",
   "metadata": {},
   "outputs": [
    {
     "name": "stdout",
     "output_type": "stream",
     "text": [
      "4.898979485566356\n",
      "3.141592653589793\n"
     ]
    }
   ],
   "source": [
    "import math \n",
    "a=math.sqrt(24)\n",
    "b=math.pi\n",
    "print(a)\n",
    "print(b)"
   ]
  },
  {
   "cell_type": "code",
   "execution_count": 4,
   "id": "7a09d4cb",
   "metadata": {},
   "outputs": [
    {
     "name": "stdout",
     "output_type": "stream",
     "text": [
      "4.898979485566356\n",
      "3.141592653589793\n"
     ]
    }
   ],
   "source": [
    "from math import sqrt, pi\n",
    "c=sqrt(24)\n",
    "d=pi\n",
    "print(c)\n",
    "print(d)"
   ]
  },
  {
   "cell_type": "code",
   "execution_count": 8,
   "id": "21c77b06",
   "metadata": {},
   "outputs": [
    {
     "name": "stdout",
     "output_type": "stream",
     "text": [
      "[1 2 3]\n",
      "4.898979485566356\n"
     ]
    }
   ],
   "source": [
    "import numpy as np\n",
    "e=np.sqrt(24)\n",
    "print(np.array([1, 2, 3]))\n",
    "print(e)"
   ]
  },
  {
   "cell_type": "code",
   "execution_count": null,
   "id": "83a0e8b2",
   "metadata": {},
   "outputs": [],
   "source": [
    "from math import *\n",
    "# * means import all functions and variables from the math module\n"
   ]
  },
  {
   "cell_type": "code",
   "execution_count": 13,
   "id": "a76b69f4",
   "metadata": {},
   "outputs": [
    {
     "name": "stdout",
     "output_type": "stream",
     "text": [
      "963\n"
     ]
    }
   ],
   "source": [
    "from package.maths import addition\n",
    "f54=addition(87,876)\n",
    "print(f54)\n"
   ]
  },
  {
   "cell_type": "code",
   "execution_count": 14,
   "id": "edbca00e",
   "metadata": {},
   "outputs": [
    {
     "name": "stdout",
     "output_type": "stream",
     "text": [
      "Multiplying 87 and 8 gives 696\n"
     ]
    }
   ],
   "source": [
    "from package.subpackage.mult import multiplication\n",
    "f55=multiplication(87,8)"
   ]
  }
 ],
 "metadata": {
  "kernelspec": {
   "display_name": "Python 3",
   "language": "python",
   "name": "python3"
  },
  "language_info": {
   "codemirror_mode": {
    "name": "ipython",
    "version": 3
   },
   "file_extension": ".py",
   "mimetype": "text/x-python",
   "name": "python",
   "nbconvert_exporter": "python",
   "pygments_lexer": "ipython3",
   "version": "3.10.0"
  }
 },
 "nbformat": 4,
 "nbformat_minor": 5
}
