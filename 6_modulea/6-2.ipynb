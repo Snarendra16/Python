{
 "cells": [
  {
   "cell_type": "markdown",
   "id": "65299c4a",
   "metadata": {},
   "source": [
    "### Standard Library Overview\n",
    "\n",
    "The Python Standard Library is a collection of pre-installed modules that provide a wide range of functionalities to perform tasks without the need for external libraries. It supports various operations such as file I/O, regular expressions, data serialization, threading, networking, web development, and more."
   ]
  },
  {
   "cell_type": "code",
   "execution_count": 2,
   "id": "154cf20b",
   "metadata": {},
   "outputs": [
    {
     "name": "stdout",
     "output_type": "stream",
     "text": [
      "1420059774\n"
     ]
    }
   ],
   "source": [
    "import random\n",
    "print(random.randint(1,10000000000))"
   ]
  },
  {
   "cell_type": "code",
   "execution_count": 6,
   "id": "c88cdcc9",
   "metadata": {},
   "outputs": [
    {
     "name": "stdout",
     "output_type": "stream",
     "text": [
      "f:\\Courses\\DS,ML,DL,NLP\\CODE\\6_modulea\n",
      "f:\\Courses\\DS,ML,DL,NLP\\CODE\\venv;F:\\Courses\\DS,ML,DL,NLP\\CODE\\venv;F:\\Courses\\DS,ML,DL,NLP\\CODE\\venv\\Library\\mingw-w64\\bin;F:\\Courses\\DS,ML,DL,NLP\\CODE\\venv\\Library\\usr\\bin;F:\\Courses\\DS,ML,DL,NLP\\CODE\\venv\\Library\\bin;F:\\Courses\\DS,ML,DL,NLP\\CODE\\venv\\Scripts;F:\\Courses\\DS,ML,DL,NLP\\CODE\\venv\\bin;F:\\anaconda3\\condabin;C:\\Python313\\Scripts;C:\\Python313;C:\\Program Files\\Python312\\Scripts;C:\\Program Files\\Python312;F:\\VMware-Workstation-pro\\bin;C:\\Program Files\\Common Files\\Oracle\\Java\\javapath;C:\\WINDOWS\\system32;C:\\WINDOWS;C:\\WINDOWS\\System32\\Wbem;C:\\WINDOWS\\System32\\WindowsPowerShell\\v1.0;C:\\WINDOWS\\System32\\OpenSSH;E:\\bin;C:\\MinGW\\bin;C:\\Program Files\\Java\\jdk-21\\bin;C:\\Program Files\\Git\\cmd;C:\\Program Files\\Git\\mingw64\\bin;C:\\Program Files\\Git\\usr\\bin;C:\\ProgramData\\chocolatey\\bin;C:\\Users\\HP\\AppData\\Local\\Android\\Sdk;C:\\Users\\HP\\AppData\\Local\\Android\\Sdk\\platform-tools;C:\\Users\\HP\\AppData\\Roaming\\Python\\Python312\\site-packages;F:\\react native\\nodejs;C:\\Program Files\\nodejs;C:\\Program Files\\Docker\\Docker\\resources\\bin;F:\\SOFTWARES\\bin;C:\\Program Files\\dotnet;C:\\Program Files\\MySQL\\MySQL Shell 8.0\\bin;F:\\anaconda3;F:\\anaconda3\\Library\\mingw-w64\\bin;F:\\anaconda3\\Library\\usr\\bin;F:\\anaconda3\\Library\\bin;F:\\anaconda3\\Scripts;C:\\Users\\HP\\AppData\\Local\\Microsoft\\WindowsApps;C:\\Users\\HP\\AppData\\Local\\Programs\\Microsoft VS Code\\bin;C:\\Users\\HP\\AppData\\Local\\Android\\Sdk;C:\\Users\\HP\\AppData\\Local\\Android\\Sdk\\platform-tools;C:\\Users\\HP\\AppData\\Local\\Android\\Sdk\\emulator;C:\\Users\\HP\\AppData\\Local\\Android\\Sdk\\tools;C:\\Users\\HP\\AppData\\Local\\Android\\Sdk\\tools\\bin;C:\\Users\\HP\\AppData\\Roaming\\npm\n"
     ]
    }
   ],
   "source": [
    "import os\n",
    "print(os.getcwd())\n",
    "print(os.getenv(\"PATH\"))"
   ]
  },
  {
   "cell_type": "code",
   "execution_count": 8,
   "id": "b7ef1df6",
   "metadata": {},
   "outputs": [
    {
     "name": "stdout",
     "output_type": "stream",
     "text": [
      "usage(total=375809634304, used=290371645440, free=85437988864)\n"
     ]
    },
    {
     "data": {
      "text/plain": [
       "'dest.txt'"
      ]
     },
     "execution_count": 8,
     "metadata": {},
     "output_type": "execute_result"
    }
   ],
   "source": [
    "import shutil\n",
    "print(shutil.disk_usage('/'))\n",
    "shutil.copyfile('test.txt', 'dest.txt')"
   ]
  },
  {
   "cell_type": "code",
   "execution_count": null,
   "id": "86e3fe16",
   "metadata": {},
   "outputs": [
    {
     "name": "stdout",
     "output_type": "stream",
     "text": [
      "{\"name\": \"Narendra\", \"age\": 19, \"city\": \"Pune\"}\n",
      "<class 'str'>\n",
      "{'name': 'Narendra', 'age': 19, 'city': 'Pune'}\n",
      "<class 'dict'>\n"
     ]
    }
   ],
   "source": [
    "# Data Serialization\n",
    "import json\n",
    "data = {'name': 'Narendra', 'age': 19, 'city': 'Pune'}\n",
    "json_str = json.dumps(data)\n",
    "print(json_str)\n",
    "print(type(json_str))\n",
    "\n",
    "# Data Deserialization\n",
    "parssed_data=json.loads(json_str)\n",
    "print(parssed_data)\n",
    "print(type(parssed_data))"
   ]
  },
  {
   "cell_type": "code",
   "execution_count": 15,
   "id": "fdca6bd0",
   "metadata": {},
   "outputs": [
    {
     "name": "stdout",
     "output_type": "stream",
     "text": [
      "['Name', 'Age', 'City']\n",
      "['Narendra', '19', 'Pune']\n",
      "['Krish', '25', 'Mumbai']\n"
     ]
    }
   ],
   "source": [
    "# CSV\n",
    "\n",
    "import csv\n",
    "with open('data.csv', 'w', newline='') as file:\n",
    "    writer = csv.writer(file)\n",
    "    writer.writerows(data)\n",
    "with open('data.csv', 'r') as file:\n",
    "    reader = csv.reader(file)\n",
    "    for row in reader:\n",
    "        print(row)\n"
   ]
  },
  {
   "cell_type": "code",
   "execution_count": 48,
   "id": "c0340841",
   "metadata": {},
   "outputs": [
    {
     "name": "stdout",
     "output_type": "stream",
     "text": [
      "2025-05-24 19:48:11.022204\n",
      "2025-05-23 19:48:11.022204\n"
     ]
    }
   ],
   "source": [
    "from datetime import *\n",
    "now=datetime.now()\n",
    "print(now)\n",
    "yesterday = now - timedelta(days=1)\n",
    "print(yesterday)\n"
   ]
  },
  {
   "cell_type": "code",
   "execution_count": 52,
   "id": "976d6035",
   "metadata": {},
   "outputs": [
    {
     "name": "stdout",
     "output_type": "stream",
     "text": [
      "1748096390.3309884\n",
      "1748096392.3419857\n"
     ]
    }
   ],
   "source": [
    "import time\n",
    "print(time.time())\n",
    "time.sleep(2)\n",
    "print(time.time())"
   ]
  }
 ],
 "metadata": {
  "kernelspec": {
   "display_name": "Python 3",
   "language": "python",
   "name": "python3"
  },
  "language_info": {
   "codemirror_mode": {
    "name": "ipython",
    "version": 3
   },
   "file_extension": ".py",
   "mimetype": "text/x-python",
   "name": "python",
   "nbconvert_exporter": "python",
   "pygments_lexer": "ipython3",
   "version": "3.10.0"
  }
 },
 "nbformat": 4,
 "nbformat_minor": 5
}
