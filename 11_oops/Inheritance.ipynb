{
 "cells": [
  {
   "cell_type": "markdown",
   "id": "8f19a606",
   "metadata": {},
   "source": [
    "# Inheritance"
   ]
  },
  {
   "cell_type": "code",
   "execution_count": 4,
   "id": "c7dc18ec",
   "metadata": {},
   "outputs": [],
   "source": [
    "class car:\n",
    "    def __init__(self, name, model, year):\n",
    "        self.name = name\n",
    "        self.model = model\n",
    "        self.year = year\n",
    "\n",
    "    def drive(self):\n",
    "        print(f\"The person will drive the {self.model}\")\n",
    "\n",
    "Audi = car(\"Audi\", 4, 2024)\n"
   ]
  },
  {
   "cell_type": "code",
   "execution_count": 5,
   "id": "0902b767",
   "metadata": {},
   "outputs": [
    {
     "name": "stdout",
     "output_type": "stream",
     "text": [
      "The person will drive the 4\n",
      "The person will drive the 3 with autopilot Yes\n"
     ]
    }
   ],
   "source": [
    "class Tesla(car): ### Inheriting from car class\n",
    "    def __init__(self, name, model, year, autopilot):\n",
    "        super().__init__(name, model, year)\n",
    "        self.autopilot = autopilot\n",
    "    def drive(self):\n",
    "        print(f\"The person will drive the {self.model} with autopilot {self.autopilot}\")\n",
    "Tesla1 = Tesla(\"Tesla\", 3, 2024, \"Yes\")\n",
    "Audi.drive()\n",
    "Tesla1.drive()\n",
    "# Inheritance allows us to create a new class that is based on an existing class.\n",
    "# The new class inherits the attributes and methods of the existing class, allowing for code reuse and\n"
   ]
  },
  {
   "cell_type": "code",
   "execution_count": null,
   "id": "e77ae11e",
   "metadata": {},
   "outputs": [],
   "source": [
    "# Multiple Inheritance\n",
    "class ElectricCar(car):\n",
    "    def __init__(self, name, model, year, battery_size):\n",
    "        super().__init__(name, model, year)\n",
    "        self.battery_size = battery_size\n",
    "\n",
    "    def charge(self):\n",
    "        print(f\"The {self.model} is charging with a battery size of {self.battery_size} kWh\")\n",
    "\n",
    "# Multiple inherited\n",
    "class HybridCar(ElectricCar, car):\n",
    "    def __init__(self, name, model, year, battery_size, fuel_type):\n",
    "        ElectricCar.__init__(self, name, model, year, battery_size)\n",
    "        self.fuel_type = fuel_type\n",
    "\n",
    "    def drive(self):\n",
    "        print(f\"The {self.model} is driving with {self.fuel_type} fuel and a battery size of {self.battery_size} kWh\")\n",
    "hybrid = HybridCar(\"Toyota\", \"Prius\", 2024, 1.8, \"Gasoline\")\n",
    "\n",
    "\n"
   ]
  }
 ],
 "metadata": {
  "kernelspec": {
   "display_name": "Python 3",
   "language": "python",
   "name": "python3"
  },
  "language_info": {
   "codemirror_mode": {
    "name": "ipython",
    "version": 3
   },
   "file_extension": ".py",
   "mimetype": "text/x-python",
   "name": "python",
   "nbconvert_exporter": "python",
   "pygments_lexer": "ipython3",
   "version": "3.10.0"
  }
 },
 "nbformat": 4,
 "nbformat_minor": 5
}
