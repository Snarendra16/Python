{
 "cells": [
  {
   "cell_type": "markdown",
   "id": "9d78e963",
   "metadata": {},
   "source": [
    "# Classes and Objects\n"
   ]
  },
  {
   "cell_type": "code",
   "execution_count": 1,
   "id": "010bf73b",
   "metadata": {},
   "outputs": [
    {
     "name": "stdout",
     "output_type": "stream",
     "text": [
      "<class '__main__.car'>\n"
     ]
    }
   ],
   "source": [
    "class car:\n",
    "    pass\n",
    "\n",
    "Audi=car()\n",
    "bmw=car()\n",
    "\n",
    "print(type(Audi))"
   ]
  },
  {
   "cell_type": "code",
   "execution_count": 4,
   "id": "25b616b4",
   "metadata": {},
   "outputs": [
    {
     "name": "stdout",
     "output_type": "stream",
     "text": [
      "Swapnil_buffelo\n",
      "20\n"
     ]
    }
   ],
   "source": [
    "# Instance variable and Methods\n",
    "\n",
    "class dog:\n",
    "    # Constructor\n",
    "    def __init__(self,name,age):\n",
    "        self.name=name\n",
    "        self.age=age\n",
    "\n",
    "\n",
    "Dog1=dog(\"Swapnil_buffelo\",20)\n",
    "print(Dog1.name)\n",
    "print(Dog1.age)"
   ]
  },
  {
   "cell_type": "code",
   "execution_count": 6,
   "id": "33a3d903",
   "metadata": {},
   "outputs": [
    {
     "name": "stdout",
     "output_type": "stream",
     "text": [
      "Swapnil_buffelo says I'm Buffelo\n"
     ]
    }
   ],
   "source": [
    "class dog:\n",
    "    # Constructor\n",
    "    def __init__(self,name,age):\n",
    "        self.name=name\n",
    "        self.age=age\n",
    "\n",
    "    def bark(self):\n",
    "        print(f\"{self.name} says I'm Buffelo\")\n",
    "\n",
    "dog1=dog(\"Swapnil_buffelo\",20)\n",
    "dog1.bark()"
   ]
  },
  {
   "cell_type": "code",
   "execution_count": 7,
   "id": "7be08123",
   "metadata": {},
   "outputs": [],
   "source": [
    "class BankAccount:\n",
    "    # Constructor\n",
    "    def __init__(self,Owner,balance=0):\n",
    "        self.Owner=Owner\n",
    "        self.balance=balance\n",
    "    def deposit(self,amount):\n",
    "        amount=self.balance+amount\n",
    "        print(f\"{self.Owner} deposited {amount} in the Bank\")\n",
    "\n",
    "    def withdraw(self,amount):\n",
    "        if self.balance>=amount:\n",
    "            self.balance-=amount\n",
    "            print(f\"{self.Owner} withdrew {amount} from the Bank\")\n",
    "        else:\n",
    "            print(f\"{self.Owner} has insufficient balance to withdraw {amount}\")\n",
    "\n",
    "account1=BankAccount(\"Buffelo\",45)\n",
    "\n",
    "\n",
    "    "
   ]
  },
  {
   "cell_type": "code",
   "execution_count": 8,
   "id": "4de8ff8d",
   "metadata": {},
   "outputs": [
    {
     "name": "stdout",
     "output_type": "stream",
     "text": [
      "Buffelo deposited 84 in the Bank\n"
     ]
    }
   ],
   "source": [
    "account1.deposit(39)\n"
   ]
  },
  {
   "cell_type": "code",
   "execution_count": 9,
   "id": "baecae69",
   "metadata": {},
   "outputs": [
    {
     "name": "stdout",
     "output_type": "stream",
     "text": [
      "Buffelo withdrew 15 from the Bank\n"
     ]
    }
   ],
   "source": [
    "account1.withdraw(15)"
   ]
  }
 ],
 "metadata": {
  "kernelspec": {
   "display_name": "Python 3",
   "language": "python",
   "name": "python3"
  },
  "language_info": {
   "codemirror_mode": {
    "name": "ipython",
    "version": 3
   },
   "file_extension": ".py",
   "mimetype": "text/x-python",
   "name": "python",
   "nbconvert_exporter": "python",
   "pygments_lexer": "ipython3",
   "version": "3.10.0"
  }
 },
 "nbformat": 4,
 "nbformat_minor": 5
}
