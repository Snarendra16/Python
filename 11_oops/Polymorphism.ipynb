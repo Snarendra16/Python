{
 "cells": [
  {
   "cell_type": "markdown",
   "id": "76509c04",
   "metadata": {},
   "source": [
    "# Polymorphism"
   ]
  },
  {
   "cell_type": "code",
   "execution_count": 7,
   "id": "b1f4f16d",
   "metadata": {},
   "outputs": [
    {
     "name": "stdout",
     "output_type": "stream",
     "text": [
      "Woof Woof\n"
     ]
    },
    {
     "data": {
      "text/plain": [
       "'Meow Meow'"
      ]
     },
     "execution_count": 7,
     "metadata": {},
     "output_type": "execute_result"
    }
   ],
   "source": [
    "class Animal:\n",
    "    def speak(self):\n",
    "        return \"sound\"\n",
    "\n",
    "class dog(Animal):\n",
    "    def speak(self):\n",
    "        return \"Woof Woof\"\n",
    "\n",
    "class cat(Animal):\n",
    "    def speak(self):\n",
    "        return \"Meow Meow\"\n",
    "\n",
    "dog=dog()\n",
    "print(dog.speak())\n",
    "cat=cat()\n",
    "cat.speak()  "
   ]
  },
  {
   "cell_type": "code",
   "execution_count": 9,
   "id": "fc4b9f92",
   "metadata": {},
   "outputs": [
    {
     "name": "stdout",
     "output_type": "stream",
     "text": [
      "Woof Woof\n",
      "Meow Meow\n"
     ]
    }
   ],
   "source": [
    "# Polymorphism\n",
    "\n",
    "def animal_sound(animal):\n",
    "    print(animal.speak())\n",
    "\n",
    "animal_sound(dog)\n",
    "animal_sound(cat)\n"
   ]
  }
 ],
 "metadata": {
  "kernelspec": {
   "display_name": "Python 3",
   "language": "python",
   "name": "python3"
  },
  "language_info": {
   "codemirror_mode": {
    "name": "ipython",
    "version": 3
   },
   "file_extension": ".py",
   "mimetype": "text/x-python",
   "name": "python",
   "nbconvert_exporter": "python",
   "pygments_lexer": "ipython3",
   "version": "3.10.0"
  }
 },
 "nbformat": 4,
 "nbformat_minor": 5
}
