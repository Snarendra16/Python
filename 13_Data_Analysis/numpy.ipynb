{
 "cells": [
  {
   "cell_type": "markdown",
   "id": "3e5db502",
   "metadata": {},
   "source": [
    "#### Numpy"
   ]
  },
  {
   "cell_type": "code",
   "execution_count": 1,
   "id": "2837f155",
   "metadata": {},
   "outputs": [
    {
     "name": "stdout",
     "output_type": "stream",
     "text": [
      "Requirement already satisfied: numpy in f:\\courses\\ds,ml,dl,nlp\\code\\venv\\lib\\site-packages (2.2.6)\n"
     ]
    }
   ],
   "source": [
    "!pip install numpy"
   ]
  },
  {
   "cell_type": "code",
   "execution_count": null,
   "id": "966db49d",
   "metadata": {},
   "outputs": [
    {
     "name": "stdout",
     "output_type": "stream",
     "text": [
      "[1 2 3 4 5]\n",
      "<class 'numpy.ndarray'>\n",
      "(5,)\n"
     ]
    }
   ],
   "source": [
    "import numpy as np\n",
    "# Creation of an Array\n",
    "# 1D Array\n",
    "arr1=np.array([1,2,3,4,5]) #Can be use list,tuple,dict\n",
    "print(arr1)\n",
    "print(type(arr1))\n",
    "print(arr1.shape) #1D array\n"
   ]
  },
  {
   "cell_type": "code",
   "execution_count": 12,
   "id": "8429af4a",
   "metadata": {},
   "outputs": [
    {
     "data": {
      "text/plain": [
       "array([[ 1,  2,  3,  4,  5],\n",
       "       [ 6,  7,  8,  9, 10]])"
      ]
     },
     "execution_count": 12,
     "metadata": {},
     "output_type": "execute_result"
    }
   ],
   "source": [
    "arr2=np.array([1,2,3,4,5,6,7,8,9,10])\n",
    "arr2.reshape(2,5) # 2D Array\n",
    "# arr2.reshape(x,y) # 2D Array        x---> x rows\n",
    "#                                     y---> y columns"
   ]
  },
  {
   "cell_type": "code",
   "execution_count": null,
   "id": "6da82fc9",
   "metadata": {},
   "outputs": [
    {
     "name": "stdout",
     "output_type": "stream",
     "text": [
      "[[ 1  2  3  4  5]\n",
      " [ 6  7  8  9 10]]\n",
      "(2, 5)\n"
     ]
    }
   ],
   "source": [
    "# We can directly reshape it \n",
    "# 2D Array\n",
    "arr3=np.array([[1,2,3,4,5],[6,7,8,9,10]])\n",
    "print(arr3)\n",
    "print(arr3.shape)"
   ]
  },
  {
   "cell_type": "code",
   "execution_count": 18,
   "id": "d939ee9e",
   "metadata": {},
   "outputs": [
    {
     "data": {
      "text/plain": [
       "array([[3],\n",
       "       [6],\n",
       "       [9]])"
      ]
     },
     "execution_count": 18,
     "metadata": {},
     "output_type": "execute_result"
    }
   ],
   "source": [
    "# Inbuilt functions\n",
    "np.arange(3,10,3)\n",
    "np.arange(3,10,3).reshape(3,1)\n",
    "# print(type(np.arange(3,10,3)))\n",
    "# print(np.arange(x,y,z))    x==> Starting     y==> Ending    z==> Diffrence"
   ]
  },
  {
   "cell_type": "code",
   "execution_count": 22,
   "id": "f8a45bd2",
   "metadata": {},
   "outputs": [
    {
     "data": {
      "text/plain": [
       "array([[1., 1., 1., 1.],\n",
       "       [1., 1., 1., 1.],\n",
       "       [1., 1., 1., 1.]])"
      ]
     },
     "execution_count": 22,
     "metadata": {},
     "output_type": "execute_result"
    }
   ],
   "source": [
    "np.ones((3,4)) #Matrix with 3x4 filled with all 1s\n"
   ]
  },
  {
   "cell_type": "code",
   "execution_count": 23,
   "metadata": {},
   "outputs": [
    {
     "data": {
      "text/plain": [
       "array([[0., 0., 0., 0.],\n",
       "       [0., 0., 0., 0.],\n",
       "       [0., 0., 0., 0.]])"
      ]
     },
     "execution_count": 23,
     "metadata": {},
     "output_type": "execute_result"
    }
   ],
   "source": [
    "np.zeros((3,4)) #Matrix with 3x4 filled with all 0"
   ]
  },
  {
   "cell_type": "code",
   "execution_count": 24,
   "metadata": {},
   "outputs": [
    {
     "data": {
      "text/plain": [
       "array([[1., 0., 0., 0.],\n",
       "       [0., 1., 0., 0.],\n",
       "       [0., 0., 1., 0.],\n",
       "       [0., 0., 0., 1.]])"
      ]
     },
     "execution_count": 24,
     "metadata": {},
     "output_type": "execute_result"
    }
   ],
   "source": [
    "np.eye(4)"
   ]
  },
  {
   "cell_type": "code",
   "execution_count": null,
   "metadata": {},
   "outputs": [
    {
     "name": "stdout",
     "output_type": "stream",
     "text": [
      "int64\n",
      "(5,)\n",
      "1\n",
      "8\n",
      "5\n",
      "40\n",
      "[1 2 3 4 5]\n",
      "[[1]\n",
      " [2]\n",
      " [3]\n",
      " [4]\n",
      " [5]]\n",
      "[[1 2 3 4 5]]\n",
      "(5, 1)\n",
      "2\n",
      "8\n",
      "5\n",
      "40\n",
      "[[1 2 3 4 5]]\n"
     ]
    }
   ],
   "source": [
    "# Atteributes of NumpyArray\n",
    "\n",
    "print(arr1.dtype)\n",
    "print(arr1.shape)\n",
    "print(arr1.ndim)\n",
    "print(arr1.itemsize)\n",
    "print(arr1.size)\n",
    "print(arr1.nbytes) #Total bytes used by the array\n",
    "print(arr1.T) #Transpose of the array\n",
    "print(arr1.reshape(5,1)) #Reshape the array to 5 rows and 1 column\n",
    "print(arr1.reshape(1,5)) #Reshape the array to 1 row and 5 columns\n",
    "print(arr1.reshape(5,1).shape) #Shape of the reshaped array\n",
    "print(arr1.reshape(5,1).ndim) #Number of dimensions of the reshaped array\n",
    "print(arr1.reshape(5,1).itemsize) #Size of each element in the reshaped array\n",
    "print(arr1.reshape(5,1).size) #Total number of elements in the reshaped array\n",
    "print(arr1.reshape(5,1).nbytes) #Total bytes used by the reshaped array\n",
    "print(arr1.reshape(5,1).T) #Transpose of the reshaped array\n"
   ]
  },
  {
   "cell_type": "code",
   "execution_count": null,
   "metadata": {},
   "outputs": [],
   "source": [
    "# Vectorisation operations "
   ]
  },
  {
   "cell_type": "code",
   "execution_count": 33,
   "metadata": {},
   "outputs": [
    {
     "name": "stdout",
     "output_type": "stream",
     "text": [
      "[ 7  9 11 13 15]\n",
      "[ -6  -7  -8  -9 -10]\n",
      "[ 7 18 33 52 75]\n",
      "[0.14285714 0.22222222 0.27272727 0.30769231 0.33333333]\n"
     ]
    }
   ],
   "source": [
    "arr4=np.array([1,2,3,4,5])\n",
    "arr5=np.array([6,7,8,9,10])\n",
    "\n",
    "arr5=arr4+arr5 #Element wise addition\n",
    "print(arr5)\n",
    "\n",
    "arr6=arr4-arr5 #Element wise Substraction\n",
    "print(arr6)\n",
    "\n",
    "arr7=arr4*arr5 #Element wise Multiplication\n",
    "print(arr7)\n",
    "\n",
    "arr8=arr4/arr5 #Element wise Divisiom\n",
    "print(arr8)"
   ]
  },
  {
   "cell_type": "code",
   "execution_count": 34,
   "id": "0d497b8c",
   "metadata": {},
   "outputs": [
    {
     "name": "stdout",
     "output_type": "stream",
     "text": [
      "[1.         1.41421356 1.73205081 2.         2.23606798]\n",
      "[  2.71828183   7.3890561   20.08553692  54.59815003 148.4131591 ]\n",
      "[0.         0.69314718 1.09861229 1.38629436 1.60943791]\n",
      "[ 0.84147098  0.90929743  0.14112001 -0.7568025  -0.95892427]\n",
      "[ 0.54030231 -0.41614684 -0.9899925  -0.65364362  0.28366219]\n",
      "[ 1.55740772 -2.18503986 -0.14254654  1.15782128 -3.38051501]\n"
     ]
    }
   ],
   "source": [
    "# Universal functions\n",
    "\n",
    "arr=np.array([1,2,3,4,5])\n",
    "\n",
    "print(np.sqrt(arr))\n",
    "print(np.exp(arr))\n",
    "print(np.log(arr))\n",
    "print(np.sin(arr))\n",
    "print(np.cos(arr))\n",
    "print(np.tan(arr))"
   ]
  },
  {
   "cell_type": "code",
   "execution_count": 41,
   "id": "1ffacad8",
   "metadata": {},
   "outputs": [
    {
     "name": "stdout",
     "output_type": "stream",
     "text": [
      "[[ 1  2  3  4  5]\n",
      " [ 6  7  8  9 10]\n",
      " [11 12 13 14 15]\n",
      " [16 17 18 19 20]]\n",
      "7\n",
      "8\n",
      "9\n",
      "[[10]\n",
      " [15]\n",
      " [20]]\n",
      "15\n",
      "[[1 2 3]\n",
      " [6 7 8]]\n"
     ]
    }
   ],
   "source": [
    "# Array Sliceing and indexing\n",
    "\n",
    "arr9=np.array([[1,2,3,4,5],[6,7,8,9,10],[11,12,13,14,15],[16,17,18,19,20]])\n",
    "print(arr9)\n",
    "print(arr9[1,1])\n",
    "print(arr9[1,2])\n",
    "print(arr9[1,3])\n",
    "print(arr9[1:,4:])\n",
    "print(arr9[2,4])\n",
    "print(arr9[0:2,0:3])\n"
   ]
  },
  {
   "cell_type": "code",
   "execution_count": 42,
   "id": "efcf7785",
   "metadata": {},
   "outputs": [
    {
     "name": "stdout",
     "output_type": "stream",
     "text": [
      "[[100   2   3   4   5]\n",
      " [  6   7   8   9  10]\n",
      " [ 11  12  13  14  15]\n",
      " [ 16  17  18  19  20]]\n"
     ]
    }
   ],
   "source": [
    "# Modify array elements\n",
    "arr9[0,0]=100\n",
    "print(arr9)"
   ]
  },
  {
   "cell_type": "code",
   "execution_count": 43,
   "id": "a1ea6aa4",
   "metadata": {},
   "outputs": [
    {
     "name": "stdout",
     "output_type": "stream",
     "text": [
      "5.0\n",
      "2.581988897471611\n",
      "[[-1.54919334 -1.161895   -0.77459667]\n",
      " [-0.38729833  0.          0.38729833]\n",
      " [ 0.77459667  1.161895    1.54919334]]\n"
     ]
    }
   ],
   "source": [
    "# Normalization of array\n",
    "arr10=np.array([[1,2,3],[4,5,6],[7,8,9]])\n",
    "mean=np.mean(arr10)\n",
    "print(mean)\n",
    "std=np.std(arr10)\n",
    "print(std)\n",
    "normalized_arr=(arr10-mean)/std\n",
    "print(normalized_arr)\n"
   ]
  },
  {
   "cell_type": "code",
   "execution_count": 48,
   "id": "ea755ca0",
   "metadata": {},
   "outputs": [],
   "source": [
    "# Logical Operations\n",
    "\n",
    "arr11=np.array([1,2,3,4,5,6])\n",
    "# arr11[(arr11>3)  (arr11<2)]"
   ]
  }
 ],
 "metadata": {
  "kernelspec": {
   "display_name": "Python 3",
   "language": "python",
   "name": "python3"
  },
  "language_info": {
   "codemirror_mode": {
    "name": "ipython",
    "version": 3
   },
   "file_extension": ".py",
   "mimetype": "text/x-python",
   "name": "python",
   "nbconvert_exporter": "python",
   "pygments_lexer": "ipython3",
   "version": "3.10.0"
  }
 },
 "nbformat": 4,
 "nbformat_minor": 5
}
