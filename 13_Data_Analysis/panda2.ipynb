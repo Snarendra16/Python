{
 "cells": [
  {
   "cell_type": "markdown",
   "id": "217c8dd4",
   "metadata": {},
   "source": [
    "### Pandas part II"
   ]
  },
  {
   "cell_type": "code",
   "execution_count": 2,
   "id": "2c253936",
   "metadata": {},
   "outputs": [
    {
     "name": "stdout",
     "output_type": "stream",
     "text": [
      "Requirement already satisfied: pandas in f:\\courses\\ds,ml,dl,nlp\\code\\venv\\lib\\site-packages (2.2.3)\n",
      "Requirement already satisfied: numpy>=1.22.4 in f:\\courses\\ds,ml,dl,nlp\\code\\venv\\lib\\site-packages (from pandas) (2.2.6)\n",
      "Requirement already satisfied: python-dateutil>=2.8.2 in f:\\courses\\ds,ml,dl,nlp\\code\\venv\\lib\\site-packages (from pandas) (2.9.0.post0)\n",
      "Requirement already satisfied: pytz>=2020.1 in f:\\courses\\ds,ml,dl,nlp\\code\\venv\\lib\\site-packages (from pandas) (2025.2)\n",
      "Requirement already satisfied: tzdata>=2022.7 in f:\\courses\\ds,ml,dl,nlp\\code\\venv\\lib\\site-packages (from pandas) (2025.2)\n",
      "Requirement already satisfied: six>=1.5 in f:\\courses\\ds,ml,dl,nlp\\code\\venv\\lib\\site-packages (from python-dateutil>=2.8.2->pandas) (1.17.0)\n"
     ]
    }
   ],
   "source": [
    "!pip install pandas"
   ]
  },
  {
   "cell_type": "code",
   "execution_count": 3,
   "id": "87c5aef8",
   "metadata": {},
   "outputs": [],
   "source": [
    "import pandas as pd"
   ]
  },
  {
   "cell_type": "code",
   "execution_count": 4,
   "id": "cb4498ae",
   "metadata": {},
   "outputs": [],
   "source": [
    "df=pd.read_csv('test1.csv')"
   ]
  },
  {
   "cell_type": "code",
   "execution_count": 5,
   "metadata": {},
   "outputs": [
    {
     "data": {
      "application/vnd.microsoft.datawrangler.viewer.v0+json": {
       "columns": [
        {
         "name": "index",
         "rawType": "int64",
         "type": "integer"
        },
        {
         "name": "5.1",
         "rawType": "float64",
         "type": "float"
        },
        {
         "name": "3.5",
         "rawType": "float64",
         "type": "float"
        },
        {
         "name": "1.4",
         "rawType": "float64",
         "type": "float"
        },
        {
         "name": "0.2",
         "rawType": "float64",
         "type": "float"
        },
        {
         "name": "0",
         "rawType": "int64",
         "type": "integer"
        }
       ],
       "ref": "1ba234c7-dd53-45e0-8198-2f4586c9372c",
       "rows": [
        [
         "0",
         "4.9",
         "3.0",
         "1.4",
         "0.2",
         "0"
        ],
        [
         "1",
         "4.7",
         "3.2",
         "1.3",
         "0.2",
         "0"
        ],
        [
         "2",
         "4.6",
         "3.1",
         "1.5",
         "0.2",
         "0"
        ],
        [
         "3",
         "5.0",
         "3.6",
         "1.4",
         "0.2",
         "0"
        ],
        [
         "4",
         "5.4",
         null,
         "1.7",
         "0.4",
         "0"
        ],
        [
         "5",
         "4.6",
         "3.4",
         "1.4",
         "0.3",
         "0"
        ],
        [
         "6",
         "5.0",
         "3.4",
         "1.5",
         "0.2",
         "0"
        ],
        [
         "7",
         "4.4",
         "2.9",
         "1.4",
         "0.2",
         "0"
        ],
        [
         "8",
         "4.9",
         "3.1",
         "1.5",
         "0.1",
         "0"
        ],
        [
         "9",
         "5.4",
         "3.7",
         "1.5",
         "0.2",
         "0"
        ],
        [
         "10",
         "4.8",
         "3.4",
         "1.6",
         "0.2",
         "0"
        ],
        [
         "11",
         "4.8",
         "3.0",
         "1.4",
         "0.1",
         "0"
        ],
        [
         "12",
         "4.3",
         "3.0",
         "1.1",
         "0.1",
         "0"
        ],
        [
         "13",
         "5.8",
         "4.0",
         "1.2",
         "0.2",
         "0"
        ],
        [
         "14",
         "5.7",
         "4.4",
         "1.5",
         "0.4",
         "0"
        ],
        [
         "15",
         "5.4",
         "3.9",
         "1.3",
         "0.4",
         "0"
        ],
        [
         "16",
         "5.1",
         "3.5",
         "1.4",
         "0.3",
         "0"
        ],
        [
         "17",
         "5.7",
         "3.8",
         "1.7",
         "0.3",
         "0"
        ],
        [
         "18",
         "5.1",
         "3.8",
         "1.5",
         "0.3",
         "0"
        ],
        [
         "19",
         "5.4",
         "3.4",
         "1.7",
         "0.2",
         "0"
        ],
        [
         "20",
         "5.1",
         "3.7",
         "1.5",
         "0.4",
         "0"
        ],
        [
         "21",
         "4.6",
         "3.6",
         "1.0",
         "0.2",
         "0"
        ],
        [
         "22",
         "5.1",
         "3.3",
         "1.7",
         "0.5",
         "0"
        ],
        [
         "23",
         "4.8",
         "3.4",
         "1.9",
         "0.2",
         "0"
        ],
        [
         "24",
         "5.0",
         "3.0",
         "1.6",
         "0.2",
         "0"
        ],
        [
         "25",
         "5.0",
         "3.4",
         "1.6",
         "0.4",
         "0"
        ],
        [
         "26",
         "5.2",
         "3.5",
         "1.5",
         "0.2",
         "0"
        ],
        [
         "27",
         "5.2",
         "3.4",
         "1.4",
         "0.2",
         "0"
        ],
        [
         "28",
         "4.7",
         "3.2",
         "1.6",
         "0.2",
         "0"
        ],
        [
         "29",
         "4.8",
         "3.1",
         "1.6",
         "0.2",
         "0"
        ],
        [
         "30",
         "5.4",
         "3.4",
         "1.5",
         "0.4",
         "0"
        ],
        [
         "31",
         "5.2",
         "4.1",
         "1.5",
         "0.1",
         "0"
        ],
        [
         "32",
         "5.5",
         "4.2",
         "1.4",
         "0.2",
         "0"
        ],
        [
         "33",
         "4.9",
         "3.1",
         "1.5",
         "0.1",
         "0"
        ],
        [
         "34",
         "5.0",
         "3.2",
         "1.2",
         "0.2",
         "0"
        ],
        [
         "35",
         "5.5",
         "3.5",
         "1.3",
         "0.2",
         "0"
        ],
        [
         "36",
         "4.9",
         "3.1",
         "1.5",
         "0.1",
         "0"
        ],
        [
         "37",
         "4.4",
         "3.0",
         "1.3",
         "0.2",
         "0"
        ],
        [
         "38",
         "5.1",
         "3.4",
         "1.5",
         "0.2",
         "0"
        ],
        [
         "39",
         "5.0",
         "3.5",
         "1.3",
         "0.3",
         "0"
        ],
        [
         "40",
         "4.5",
         "2.3",
         "1.3",
         "0.3",
         "0"
        ],
        [
         "41",
         "4.4",
         "3.2",
         "1.3",
         "0.2",
         "0"
        ],
        [
         "42",
         "5.0",
         "3.5",
         "1.6",
         "0.6",
         "0"
        ],
        [
         "43",
         "5.1",
         "3.8",
         "1.9",
         "0.4",
         "0"
        ],
        [
         "44",
         "4.8",
         "3.0",
         "1.4",
         "0.3",
         "0"
        ],
        [
         "45",
         "5.1",
         "3.8",
         "1.6",
         "0.2",
         "0"
        ],
        [
         "46",
         "4.6",
         "3.2",
         "1.4",
         "0.2",
         "0"
        ],
        [
         "47",
         "5.3",
         "3.7",
         "1.5",
         "0.2",
         "0"
        ],
        [
         "48",
         "5.0",
         "3.3",
         "1.4",
         "0.2",
         "0"
        ],
        [
         "49",
         "7.0",
         "3.2",
         "4.7",
         "1.4",
         "1"
        ]
       ],
       "shape": {
        "columns": 5,
        "rows": 149
       }
      },
      "text/html": [
       "<div>\n",
       "<style scoped>\n",
       "    .dataframe tbody tr th:only-of-type {\n",
       "        vertical-align: middle;\n",
       "    }\n",
       "\n",
       "    .dataframe tbody tr th {\n",
       "        vertical-align: top;\n",
       "    }\n",
       "\n",
       "    .dataframe thead th {\n",
       "        text-align: right;\n",
       "    }\n",
       "</style>\n",
       "<table border=\"1\" class=\"dataframe\">\n",
       "  <thead>\n",
       "    <tr style=\"text-align: right;\">\n",
       "      <th></th>\n",
       "      <th>5.1</th>\n",
       "      <th>3.5</th>\n",
       "      <th>1.4</th>\n",
       "      <th>0.2</th>\n",
       "      <th>0</th>\n",
       "    </tr>\n",
       "  </thead>\n",
       "  <tbody>\n",
       "    <tr>\n",
       "      <th>0</th>\n",
       "      <td>4.9</td>\n",
       "      <td>3.0</td>\n",
       "      <td>1.4</td>\n",
       "      <td>0.2</td>\n",
       "      <td>0</td>\n",
       "    </tr>\n",
       "    <tr>\n",
       "      <th>1</th>\n",
       "      <td>4.7</td>\n",
       "      <td>3.2</td>\n",
       "      <td>1.3</td>\n",
       "      <td>0.2</td>\n",
       "      <td>0</td>\n",
       "    </tr>\n",
       "    <tr>\n",
       "      <th>2</th>\n",
       "      <td>4.6</td>\n",
       "      <td>3.1</td>\n",
       "      <td>1.5</td>\n",
       "      <td>0.2</td>\n",
       "      <td>0</td>\n",
       "    </tr>\n",
       "    <tr>\n",
       "      <th>3</th>\n",
       "      <td>5.0</td>\n",
       "      <td>3.6</td>\n",
       "      <td>1.4</td>\n",
       "      <td>0.2</td>\n",
       "      <td>0</td>\n",
       "    </tr>\n",
       "    <tr>\n",
       "      <th>4</th>\n",
       "      <td>5.4</td>\n",
       "      <td>NaN</td>\n",
       "      <td>1.7</td>\n",
       "      <td>0.4</td>\n",
       "      <td>0</td>\n",
       "    </tr>\n",
       "    <tr>\n",
       "      <th>...</th>\n",
       "      <td>...</td>\n",
       "      <td>...</td>\n",
       "      <td>...</td>\n",
       "      <td>...</td>\n",
       "      <td>...</td>\n",
       "    </tr>\n",
       "    <tr>\n",
       "      <th>144</th>\n",
       "      <td>6.7</td>\n",
       "      <td>3.0</td>\n",
       "      <td>5.2</td>\n",
       "      <td>2.3</td>\n",
       "      <td>2</td>\n",
       "    </tr>\n",
       "    <tr>\n",
       "      <th>145</th>\n",
       "      <td>6.3</td>\n",
       "      <td>2.5</td>\n",
       "      <td>5.0</td>\n",
       "      <td>1.9</td>\n",
       "      <td>2</td>\n",
       "    </tr>\n",
       "    <tr>\n",
       "      <th>146</th>\n",
       "      <td>6.5</td>\n",
       "      <td>3.0</td>\n",
       "      <td>5.2</td>\n",
       "      <td>2.0</td>\n",
       "      <td>2</td>\n",
       "    </tr>\n",
       "    <tr>\n",
       "      <th>147</th>\n",
       "      <td>6.2</td>\n",
       "      <td>3.4</td>\n",
       "      <td>5.4</td>\n",
       "      <td>2.3</td>\n",
       "      <td>2</td>\n",
       "    </tr>\n",
       "    <tr>\n",
       "      <th>148</th>\n",
       "      <td>5.9</td>\n",
       "      <td>3.0</td>\n",
       "      <td>5.1</td>\n",
       "      <td>1.8</td>\n",
       "      <td>2</td>\n",
       "    </tr>\n",
       "  </tbody>\n",
       "</table>\n",
       "<p>149 rows × 5 columns</p>\n",
       "</div>"
      ],
      "text/plain": [
       "     5.1  3.5  1.4  0.2  0\n",
       "0    4.9  3.0  1.4  0.2  0\n",
       "1    4.7  3.2  1.3  0.2  0\n",
       "2    4.6  3.1  1.5  0.2  0\n",
       "3    5.0  3.6  1.4  0.2  0\n",
       "4    5.4  NaN  1.7  0.4  0\n",
       "..   ...  ...  ...  ... ..\n",
       "144  6.7  3.0  5.2  2.3  2\n",
       "145  6.3  2.5  5.0  1.9  2\n",
       "146  6.5  3.0  5.2  2.0  2\n",
       "147  6.2  3.4  5.4  2.3  2\n",
       "148  5.9  3.0  5.1  1.8  2\n",
       "\n",
       "[149 rows x 5 columns]"
      ]
     },
     "execution_count": 5,
     "metadata": {},
     "output_type": "execute_result"
    }
   ],
   "source": [
    "df"
   ]
  },
  {
   "cell_type": "code",
   "execution_count": 6,
   "id": "073e644e",
   "metadata": {},
   "outputs": [
    {
     "data": {
      "application/vnd.microsoft.datawrangler.viewer.v0+json": {
       "columns": [
        {
         "name": "index",
         "rawType": "int64",
         "type": "integer"
        },
        {
         "name": "5.1",
         "rawType": "float64",
         "type": "float"
        },
        {
         "name": "3.5",
         "rawType": "float64",
         "type": "float"
        },
        {
         "name": "1.4",
         "rawType": "float64",
         "type": "float"
        },
        {
         "name": "0.2",
         "rawType": "float64",
         "type": "float"
        },
        {
         "name": "0",
         "rawType": "int64",
         "type": "integer"
        }
       ],
       "ref": "9a58e627-12c1-471e-9326-f7e6bec16871",
       "rows": [
        [
         "0",
         "4.9",
         "3.0",
         "1.4",
         "0.2",
         "0"
        ],
        [
         "1",
         "4.7",
         "3.2",
         "1.3",
         "0.2",
         "0"
        ],
        [
         "2",
         "4.6",
         "3.1",
         "1.5",
         "0.2",
         "0"
        ],
        [
         "3",
         "5.0",
         "3.6",
         "1.4",
         "0.2",
         "0"
        ],
        [
         "4",
         "5.4",
         null,
         "1.7",
         "0.4",
         "0"
        ]
       ],
       "shape": {
        "columns": 5,
        "rows": 5
       }
      },
      "text/html": [
       "<div>\n",
       "<style scoped>\n",
       "    .dataframe tbody tr th:only-of-type {\n",
       "        vertical-align: middle;\n",
       "    }\n",
       "\n",
       "    .dataframe tbody tr th {\n",
       "        vertical-align: top;\n",
       "    }\n",
       "\n",
       "    .dataframe thead th {\n",
       "        text-align: right;\n",
       "    }\n",
       "</style>\n",
       "<table border=\"1\" class=\"dataframe\">\n",
       "  <thead>\n",
       "    <tr style=\"text-align: right;\">\n",
       "      <th></th>\n",
       "      <th>5.1</th>\n",
       "      <th>3.5</th>\n",
       "      <th>1.4</th>\n",
       "      <th>0.2</th>\n",
       "      <th>0</th>\n",
       "    </tr>\n",
       "  </thead>\n",
       "  <tbody>\n",
       "    <tr>\n",
       "      <th>0</th>\n",
       "      <td>4.9</td>\n",
       "      <td>3.0</td>\n",
       "      <td>1.4</td>\n",
       "      <td>0.2</td>\n",
       "      <td>0</td>\n",
       "    </tr>\n",
       "    <tr>\n",
       "      <th>1</th>\n",
       "      <td>4.7</td>\n",
       "      <td>3.2</td>\n",
       "      <td>1.3</td>\n",
       "      <td>0.2</td>\n",
       "      <td>0</td>\n",
       "    </tr>\n",
       "    <tr>\n",
       "      <th>2</th>\n",
       "      <td>4.6</td>\n",
       "      <td>3.1</td>\n",
       "      <td>1.5</td>\n",
       "      <td>0.2</td>\n",
       "      <td>0</td>\n",
       "    </tr>\n",
       "    <tr>\n",
       "      <th>3</th>\n",
       "      <td>5.0</td>\n",
       "      <td>3.6</td>\n",
       "      <td>1.4</td>\n",
       "      <td>0.2</td>\n",
       "      <td>0</td>\n",
       "    </tr>\n",
       "    <tr>\n",
       "      <th>4</th>\n",
       "      <td>5.4</td>\n",
       "      <td>NaN</td>\n",
       "      <td>1.7</td>\n",
       "      <td>0.4</td>\n",
       "      <td>0</td>\n",
       "    </tr>\n",
       "  </tbody>\n",
       "</table>\n",
       "</div>"
      ],
      "text/plain": [
       "   5.1  3.5  1.4  0.2  0\n",
       "0  4.9  3.0  1.4  0.2  0\n",
       "1  4.7  3.2  1.3  0.2  0\n",
       "2  4.6  3.1  1.5  0.2  0\n",
       "3  5.0  3.6  1.4  0.2  0\n",
       "4  5.4  NaN  1.7  0.4  0"
      ]
     },
     "execution_count": 6,
     "metadata": {},
     "output_type": "execute_result"
    }
   ],
   "source": [
    "df.head(5)"
   ]
  },
  {
   "cell_type": "code",
   "execution_count": 7,
   "metadata": {},
   "outputs": [
    {
     "data": {
      "application/vnd.microsoft.datawrangler.viewer.v0+json": {
       "columns": [
        {
         "name": "index",
         "rawType": "object",
         "type": "string"
        },
        {
         "name": "5.1",
         "rawType": "float64",
         "type": "float"
        },
        {
         "name": "3.5",
         "rawType": "float64",
         "type": "float"
        },
        {
         "name": "1.4",
         "rawType": "float64",
         "type": "float"
        },
        {
         "name": "0.2",
         "rawType": "float64",
         "type": "float"
        },
        {
         "name": "0",
         "rawType": "float64",
         "type": "float"
        }
       ],
       "ref": "828dbf9a-a4da-44d2-be71-082f5595c882",
       "rows": [
        [
         "count",
         "149.0",
         "148.0",
         "149.0",
         "149.0",
         "149.0"
        ],
        [
         "mean",
         "5.8483221476510066",
         "3.0452702702702705",
         "3.774496644295302",
         "1.2053691275167786",
         "1.0067114093959733"
        ],
        [
         "std",
         "0.8285940572656173",
         "0.42925888664440226",
         "1.7596511617753423",
         "0.7612920413899603",
         "0.8178469120551446"
        ],
        [
         "min",
         "4.3",
         "2.0",
         "1.0",
         "0.1",
         "0.0"
        ],
        [
         "25%",
         "5.1",
         "2.8",
         "1.6",
         "0.3",
         "0.0"
        ],
        [
         "50%",
         "5.8",
         "3.0",
         "4.4",
         "1.3",
         "1.0"
        ],
        [
         "75%",
         "6.4",
         "3.3",
         "5.1",
         "1.8",
         "2.0"
        ],
        [
         "max",
         "7.9",
         "4.4",
         "6.9",
         "2.5",
         "2.0"
        ]
       ],
       "shape": {
        "columns": 5,
        "rows": 8
       }
      },
      "text/html": [
       "<div>\n",
       "<style scoped>\n",
       "    .dataframe tbody tr th:only-of-type {\n",
       "        vertical-align: middle;\n",
       "    }\n",
       "\n",
       "    .dataframe tbody tr th {\n",
       "        vertical-align: top;\n",
       "    }\n",
       "\n",
       "    .dataframe thead th {\n",
       "        text-align: right;\n",
       "    }\n",
       "</style>\n",
       "<table border=\"1\" class=\"dataframe\">\n",
       "  <thead>\n",
       "    <tr style=\"text-align: right;\">\n",
       "      <th></th>\n",
       "      <th>5.1</th>\n",
       "      <th>3.5</th>\n",
       "      <th>1.4</th>\n",
       "      <th>0.2</th>\n",
       "      <th>0</th>\n",
       "    </tr>\n",
       "  </thead>\n",
       "  <tbody>\n",
       "    <tr>\n",
       "      <th>count</th>\n",
       "      <td>149.000000</td>\n",
       "      <td>148.000000</td>\n",
       "      <td>149.000000</td>\n",
       "      <td>149.000000</td>\n",
       "      <td>149.000000</td>\n",
       "    </tr>\n",
       "    <tr>\n",
       "      <th>mean</th>\n",
       "      <td>5.848322</td>\n",
       "      <td>3.045270</td>\n",
       "      <td>3.774497</td>\n",
       "      <td>1.205369</td>\n",
       "      <td>1.006711</td>\n",
       "    </tr>\n",
       "    <tr>\n",
       "      <th>std</th>\n",
       "      <td>0.828594</td>\n",
       "      <td>0.429259</td>\n",
       "      <td>1.759651</td>\n",
       "      <td>0.761292</td>\n",
       "      <td>0.817847</td>\n",
       "    </tr>\n",
       "    <tr>\n",
       "      <th>min</th>\n",
       "      <td>4.300000</td>\n",
       "      <td>2.000000</td>\n",
       "      <td>1.000000</td>\n",
       "      <td>0.100000</td>\n",
       "      <td>0.000000</td>\n",
       "    </tr>\n",
       "    <tr>\n",
       "      <th>25%</th>\n",
       "      <td>5.100000</td>\n",
       "      <td>2.800000</td>\n",
       "      <td>1.600000</td>\n",
       "      <td>0.300000</td>\n",
       "      <td>0.000000</td>\n",
       "    </tr>\n",
       "    <tr>\n",
       "      <th>50%</th>\n",
       "      <td>5.800000</td>\n",
       "      <td>3.000000</td>\n",
       "      <td>4.400000</td>\n",
       "      <td>1.300000</td>\n",
       "      <td>1.000000</td>\n",
       "    </tr>\n",
       "    <tr>\n",
       "      <th>75%</th>\n",
       "      <td>6.400000</td>\n",
       "      <td>3.300000</td>\n",
       "      <td>5.100000</td>\n",
       "      <td>1.800000</td>\n",
       "      <td>2.000000</td>\n",
       "    </tr>\n",
       "    <tr>\n",
       "      <th>max</th>\n",
       "      <td>7.900000</td>\n",
       "      <td>4.400000</td>\n",
       "      <td>6.900000</td>\n",
       "      <td>2.500000</td>\n",
       "      <td>2.000000</td>\n",
       "    </tr>\n",
       "  </tbody>\n",
       "</table>\n",
       "</div>"
      ],
      "text/plain": [
       "              5.1         3.5         1.4         0.2           0\n",
       "count  149.000000  148.000000  149.000000  149.000000  149.000000\n",
       "mean     5.848322    3.045270    3.774497    1.205369    1.006711\n",
       "std      0.828594    0.429259    1.759651    0.761292    0.817847\n",
       "min      4.300000    2.000000    1.000000    0.100000    0.000000\n",
       "25%      5.100000    2.800000    1.600000    0.300000    0.000000\n",
       "50%      5.800000    3.000000    4.400000    1.300000    1.000000\n",
       "75%      6.400000    3.300000    5.100000    1.800000    2.000000\n",
       "max      7.900000    4.400000    6.900000    2.500000    2.000000"
      ]
     },
     "execution_count": 7,
     "metadata": {},
     "output_type": "execute_result"
    }
   ],
   "source": [
    "df.describe()"
   ]
  },
  {
   "cell_type": "code",
   "execution_count": 8,
   "id": "18c6398e",
   "metadata": {},
   "outputs": [
    {
     "data": {
      "application/vnd.microsoft.datawrangler.viewer.v0+json": {
       "columns": [
        {
         "name": "index",
         "rawType": "object",
         "type": "string"
        },
        {
         "name": "0",
         "rawType": "object",
         "type": "unknown"
        }
       ],
       "ref": "1c6689e4-22a9-4ebc-bcdb-043772b3db42",
       "rows": [
        [
         "5.1",
         "float64"
        ],
        [
         "3.5",
         "float64"
        ],
        [
         "1.4",
         "float64"
        ],
        [
         "0.2",
         "float64"
        ],
        [
         "0",
         "int64"
        ]
       ],
       "shape": {
        "columns": 1,
        "rows": 5
       }
      },
      "text/plain": [
       "5.1    float64\n",
       "3.5    float64\n",
       "1.4    float64\n",
       "0.2    float64\n",
       "0        int64\n",
       "dtype: object"
      ]
     },
     "execution_count": 8,
     "metadata": {},
     "output_type": "execute_result"
    }
   ],
   "source": [
    "df.dtypes"
   ]
  },
  {
   "cell_type": "code",
   "execution_count": 9,
   "id": "68b25924",
   "metadata": {},
   "outputs": [
    {
     "data": {
      "application/vnd.microsoft.datawrangler.viewer.v0+json": {
       "columns": [
        {
         "name": "index",
         "rawType": "int64",
         "type": "integer"
        },
        {
         "name": "5.1",
         "rawType": "bool",
         "type": "boolean"
        },
        {
         "name": "3.5",
         "rawType": "bool",
         "type": "boolean"
        },
        {
         "name": "1.4",
         "rawType": "bool",
         "type": "boolean"
        },
        {
         "name": "0.2",
         "rawType": "bool",
         "type": "boolean"
        },
        {
         "name": "0",
         "rawType": "bool",
         "type": "boolean"
        }
       ],
       "ref": "5be13eaa-bb5d-47ac-a266-ba54e20cb1fa",
       "rows": [
        [
         "0",
         "False",
         "False",
         "False",
         "False",
         "False"
        ],
        [
         "1",
         "False",
         "False",
         "False",
         "False",
         "False"
        ],
        [
         "2",
         "False",
         "False",
         "False",
         "False",
         "False"
        ],
        [
         "3",
         "False",
         "False",
         "False",
         "False",
         "False"
        ],
        [
         "4",
         "False",
         "True",
         "False",
         "False",
         "False"
        ],
        [
         "5",
         "False",
         "False",
         "False",
         "False",
         "False"
        ],
        [
         "6",
         "False",
         "False",
         "False",
         "False",
         "False"
        ],
        [
         "7",
         "False",
         "False",
         "False",
         "False",
         "False"
        ],
        [
         "8",
         "False",
         "False",
         "False",
         "False",
         "False"
        ],
        [
         "9",
         "False",
         "False",
         "False",
         "False",
         "False"
        ],
        [
         "10",
         "False",
         "False",
         "False",
         "False",
         "False"
        ],
        [
         "11",
         "False",
         "False",
         "False",
         "False",
         "False"
        ],
        [
         "12",
         "False",
         "False",
         "False",
         "False",
         "False"
        ],
        [
         "13",
         "False",
         "False",
         "False",
         "False",
         "False"
        ],
        [
         "14",
         "False",
         "False",
         "False",
         "False",
         "False"
        ],
        [
         "15",
         "False",
         "False",
         "False",
         "False",
         "False"
        ],
        [
         "16",
         "False",
         "False",
         "False",
         "False",
         "False"
        ],
        [
         "17",
         "False",
         "False",
         "False",
         "False",
         "False"
        ],
        [
         "18",
         "False",
         "False",
         "False",
         "False",
         "False"
        ],
        [
         "19",
         "False",
         "False",
         "False",
         "False",
         "False"
        ],
        [
         "20",
         "False",
         "False",
         "False",
         "False",
         "False"
        ],
        [
         "21",
         "False",
         "False",
         "False",
         "False",
         "False"
        ],
        [
         "22",
         "False",
         "False",
         "False",
         "False",
         "False"
        ],
        [
         "23",
         "False",
         "False",
         "False",
         "False",
         "False"
        ],
        [
         "24",
         "False",
         "False",
         "False",
         "False",
         "False"
        ],
        [
         "25",
         "False",
         "False",
         "False",
         "False",
         "False"
        ],
        [
         "26",
         "False",
         "False",
         "False",
         "False",
         "False"
        ],
        [
         "27",
         "False",
         "False",
         "False",
         "False",
         "False"
        ],
        [
         "28",
         "False",
         "False",
         "False",
         "False",
         "False"
        ],
        [
         "29",
         "False",
         "False",
         "False",
         "False",
         "False"
        ],
        [
         "30",
         "False",
         "False",
         "False",
         "False",
         "False"
        ],
        [
         "31",
         "False",
         "False",
         "False",
         "False",
         "False"
        ],
        [
         "32",
         "False",
         "False",
         "False",
         "False",
         "False"
        ],
        [
         "33",
         "False",
         "False",
         "False",
         "False",
         "False"
        ],
        [
         "34",
         "False",
         "False",
         "False",
         "False",
         "False"
        ],
        [
         "35",
         "False",
         "False",
         "False",
         "False",
         "False"
        ],
        [
         "36",
         "False",
         "False",
         "False",
         "False",
         "False"
        ],
        [
         "37",
         "False",
         "False",
         "False",
         "False",
         "False"
        ],
        [
         "38",
         "False",
         "False",
         "False",
         "False",
         "False"
        ],
        [
         "39",
         "False",
         "False",
         "False",
         "False",
         "False"
        ],
        [
         "40",
         "False",
         "False",
         "False",
         "False",
         "False"
        ],
        [
         "41",
         "False",
         "False",
         "False",
         "False",
         "False"
        ],
        [
         "42",
         "False",
         "False",
         "False",
         "False",
         "False"
        ],
        [
         "43",
         "False",
         "False",
         "False",
         "False",
         "False"
        ],
        [
         "44",
         "False",
         "False",
         "False",
         "False",
         "False"
        ],
        [
         "45",
         "False",
         "False",
         "False",
         "False",
         "False"
        ],
        [
         "46",
         "False",
         "False",
         "False",
         "False",
         "False"
        ],
        [
         "47",
         "False",
         "False",
         "False",
         "False",
         "False"
        ],
        [
         "48",
         "False",
         "False",
         "False",
         "False",
         "False"
        ],
        [
         "49",
         "False",
         "False",
         "False",
         "False",
         "False"
        ]
       ],
       "shape": {
        "columns": 5,
        "rows": 149
       }
      },
      "text/html": [
       "<div>\n",
       "<style scoped>\n",
       "    .dataframe tbody tr th:only-of-type {\n",
       "        vertical-align: middle;\n",
       "    }\n",
       "\n",
       "    .dataframe tbody tr th {\n",
       "        vertical-align: top;\n",
       "    }\n",
       "\n",
       "    .dataframe thead th {\n",
       "        text-align: right;\n",
       "    }\n",
       "</style>\n",
       "<table border=\"1\" class=\"dataframe\">\n",
       "  <thead>\n",
       "    <tr style=\"text-align: right;\">\n",
       "      <th></th>\n",
       "      <th>5.1</th>\n",
       "      <th>3.5</th>\n",
       "      <th>1.4</th>\n",
       "      <th>0.2</th>\n",
       "      <th>0</th>\n",
       "    </tr>\n",
       "  </thead>\n",
       "  <tbody>\n",
       "    <tr>\n",
       "      <th>0</th>\n",
       "      <td>False</td>\n",
       "      <td>False</td>\n",
       "      <td>False</td>\n",
       "      <td>False</td>\n",
       "      <td>False</td>\n",
       "    </tr>\n",
       "    <tr>\n",
       "      <th>1</th>\n",
       "      <td>False</td>\n",
       "      <td>False</td>\n",
       "      <td>False</td>\n",
       "      <td>False</td>\n",
       "      <td>False</td>\n",
       "    </tr>\n",
       "    <tr>\n",
       "      <th>2</th>\n",
       "      <td>False</td>\n",
       "      <td>False</td>\n",
       "      <td>False</td>\n",
       "      <td>False</td>\n",
       "      <td>False</td>\n",
       "    </tr>\n",
       "    <tr>\n",
       "      <th>3</th>\n",
       "      <td>False</td>\n",
       "      <td>False</td>\n",
       "      <td>False</td>\n",
       "      <td>False</td>\n",
       "      <td>False</td>\n",
       "    </tr>\n",
       "    <tr>\n",
       "      <th>4</th>\n",
       "      <td>False</td>\n",
       "      <td>True</td>\n",
       "      <td>False</td>\n",
       "      <td>False</td>\n",
       "      <td>False</td>\n",
       "    </tr>\n",
       "    <tr>\n",
       "      <th>...</th>\n",
       "      <td>...</td>\n",
       "      <td>...</td>\n",
       "      <td>...</td>\n",
       "      <td>...</td>\n",
       "      <td>...</td>\n",
       "    </tr>\n",
       "    <tr>\n",
       "      <th>144</th>\n",
       "      <td>False</td>\n",
       "      <td>False</td>\n",
       "      <td>False</td>\n",
       "      <td>False</td>\n",
       "      <td>False</td>\n",
       "    </tr>\n",
       "    <tr>\n",
       "      <th>145</th>\n",
       "      <td>False</td>\n",
       "      <td>False</td>\n",
       "      <td>False</td>\n",
       "      <td>False</td>\n",
       "      <td>False</td>\n",
       "    </tr>\n",
       "    <tr>\n",
       "      <th>146</th>\n",
       "      <td>False</td>\n",
       "      <td>False</td>\n",
       "      <td>False</td>\n",
       "      <td>False</td>\n",
       "      <td>False</td>\n",
       "    </tr>\n",
       "    <tr>\n",
       "      <th>147</th>\n",
       "      <td>False</td>\n",
       "      <td>False</td>\n",
       "      <td>False</td>\n",
       "      <td>False</td>\n",
       "      <td>False</td>\n",
       "    </tr>\n",
       "    <tr>\n",
       "      <th>148</th>\n",
       "      <td>False</td>\n",
       "      <td>False</td>\n",
       "      <td>False</td>\n",
       "      <td>False</td>\n",
       "      <td>False</td>\n",
       "    </tr>\n",
       "  </tbody>\n",
       "</table>\n",
       "<p>149 rows × 5 columns</p>\n",
       "</div>"
      ],
      "text/plain": [
       "       5.1    3.5    1.4    0.2      0\n",
       "0    False  False  False  False  False\n",
       "1    False  False  False  False  False\n",
       "2    False  False  False  False  False\n",
       "3    False  False  False  False  False\n",
       "4    False   True  False  False  False\n",
       "..     ...    ...    ...    ...    ...\n",
       "144  False  False  False  False  False\n",
       "145  False  False  False  False  False\n",
       "146  False  False  False  False  False\n",
       "147  False  False  False  False  False\n",
       "148  False  False  False  False  False\n",
       "\n",
       "[149 rows x 5 columns]"
      ]
     },
     "execution_count": 9,
     "metadata": {},
     "output_type": "execute_result"
    }
   ],
   "source": [
    "df.isnull()"
   ]
  },
  {
   "cell_type": "code",
   "execution_count": 10,
   "id": "e9c0b8cc",
   "metadata": {},
   "outputs": [
    {
     "data": {
      "application/vnd.microsoft.datawrangler.viewer.v0+json": {
       "columns": [
        {
         "name": "index",
         "rawType": "int64",
         "type": "integer"
        },
        {
         "name": "0",
         "rawType": "bool",
         "type": "boolean"
        }
       ],
       "ref": "bff649fa-ae5e-4854-b0bc-a939ea1a6ed8",
       "rows": [
        [
         "0",
         "False"
        ],
        [
         "1",
         "False"
        ],
        [
         "2",
         "False"
        ],
        [
         "3",
         "False"
        ],
        [
         "4",
         "True"
        ],
        [
         "5",
         "False"
        ],
        [
         "6",
         "False"
        ],
        [
         "7",
         "False"
        ],
        [
         "8",
         "False"
        ],
        [
         "9",
         "False"
        ],
        [
         "10",
         "False"
        ],
        [
         "11",
         "False"
        ],
        [
         "12",
         "False"
        ],
        [
         "13",
         "False"
        ],
        [
         "14",
         "False"
        ],
        [
         "15",
         "False"
        ],
        [
         "16",
         "False"
        ],
        [
         "17",
         "False"
        ],
        [
         "18",
         "False"
        ],
        [
         "19",
         "False"
        ],
        [
         "20",
         "False"
        ],
        [
         "21",
         "False"
        ],
        [
         "22",
         "False"
        ],
        [
         "23",
         "False"
        ],
        [
         "24",
         "False"
        ],
        [
         "25",
         "False"
        ],
        [
         "26",
         "False"
        ],
        [
         "27",
         "False"
        ],
        [
         "28",
         "False"
        ],
        [
         "29",
         "False"
        ],
        [
         "30",
         "False"
        ],
        [
         "31",
         "False"
        ],
        [
         "32",
         "False"
        ],
        [
         "33",
         "False"
        ],
        [
         "34",
         "False"
        ],
        [
         "35",
         "False"
        ],
        [
         "36",
         "False"
        ],
        [
         "37",
         "False"
        ],
        [
         "38",
         "False"
        ],
        [
         "39",
         "False"
        ],
        [
         "40",
         "False"
        ],
        [
         "41",
         "False"
        ],
        [
         "42",
         "False"
        ],
        [
         "43",
         "False"
        ],
        [
         "44",
         "False"
        ],
        [
         "45",
         "False"
        ],
        [
         "46",
         "False"
        ],
        [
         "47",
         "False"
        ],
        [
         "48",
         "False"
        ],
        [
         "49",
         "False"
        ]
       ],
       "shape": {
        "columns": 1,
        "rows": 149
       }
      },
      "text/plain": [
       "0      False\n",
       "1      False\n",
       "2      False\n",
       "3      False\n",
       "4       True\n",
       "       ...  \n",
       "144    False\n",
       "145    False\n",
       "146    False\n",
       "147    False\n",
       "148    False\n",
       "Length: 149, dtype: bool"
      ]
     },
     "execution_count": 10,
     "metadata": {},
     "output_type": "execute_result"
    }
   ],
   "source": [
    "df.isnull().any(axis=1)"
   ]
  },
  {
   "cell_type": "code",
   "execution_count": 11,
   "metadata": {},
   "outputs": [
    {
     "data": {
      "application/vnd.microsoft.datawrangler.viewer.v0+json": {
       "columns": [
        {
         "name": "index",
         "rawType": "object",
         "type": "string"
        },
        {
         "name": "0",
         "rawType": "bool",
         "type": "boolean"
        }
       ],
       "ref": "a7666863-3148-4ed9-b952-c98a004d989f",
       "rows": [
        [
         "5.1",
         "False"
        ],
        [
         "3.5",
         "True"
        ],
        [
         "1.4",
         "False"
        ],
        [
         "0.2",
         "False"
        ],
        [
         "0",
         "False"
        ]
       ],
       "shape": {
        "columns": 1,
        "rows": 5
       }
      },
      "text/plain": [
       "5.1    False\n",
       "3.5     True\n",
       "1.4    False\n",
       "0.2    False\n",
       "0      False\n",
       "dtype: bool"
      ]
     },
     "execution_count": 11,
     "metadata": {},
     "output_type": "execute_result"
    }
   ],
   "source": [
    "df.isnull().any()"
   ]
  },
  {
   "cell_type": "code",
   "execution_count": 12,
   "metadata": {},
   "outputs": [
    {
     "data": {
      "application/vnd.microsoft.datawrangler.viewer.v0+json": {
       "columns": [
        {
         "name": "index",
         "rawType": "object",
         "type": "string"
        },
        {
         "name": "0",
         "rawType": "int64",
         "type": "integer"
        }
       ],
       "ref": "0e38bcfd-77c9-4a24-a016-d4b066784278",
       "rows": [
        [
         "5.1",
         "0"
        ],
        [
         "3.5",
         "1"
        ],
        [
         "1.4",
         "0"
        ],
        [
         "0.2",
         "0"
        ],
        [
         "0",
         "0"
        ]
       ],
       "shape": {
        "columns": 1,
        "rows": 5
       }
      },
      "text/plain": [
       "5.1    0\n",
       "3.5    1\n",
       "1.4    0\n",
       "0.2    0\n",
       "0      0\n",
       "dtype: int64"
      ]
     },
     "execution_count": 12,
     "metadata": {},
     "output_type": "execute_result"
    }
   ],
   "source": [
    "df.isnull().sum()"
   ]
  },
  {
   "cell_type": "code",
   "execution_count": 17,
   "metadata": {},
   "outputs": [],
   "source": [
    "df['3.5_updated']=df['3.5'].fillna(df['3.5'].mean())"
   ]
  },
  {
   "cell_type": "code",
   "execution_count": 18,
   "metadata": {},
   "outputs": [
    {
     "data": {
      "application/vnd.microsoft.datawrangler.viewer.v0+json": {
       "columns": [
        {
         "name": "index",
         "rawType": "int64",
         "type": "integer"
        },
        {
         "name": "5.1",
         "rawType": "float64",
         "type": "float"
        },
        {
         "name": "3.5",
         "rawType": "float64",
         "type": "float"
        },
        {
         "name": "1.4",
         "rawType": "float64",
         "type": "float"
        },
        {
         "name": "0.2",
         "rawType": "float64",
         "type": "float"
        },
        {
         "name": "0",
         "rawType": "int64",
         "type": "integer"
        },
        {
         "name": "3.6",
         "rawType": "float64",
         "type": "float"
        },
        {
         "name": "3.5_updated",
         "rawType": "float64",
         "type": "float"
        }
       ],
       "ref": "610932c2-c164-4a9c-baaa-1fbafa15414e",
       "rows": [
        [
         "0",
         "4.9",
         "3.0",
         "1.4",
         "0.2",
         "0",
         "3.0",
         "3.0"
        ],
        [
         "1",
         "4.7",
         "3.2",
         "1.3",
         "0.2",
         "0",
         "3.2",
         "3.2"
        ],
        [
         "2",
         "4.6",
         "3.1",
         "1.5",
         "0.2",
         "0",
         "3.1",
         "3.1"
        ],
        [
         "3",
         "5.0",
         "3.6",
         "1.4",
         "0.2",
         "0",
         "3.6",
         "3.6"
        ],
        [
         "4",
         "5.4",
         null,
         "1.7",
         "0.4",
         "0",
         "3.0452702702702705",
         "3.0452702702702705"
        ],
        [
         "5",
         "4.6",
         "3.4",
         "1.4",
         "0.3",
         "0",
         "3.4",
         "3.4"
        ],
        [
         "6",
         "5.0",
         "3.4",
         "1.5",
         "0.2",
         "0",
         "3.4",
         "3.4"
        ],
        [
         "7",
         "4.4",
         "2.9",
         "1.4",
         "0.2",
         "0",
         "2.9",
         "2.9"
        ],
        [
         "8",
         "4.9",
         "3.1",
         "1.5",
         "0.1",
         "0",
         "3.1",
         "3.1"
        ],
        [
         "9",
         "5.4",
         "3.7",
         "1.5",
         "0.2",
         "0",
         "3.7",
         "3.7"
        ],
        [
         "10",
         "4.8",
         "3.4",
         "1.6",
         "0.2",
         "0",
         "3.4",
         "3.4"
        ],
        [
         "11",
         "4.8",
         "3.0",
         "1.4",
         "0.1",
         "0",
         "3.0",
         "3.0"
        ],
        [
         "12",
         "4.3",
         "3.0",
         "1.1",
         "0.1",
         "0",
         "3.0",
         "3.0"
        ],
        [
         "13",
         "5.8",
         "4.0",
         "1.2",
         "0.2",
         "0",
         "4.0",
         "4.0"
        ],
        [
         "14",
         "5.7",
         "4.4",
         "1.5",
         "0.4",
         "0",
         "4.4",
         "4.4"
        ],
        [
         "15",
         "5.4",
         "3.9",
         "1.3",
         "0.4",
         "0",
         "3.9",
         "3.9"
        ],
        [
         "16",
         "5.1",
         "3.5",
         "1.4",
         "0.3",
         "0",
         "3.5",
         "3.5"
        ],
        [
         "17",
         "5.7",
         "3.8",
         "1.7",
         "0.3",
         "0",
         "3.8",
         "3.8"
        ],
        [
         "18",
         "5.1",
         "3.8",
         "1.5",
         "0.3",
         "0",
         "3.8",
         "3.8"
        ],
        [
         "19",
         "5.4",
         "3.4",
         "1.7",
         "0.2",
         "0",
         "3.4",
         "3.4"
        ],
        [
         "20",
         "5.1",
         "3.7",
         "1.5",
         "0.4",
         "0",
         "3.7",
         "3.7"
        ],
        [
         "21",
         "4.6",
         "3.6",
         "1.0",
         "0.2",
         "0",
         "3.6",
         "3.6"
        ],
        [
         "22",
         "5.1",
         "3.3",
         "1.7",
         "0.5",
         "0",
         "3.3",
         "3.3"
        ],
        [
         "23",
         "4.8",
         "3.4",
         "1.9",
         "0.2",
         "0",
         "3.4",
         "3.4"
        ],
        [
         "24",
         "5.0",
         "3.0",
         "1.6",
         "0.2",
         "0",
         "3.0",
         "3.0"
        ],
        [
         "25",
         "5.0",
         "3.4",
         "1.6",
         "0.4",
         "0",
         "3.4",
         "3.4"
        ],
        [
         "26",
         "5.2",
         "3.5",
         "1.5",
         "0.2",
         "0",
         "3.5",
         "3.5"
        ],
        [
         "27",
         "5.2",
         "3.4",
         "1.4",
         "0.2",
         "0",
         "3.4",
         "3.4"
        ],
        [
         "28",
         "4.7",
         "3.2",
         "1.6",
         "0.2",
         "0",
         "3.2",
         "3.2"
        ],
        [
         "29",
         "4.8",
         "3.1",
         "1.6",
         "0.2",
         "0",
         "3.1",
         "3.1"
        ],
        [
         "30",
         "5.4",
         "3.4",
         "1.5",
         "0.4",
         "0",
         "3.4",
         "3.4"
        ],
        [
         "31",
         "5.2",
         "4.1",
         "1.5",
         "0.1",
         "0",
         "4.1",
         "4.1"
        ],
        [
         "32",
         "5.5",
         "4.2",
         "1.4",
         "0.2",
         "0",
         "4.2",
         "4.2"
        ],
        [
         "33",
         "4.9",
         "3.1",
         "1.5",
         "0.1",
         "0",
         "3.1",
         "3.1"
        ],
        [
         "34",
         "5.0",
         "3.2",
         "1.2",
         "0.2",
         "0",
         "3.2",
         "3.2"
        ],
        [
         "35",
         "5.5",
         "3.5",
         "1.3",
         "0.2",
         "0",
         "3.5",
         "3.5"
        ],
        [
         "36",
         "4.9",
         "3.1",
         "1.5",
         "0.1",
         "0",
         "3.1",
         "3.1"
        ],
        [
         "37",
         "4.4",
         "3.0",
         "1.3",
         "0.2",
         "0",
         "3.0",
         "3.0"
        ],
        [
         "38",
         "5.1",
         "3.4",
         "1.5",
         "0.2",
         "0",
         "3.4",
         "3.4"
        ],
        [
         "39",
         "5.0",
         "3.5",
         "1.3",
         "0.3",
         "0",
         "3.5",
         "3.5"
        ],
        [
         "40",
         "4.5",
         "2.3",
         "1.3",
         "0.3",
         "0",
         "2.3",
         "2.3"
        ],
        [
         "41",
         "4.4",
         "3.2",
         "1.3",
         "0.2",
         "0",
         "3.2",
         "3.2"
        ],
        [
         "42",
         "5.0",
         "3.5",
         "1.6",
         "0.6",
         "0",
         "3.5",
         "3.5"
        ],
        [
         "43",
         "5.1",
         "3.8",
         "1.9",
         "0.4",
         "0",
         "3.8",
         "3.8"
        ],
        [
         "44",
         "4.8",
         "3.0",
         "1.4",
         "0.3",
         "0",
         "3.0",
         "3.0"
        ],
        [
         "45",
         "5.1",
         "3.8",
         "1.6",
         "0.2",
         "0",
         "3.8",
         "3.8"
        ],
        [
         "46",
         "4.6",
         "3.2",
         "1.4",
         "0.2",
         "0",
         "3.2",
         "3.2"
        ],
        [
         "47",
         "5.3",
         "3.7",
         "1.5",
         "0.2",
         "0",
         "3.7",
         "3.7"
        ],
        [
         "48",
         "5.0",
         "3.3",
         "1.4",
         "0.2",
         "0",
         "3.3",
         "3.3"
        ],
        [
         "49",
         "7.0",
         "3.2",
         "4.7",
         "1.4",
         "1",
         "3.2",
         "3.2"
        ]
       ],
       "shape": {
        "columns": 7,
        "rows": 149
       }
      },
      "text/html": [
       "<div>\n",
       "<style scoped>\n",
       "    .dataframe tbody tr th:only-of-type {\n",
       "        vertical-align: middle;\n",
       "    }\n",
       "\n",
       "    .dataframe tbody tr th {\n",
       "        vertical-align: top;\n",
       "    }\n",
       "\n",
       "    .dataframe thead th {\n",
       "        text-align: right;\n",
       "    }\n",
       "</style>\n",
       "<table border=\"1\" class=\"dataframe\">\n",
       "  <thead>\n",
       "    <tr style=\"text-align: right;\">\n",
       "      <th></th>\n",
       "      <th>5.1</th>\n",
       "      <th>3.5</th>\n",
       "      <th>1.4</th>\n",
       "      <th>0.2</th>\n",
       "      <th>0</th>\n",
       "      <th>3.6</th>\n",
       "      <th>3.5_updated</th>\n",
       "    </tr>\n",
       "  </thead>\n",
       "  <tbody>\n",
       "    <tr>\n",
       "      <th>0</th>\n",
       "      <td>4.9</td>\n",
       "      <td>3.0</td>\n",
       "      <td>1.4</td>\n",
       "      <td>0.2</td>\n",
       "      <td>0</td>\n",
       "      <td>3.00000</td>\n",
       "      <td>3.00000</td>\n",
       "    </tr>\n",
       "    <tr>\n",
       "      <th>1</th>\n",
       "      <td>4.7</td>\n",
       "      <td>3.2</td>\n",
       "      <td>1.3</td>\n",
       "      <td>0.2</td>\n",
       "      <td>0</td>\n",
       "      <td>3.20000</td>\n",
       "      <td>3.20000</td>\n",
       "    </tr>\n",
       "    <tr>\n",
       "      <th>2</th>\n",
       "      <td>4.6</td>\n",
       "      <td>3.1</td>\n",
       "      <td>1.5</td>\n",
       "      <td>0.2</td>\n",
       "      <td>0</td>\n",
       "      <td>3.10000</td>\n",
       "      <td>3.10000</td>\n",
       "    </tr>\n",
       "    <tr>\n",
       "      <th>3</th>\n",
       "      <td>5.0</td>\n",
       "      <td>3.6</td>\n",
       "      <td>1.4</td>\n",
       "      <td>0.2</td>\n",
       "      <td>0</td>\n",
       "      <td>3.60000</td>\n",
       "      <td>3.60000</td>\n",
       "    </tr>\n",
       "    <tr>\n",
       "      <th>4</th>\n",
       "      <td>5.4</td>\n",
       "      <td>NaN</td>\n",
       "      <td>1.7</td>\n",
       "      <td>0.4</td>\n",
       "      <td>0</td>\n",
       "      <td>3.04527</td>\n",
       "      <td>3.04527</td>\n",
       "    </tr>\n",
       "    <tr>\n",
       "      <th>...</th>\n",
       "      <td>...</td>\n",
       "      <td>...</td>\n",
       "      <td>...</td>\n",
       "      <td>...</td>\n",
       "      <td>...</td>\n",
       "      <td>...</td>\n",
       "      <td>...</td>\n",
       "    </tr>\n",
       "    <tr>\n",
       "      <th>144</th>\n",
       "      <td>6.7</td>\n",
       "      <td>3.0</td>\n",
       "      <td>5.2</td>\n",
       "      <td>2.3</td>\n",
       "      <td>2</td>\n",
       "      <td>3.00000</td>\n",
       "      <td>3.00000</td>\n",
       "    </tr>\n",
       "    <tr>\n",
       "      <th>145</th>\n",
       "      <td>6.3</td>\n",
       "      <td>2.5</td>\n",
       "      <td>5.0</td>\n",
       "      <td>1.9</td>\n",
       "      <td>2</td>\n",
       "      <td>2.50000</td>\n",
       "      <td>2.50000</td>\n",
       "    </tr>\n",
       "    <tr>\n",
       "      <th>146</th>\n",
       "      <td>6.5</td>\n",
       "      <td>3.0</td>\n",
       "      <td>5.2</td>\n",
       "      <td>2.0</td>\n",
       "      <td>2</td>\n",
       "      <td>3.00000</td>\n",
       "      <td>3.00000</td>\n",
       "    </tr>\n",
       "    <tr>\n",
       "      <th>147</th>\n",
       "      <td>6.2</td>\n",
       "      <td>3.4</td>\n",
       "      <td>5.4</td>\n",
       "      <td>2.3</td>\n",
       "      <td>2</td>\n",
       "      <td>3.40000</td>\n",
       "      <td>3.40000</td>\n",
       "    </tr>\n",
       "    <tr>\n",
       "      <th>148</th>\n",
       "      <td>5.9</td>\n",
       "      <td>3.0</td>\n",
       "      <td>5.1</td>\n",
       "      <td>1.8</td>\n",
       "      <td>2</td>\n",
       "      <td>3.00000</td>\n",
       "      <td>3.00000</td>\n",
       "    </tr>\n",
       "  </tbody>\n",
       "</table>\n",
       "<p>149 rows × 7 columns</p>\n",
       "</div>"
      ],
      "text/plain": [
       "     5.1  3.5  1.4  0.2  0      3.6  3.5_updated\n",
       "0    4.9  3.0  1.4  0.2  0  3.00000      3.00000\n",
       "1    4.7  3.2  1.3  0.2  0  3.20000      3.20000\n",
       "2    4.6  3.1  1.5  0.2  0  3.10000      3.10000\n",
       "3    5.0  3.6  1.4  0.2  0  3.60000      3.60000\n",
       "4    5.4  NaN  1.7  0.4  0  3.04527      3.04527\n",
       "..   ...  ...  ...  ... ..      ...          ...\n",
       "144  6.7  3.0  5.2  2.3  2  3.00000      3.00000\n",
       "145  6.3  2.5  5.0  1.9  2  2.50000      2.50000\n",
       "146  6.5  3.0  5.2  2.0  2  3.00000      3.00000\n",
       "147  6.2  3.4  5.4  2.3  2  3.40000      3.40000\n",
       "148  5.9  3.0  5.1  1.8  2  3.00000      3.00000\n",
       "\n",
       "[149 rows x 7 columns]"
      ]
     },
     "execution_count": 18,
     "metadata": {},
     "output_type": "execute_result"
    }
   ],
   "source": [
    "df"
   ]
  },
  {
   "cell_type": "code",
   "execution_count": 19,
   "metadata": {},
   "outputs": [
    {
     "data": {
      "application/vnd.microsoft.datawrangler.viewer.v0+json": {
       "columns": [
        {
         "name": "index",
         "rawType": "object",
         "type": "string"
        },
        {
         "name": "0",
         "rawType": "object",
         "type": "unknown"
        }
       ],
       "ref": "ea5ccc18-faf2-444c-aa6e-7a71260690da",
       "rows": [
        [
         "5.1",
         "float64"
        ],
        [
         "3.5",
         "float64"
        ],
        [
         "1.4",
         "float64"
        ],
        [
         "0.2",
         "float64"
        ],
        [
         "0",
         "int64"
        ],
        [
         "3.6",
         "float64"
        ],
        [
         "3.5_updated",
         "float64"
        ]
       ],
       "shape": {
        "columns": 1,
        "rows": 7
       }
      },
      "text/plain": [
       "5.1            float64\n",
       "3.5            float64\n",
       "1.4            float64\n",
       "0.2            float64\n",
       "0                int64\n",
       "3.6            float64\n",
       "3.5_updated    float64\n",
       "dtype: object"
      ]
     },
     "execution_count": 19,
     "metadata": {},
     "output_type": "execute_result"
    }
   ],
   "source": [
    "df.dtypes"
   ]
  },
  {
   "cell_type": "code",
   "execution_count": null,
   "id": "00d892e5",
   "metadata": {},
   "outputs": [
    {
     "data": {
      "application/vnd.microsoft.datawrangler.viewer.v0+json": {
       "columns": [
        {
         "name": "index",
         "rawType": "int64",
         "type": "integer"
        },
        {
         "name": "5.1",
         "rawType": "float64",
         "type": "float"
        },
        {
         "name": "col3.5",
         "rawType": "float64",
         "type": "float"
        },
        {
         "name": "1.4",
         "rawType": "float64",
         "type": "float"
        },
        {
         "name": "0.2",
         "rawType": "float64",
         "type": "float"
        },
        {
         "name": "0",
         "rawType": "int64",
         "type": "integer"
        },
        {
         "name": "3.6",
         "rawType": "float64",
         "type": "float"
        },
        {
         "name": "3.5_updated",
         "rawType": "float64",
         "type": "float"
        }
       ],
       "ref": "860dfc93-2d7e-4e39-9b72-546670ee4508",
       "rows": [
        [
         "0",
         "4.9",
         "3.0",
         "1.4",
         "0.2",
         "0",
         "3.0",
         "3.0"
        ],
        [
         "1",
         "4.7",
         "3.2",
         "1.3",
         "0.2",
         "0",
         "3.2",
         "3.2"
        ],
        [
         "2",
         "4.6",
         "3.1",
         "1.5",
         "0.2",
         "0",
         "3.1",
         "3.1"
        ],
        [
         "3",
         "5.0",
         "3.6",
         "1.4",
         "0.2",
         "0",
         "3.6",
         "3.6"
        ],
        [
         "4",
         "5.4",
         null,
         "1.7",
         "0.4",
         "0",
         "3.0452702702702705",
         "3.0452702702702705"
        ],
        [
         "5",
         "4.6",
         "3.4",
         "1.4",
         "0.3",
         "0",
         "3.4",
         "3.4"
        ],
        [
         "6",
         "5.0",
         "3.4",
         "1.5",
         "0.2",
         "0",
         "3.4",
         "3.4"
        ],
        [
         "7",
         "4.4",
         "2.9",
         "1.4",
         "0.2",
         "0",
         "2.9",
         "2.9"
        ],
        [
         "8",
         "4.9",
         "3.1",
         "1.5",
         "0.1",
         "0",
         "3.1",
         "3.1"
        ],
        [
         "9",
         "5.4",
         "3.7",
         "1.5",
         "0.2",
         "0",
         "3.7",
         "3.7"
        ],
        [
         "10",
         "4.8",
         "3.4",
         "1.6",
         "0.2",
         "0",
         "3.4",
         "3.4"
        ],
        [
         "11",
         "4.8",
         "3.0",
         "1.4",
         "0.1",
         "0",
         "3.0",
         "3.0"
        ],
        [
         "12",
         "4.3",
         "3.0",
         "1.1",
         "0.1",
         "0",
         "3.0",
         "3.0"
        ],
        [
         "13",
         "5.8",
         "4.0",
         "1.2",
         "0.2",
         "0",
         "4.0",
         "4.0"
        ],
        [
         "14",
         "5.7",
         "4.4",
         "1.5",
         "0.4",
         "0",
         "4.4",
         "4.4"
        ],
        [
         "15",
         "5.4",
         "3.9",
         "1.3",
         "0.4",
         "0",
         "3.9",
         "3.9"
        ],
        [
         "16",
         "5.1",
         "3.5",
         "1.4",
         "0.3",
         "0",
         "3.5",
         "3.5"
        ],
        [
         "17",
         "5.7",
         "3.8",
         "1.7",
         "0.3",
         "0",
         "3.8",
         "3.8"
        ],
        [
         "18",
         "5.1",
         "3.8",
         "1.5",
         "0.3",
         "0",
         "3.8",
         "3.8"
        ],
        [
         "19",
         "5.4",
         "3.4",
         "1.7",
         "0.2",
         "0",
         "3.4",
         "3.4"
        ],
        [
         "20",
         "5.1",
         "3.7",
         "1.5",
         "0.4",
         "0",
         "3.7",
         "3.7"
        ],
        [
         "21",
         "4.6",
         "3.6",
         "1.0",
         "0.2",
         "0",
         "3.6",
         "3.6"
        ],
        [
         "22",
         "5.1",
         "3.3",
         "1.7",
         "0.5",
         "0",
         "3.3",
         "3.3"
        ],
        [
         "23",
         "4.8",
         "3.4",
         "1.9",
         "0.2",
         "0",
         "3.4",
         "3.4"
        ],
        [
         "24",
         "5.0",
         "3.0",
         "1.6",
         "0.2",
         "0",
         "3.0",
         "3.0"
        ],
        [
         "25",
         "5.0",
         "3.4",
         "1.6",
         "0.4",
         "0",
         "3.4",
         "3.4"
        ],
        [
         "26",
         "5.2",
         "3.5",
         "1.5",
         "0.2",
         "0",
         "3.5",
         "3.5"
        ],
        [
         "27",
         "5.2",
         "3.4",
         "1.4",
         "0.2",
         "0",
         "3.4",
         "3.4"
        ],
        [
         "28",
         "4.7",
         "3.2",
         "1.6",
         "0.2",
         "0",
         "3.2",
         "3.2"
        ],
        [
         "29",
         "4.8",
         "3.1",
         "1.6",
         "0.2",
         "0",
         "3.1",
         "3.1"
        ],
        [
         "30",
         "5.4",
         "3.4",
         "1.5",
         "0.4",
         "0",
         "3.4",
         "3.4"
        ],
        [
         "31",
         "5.2",
         "4.1",
         "1.5",
         "0.1",
         "0",
         "4.1",
         "4.1"
        ],
        [
         "32",
         "5.5",
         "4.2",
         "1.4",
         "0.2",
         "0",
         "4.2",
         "4.2"
        ],
        [
         "33",
         "4.9",
         "3.1",
         "1.5",
         "0.1",
         "0",
         "3.1",
         "3.1"
        ],
        [
         "34",
         "5.0",
         "3.2",
         "1.2",
         "0.2",
         "0",
         "3.2",
         "3.2"
        ],
        [
         "35",
         "5.5",
         "3.5",
         "1.3",
         "0.2",
         "0",
         "3.5",
         "3.5"
        ],
        [
         "36",
         "4.9",
         "3.1",
         "1.5",
         "0.1",
         "0",
         "3.1",
         "3.1"
        ],
        [
         "37",
         "4.4",
         "3.0",
         "1.3",
         "0.2",
         "0",
         "3.0",
         "3.0"
        ],
        [
         "38",
         "5.1",
         "3.4",
         "1.5",
         "0.2",
         "0",
         "3.4",
         "3.4"
        ],
        [
         "39",
         "5.0",
         "3.5",
         "1.3",
         "0.3",
         "0",
         "3.5",
         "3.5"
        ],
        [
         "40",
         "4.5",
         "2.3",
         "1.3",
         "0.3",
         "0",
         "2.3",
         "2.3"
        ],
        [
         "41",
         "4.4",
         "3.2",
         "1.3",
         "0.2",
         "0",
         "3.2",
         "3.2"
        ],
        [
         "42",
         "5.0",
         "3.5",
         "1.6",
         "0.6",
         "0",
         "3.5",
         "3.5"
        ],
        [
         "43",
         "5.1",
         "3.8",
         "1.9",
         "0.4",
         "0",
         "3.8",
         "3.8"
        ],
        [
         "44",
         "4.8",
         "3.0",
         "1.4",
         "0.3",
         "0",
         "3.0",
         "3.0"
        ],
        [
         "45",
         "5.1",
         "3.8",
         "1.6",
         "0.2",
         "0",
         "3.8",
         "3.8"
        ],
        [
         "46",
         "4.6",
         "3.2",
         "1.4",
         "0.2",
         "0",
         "3.2",
         "3.2"
        ],
        [
         "47",
         "5.3",
         "3.7",
         "1.5",
         "0.2",
         "0",
         "3.7",
         "3.7"
        ],
        [
         "48",
         "5.0",
         "3.3",
         "1.4",
         "0.2",
         "0",
         "3.3",
         "3.3"
        ],
        [
         "49",
         "7.0",
         "3.2",
         "4.7",
         "1.4",
         "1",
         "3.2",
         "3.2"
        ]
       ],
       "shape": {
        "columns": 7,
        "rows": 149
       }
      },
      "text/html": [
       "<div>\n",
       "<style scoped>\n",
       "    .dataframe tbody tr th:only-of-type {\n",
       "        vertical-align: middle;\n",
       "    }\n",
       "\n",
       "    .dataframe tbody tr th {\n",
       "        vertical-align: top;\n",
       "    }\n",
       "\n",
       "    .dataframe thead th {\n",
       "        text-align: right;\n",
       "    }\n",
       "</style>\n",
       "<table border=\"1\" class=\"dataframe\">\n",
       "  <thead>\n",
       "    <tr style=\"text-align: right;\">\n",
       "      <th></th>\n",
       "      <th>5.1</th>\n",
       "      <th>col3.5</th>\n",
       "      <th>1.4</th>\n",
       "      <th>0.2</th>\n",
       "      <th>0</th>\n",
       "      <th>3.6</th>\n",
       "      <th>3.5_updated</th>\n",
       "    </tr>\n",
       "  </thead>\n",
       "  <tbody>\n",
       "    <tr>\n",
       "      <th>0</th>\n",
       "      <td>4.9</td>\n",
       "      <td>3.0</td>\n",
       "      <td>1.4</td>\n",
       "      <td>0.2</td>\n",
       "      <td>0</td>\n",
       "      <td>3.00000</td>\n",
       "      <td>3.00000</td>\n",
       "    </tr>\n",
       "    <tr>\n",
       "      <th>1</th>\n",
       "      <td>4.7</td>\n",
       "      <td>3.2</td>\n",
       "      <td>1.3</td>\n",
       "      <td>0.2</td>\n",
       "      <td>0</td>\n",
       "      <td>3.20000</td>\n",
       "      <td>3.20000</td>\n",
       "    </tr>\n",
       "    <tr>\n",
       "      <th>2</th>\n",
       "      <td>4.6</td>\n",
       "      <td>3.1</td>\n",
       "      <td>1.5</td>\n",
       "      <td>0.2</td>\n",
       "      <td>0</td>\n",
       "      <td>3.10000</td>\n",
       "      <td>3.10000</td>\n",
       "    </tr>\n",
       "    <tr>\n",
       "      <th>3</th>\n",
       "      <td>5.0</td>\n",
       "      <td>3.6</td>\n",
       "      <td>1.4</td>\n",
       "      <td>0.2</td>\n",
       "      <td>0</td>\n",
       "      <td>3.60000</td>\n",
       "      <td>3.60000</td>\n",
       "    </tr>\n",
       "    <tr>\n",
       "      <th>4</th>\n",
       "      <td>5.4</td>\n",
       "      <td>NaN</td>\n",
       "      <td>1.7</td>\n",
       "      <td>0.4</td>\n",
       "      <td>0</td>\n",
       "      <td>3.04527</td>\n",
       "      <td>3.04527</td>\n",
       "    </tr>\n",
       "    <tr>\n",
       "      <th>...</th>\n",
       "      <td>...</td>\n",
       "      <td>...</td>\n",
       "      <td>...</td>\n",
       "      <td>...</td>\n",
       "      <td>...</td>\n",
       "      <td>...</td>\n",
       "      <td>...</td>\n",
       "    </tr>\n",
       "    <tr>\n",
       "      <th>144</th>\n",
       "      <td>6.7</td>\n",
       "      <td>3.0</td>\n",
       "      <td>5.2</td>\n",
       "      <td>2.3</td>\n",
       "      <td>2</td>\n",
       "      <td>3.00000</td>\n",
       "      <td>3.00000</td>\n",
       "    </tr>\n",
       "    <tr>\n",
       "      <th>145</th>\n",
       "      <td>6.3</td>\n",
       "      <td>2.5</td>\n",
       "      <td>5.0</td>\n",
       "      <td>1.9</td>\n",
       "      <td>2</td>\n",
       "      <td>2.50000</td>\n",
       "      <td>2.50000</td>\n",
       "    </tr>\n",
       "    <tr>\n",
       "      <th>146</th>\n",
       "      <td>6.5</td>\n",
       "      <td>3.0</td>\n",
       "      <td>5.2</td>\n",
       "      <td>2.0</td>\n",
       "      <td>2</td>\n",
       "      <td>3.00000</td>\n",
       "      <td>3.00000</td>\n",
       "    </tr>\n",
       "    <tr>\n",
       "      <th>147</th>\n",
       "      <td>6.2</td>\n",
       "      <td>3.4</td>\n",
       "      <td>5.4</td>\n",
       "      <td>2.3</td>\n",
       "      <td>2</td>\n",
       "      <td>3.40000</td>\n",
       "      <td>3.40000</td>\n",
       "    </tr>\n",
       "    <tr>\n",
       "      <th>148</th>\n",
       "      <td>5.9</td>\n",
       "      <td>3.0</td>\n",
       "      <td>5.1</td>\n",
       "      <td>1.8</td>\n",
       "      <td>2</td>\n",
       "      <td>3.00000</td>\n",
       "      <td>3.00000</td>\n",
       "    </tr>\n",
       "  </tbody>\n",
       "</table>\n",
       "<p>149 rows × 7 columns</p>\n",
       "</div>"
      ],
      "text/plain": [
       "     5.1  col3.5  1.4  0.2  0      3.6  3.5_updated\n",
       "0    4.9     3.0  1.4  0.2  0  3.00000      3.00000\n",
       "1    4.7     3.2  1.3  0.2  0  3.20000      3.20000\n",
       "2    4.6     3.1  1.5  0.2  0  3.10000      3.10000\n",
       "3    5.0     3.6  1.4  0.2  0  3.60000      3.60000\n",
       "4    5.4     NaN  1.7  0.4  0  3.04527      3.04527\n",
       "..   ...     ...  ...  ... ..      ...          ...\n",
       "144  6.7     3.0  5.2  2.3  2  3.00000      3.00000\n",
       "145  6.3     2.5  5.0  1.9  2  2.50000      2.50000\n",
       "146  6.5     3.0  5.2  2.0  2  3.00000      3.00000\n",
       "147  6.2     3.4  5.4  2.3  2  3.40000      3.40000\n",
       "148  5.9     3.0  5.1  1.8  2  3.00000      3.00000\n",
       "\n",
       "[149 rows x 7 columns]"
      ]
     },
     "execution_count": 20,
     "metadata": {},
     "output_type": "execute_result"
    }
   ],
   "source": [
    "df.rename(columns={'3.5':'col3.5'},inplace=True)"
   ]
  },
  {
   "cell_type": "code",
   "execution_count": 21,
   "metadata": {},
   "outputs": [
    {
     "data": {
      "application/vnd.microsoft.datawrangler.viewer.v0+json": {
       "columns": [
        {
         "name": "index",
         "rawType": "int64",
         "type": "integer"
        },
        {
         "name": "5.1",
         "rawType": "float64",
         "type": "float"
        },
        {
         "name": "3.5",
         "rawType": "float64",
         "type": "float"
        },
        {
         "name": "1.4",
         "rawType": "float64",
         "type": "float"
        },
        {
         "name": "0.2",
         "rawType": "float64",
         "type": "float"
        },
        {
         "name": "0",
         "rawType": "int64",
         "type": "integer"
        },
        {
         "name": "3.6",
         "rawType": "float64",
         "type": "float"
        },
        {
         "name": "3.5_updated",
         "rawType": "float64",
         "type": "float"
        }
       ],
       "ref": "9b82bf29-99d2-483b-908a-24bbf18cbb40",
       "rows": [
        [
         "0",
         "4.9",
         "3.0",
         "1.4",
         "0.2",
         "0",
         "3.0",
         "3.0"
        ],
        [
         "1",
         "4.7",
         "3.2",
         "1.3",
         "0.2",
         "0",
         "3.2",
         "3.2"
        ],
        [
         "2",
         "4.6",
         "3.1",
         "1.5",
         "0.2",
         "0",
         "3.1",
         "3.1"
        ],
        [
         "3",
         "5.0",
         "3.6",
         "1.4",
         "0.2",
         "0",
         "3.6",
         "3.6"
        ],
        [
         "4",
         "5.4",
         null,
         "1.7",
         "0.4",
         "0",
         "3.0452702702702705",
         "3.0452702702702705"
        ],
        [
         "5",
         "4.6",
         "3.4",
         "1.4",
         "0.3",
         "0",
         "3.4",
         "3.4"
        ],
        [
         "6",
         "5.0",
         "3.4",
         "1.5",
         "0.2",
         "0",
         "3.4",
         "3.4"
        ],
        [
         "7",
         "4.4",
         "2.9",
         "1.4",
         "0.2",
         "0",
         "2.9",
         "2.9"
        ],
        [
         "8",
         "4.9",
         "3.1",
         "1.5",
         "0.1",
         "0",
         "3.1",
         "3.1"
        ],
        [
         "9",
         "5.4",
         "3.7",
         "1.5",
         "0.2",
         "0",
         "3.7",
         "3.7"
        ],
        [
         "10",
         "4.8",
         "3.4",
         "1.6",
         "0.2",
         "0",
         "3.4",
         "3.4"
        ],
        [
         "11",
         "4.8",
         "3.0",
         "1.4",
         "0.1",
         "0",
         "3.0",
         "3.0"
        ],
        [
         "12",
         "4.3",
         "3.0",
         "1.1",
         "0.1",
         "0",
         "3.0",
         "3.0"
        ],
        [
         "13",
         "5.8",
         "4.0",
         "1.2",
         "0.2",
         "0",
         "4.0",
         "4.0"
        ],
        [
         "14",
         "5.7",
         "4.4",
         "1.5",
         "0.4",
         "0",
         "4.4",
         "4.4"
        ],
        [
         "15",
         "5.4",
         "3.9",
         "1.3",
         "0.4",
         "0",
         "3.9",
         "3.9"
        ],
        [
         "16",
         "5.1",
         "3.5",
         "1.4",
         "0.3",
         "0",
         "3.5",
         "3.5"
        ],
        [
         "17",
         "5.7",
         "3.8",
         "1.7",
         "0.3",
         "0",
         "3.8",
         "3.8"
        ],
        [
         "18",
         "5.1",
         "3.8",
         "1.5",
         "0.3",
         "0",
         "3.8",
         "3.8"
        ],
        [
         "19",
         "5.4",
         "3.4",
         "1.7",
         "0.2",
         "0",
         "3.4",
         "3.4"
        ],
        [
         "20",
         "5.1",
         "3.7",
         "1.5",
         "0.4",
         "0",
         "3.7",
         "3.7"
        ],
        [
         "21",
         "4.6",
         "3.6",
         "1.0",
         "0.2",
         "0",
         "3.6",
         "3.6"
        ],
        [
         "22",
         "5.1",
         "3.3",
         "1.7",
         "0.5",
         "0",
         "3.3",
         "3.3"
        ],
        [
         "23",
         "4.8",
         "3.4",
         "1.9",
         "0.2",
         "0",
         "3.4",
         "3.4"
        ],
        [
         "24",
         "5.0",
         "3.0",
         "1.6",
         "0.2",
         "0",
         "3.0",
         "3.0"
        ],
        [
         "25",
         "5.0",
         "3.4",
         "1.6",
         "0.4",
         "0",
         "3.4",
         "3.4"
        ],
        [
         "26",
         "5.2",
         "3.5",
         "1.5",
         "0.2",
         "0",
         "3.5",
         "3.5"
        ],
        [
         "27",
         "5.2",
         "3.4",
         "1.4",
         "0.2",
         "0",
         "3.4",
         "3.4"
        ],
        [
         "28",
         "4.7",
         "3.2",
         "1.6",
         "0.2",
         "0",
         "3.2",
         "3.2"
        ],
        [
         "29",
         "4.8",
         "3.1",
         "1.6",
         "0.2",
         "0",
         "3.1",
         "3.1"
        ],
        [
         "30",
         "5.4",
         "3.4",
         "1.5",
         "0.4",
         "0",
         "3.4",
         "3.4"
        ],
        [
         "31",
         "5.2",
         "4.1",
         "1.5",
         "0.1",
         "0",
         "4.1",
         "4.1"
        ],
        [
         "32",
         "5.5",
         "4.2",
         "1.4",
         "0.2",
         "0",
         "4.2",
         "4.2"
        ],
        [
         "33",
         "4.9",
         "3.1",
         "1.5",
         "0.1",
         "0",
         "3.1",
         "3.1"
        ],
        [
         "34",
         "5.0",
         "3.2",
         "1.2",
         "0.2",
         "0",
         "3.2",
         "3.2"
        ],
        [
         "35",
         "5.5",
         "3.5",
         "1.3",
         "0.2",
         "0",
         "3.5",
         "3.5"
        ],
        [
         "36",
         "4.9",
         "3.1",
         "1.5",
         "0.1",
         "0",
         "3.1",
         "3.1"
        ],
        [
         "37",
         "4.4",
         "3.0",
         "1.3",
         "0.2",
         "0",
         "3.0",
         "3.0"
        ],
        [
         "38",
         "5.1",
         "3.4",
         "1.5",
         "0.2",
         "0",
         "3.4",
         "3.4"
        ],
        [
         "39",
         "5.0",
         "3.5",
         "1.3",
         "0.3",
         "0",
         "3.5",
         "3.5"
        ],
        [
         "40",
         "4.5",
         "2.3",
         "1.3",
         "0.3",
         "0",
         "2.3",
         "2.3"
        ],
        [
         "41",
         "4.4",
         "3.2",
         "1.3",
         "0.2",
         "0",
         "3.2",
         "3.2"
        ],
        [
         "42",
         "5.0",
         "3.5",
         "1.6",
         "0.6",
         "0",
         "3.5",
         "3.5"
        ],
        [
         "43",
         "5.1",
         "3.8",
         "1.9",
         "0.4",
         "0",
         "3.8",
         "3.8"
        ],
        [
         "44",
         "4.8",
         "3.0",
         "1.4",
         "0.3",
         "0",
         "3.0",
         "3.0"
        ],
        [
         "45",
         "5.1",
         "3.8",
         "1.6",
         "0.2",
         "0",
         "3.8",
         "3.8"
        ],
        [
         "46",
         "4.6",
         "3.2",
         "1.4",
         "0.2",
         "0",
         "3.2",
         "3.2"
        ],
        [
         "47",
         "5.3",
         "3.7",
         "1.5",
         "0.2",
         "0",
         "3.7",
         "3.7"
        ],
        [
         "48",
         "5.0",
         "3.3",
         "1.4",
         "0.2",
         "0",
         "3.3",
         "3.3"
        ],
        [
         "49",
         "7.0",
         "3.2",
         "4.7",
         "1.4",
         "1",
         "3.2",
         "3.2"
        ]
       ],
       "shape": {
        "columns": 7,
        "rows": 149
       }
      },
      "text/html": [
       "<div>\n",
       "<style scoped>\n",
       "    .dataframe tbody tr th:only-of-type {\n",
       "        vertical-align: middle;\n",
       "    }\n",
       "\n",
       "    .dataframe tbody tr th {\n",
       "        vertical-align: top;\n",
       "    }\n",
       "\n",
       "    .dataframe thead th {\n",
       "        text-align: right;\n",
       "    }\n",
       "</style>\n",
       "<table border=\"1\" class=\"dataframe\">\n",
       "  <thead>\n",
       "    <tr style=\"text-align: right;\">\n",
       "      <th></th>\n",
       "      <th>5.1</th>\n",
       "      <th>3.5</th>\n",
       "      <th>1.4</th>\n",
       "      <th>0.2</th>\n",
       "      <th>0</th>\n",
       "      <th>3.6</th>\n",
       "      <th>3.5_updated</th>\n",
       "    </tr>\n",
       "  </thead>\n",
       "  <tbody>\n",
       "    <tr>\n",
       "      <th>0</th>\n",
       "      <td>4.9</td>\n",
       "      <td>3.0</td>\n",
       "      <td>1.4</td>\n",
       "      <td>0.2</td>\n",
       "      <td>0</td>\n",
       "      <td>3.00000</td>\n",
       "      <td>3.00000</td>\n",
       "    </tr>\n",
       "    <tr>\n",
       "      <th>1</th>\n",
       "      <td>4.7</td>\n",
       "      <td>3.2</td>\n",
       "      <td>1.3</td>\n",
       "      <td>0.2</td>\n",
       "      <td>0</td>\n",
       "      <td>3.20000</td>\n",
       "      <td>3.20000</td>\n",
       "    </tr>\n",
       "    <tr>\n",
       "      <th>2</th>\n",
       "      <td>4.6</td>\n",
       "      <td>3.1</td>\n",
       "      <td>1.5</td>\n",
       "      <td>0.2</td>\n",
       "      <td>0</td>\n",
       "      <td>3.10000</td>\n",
       "      <td>3.10000</td>\n",
       "    </tr>\n",
       "    <tr>\n",
       "      <th>3</th>\n",
       "      <td>5.0</td>\n",
       "      <td>3.6</td>\n",
       "      <td>1.4</td>\n",
       "      <td>0.2</td>\n",
       "      <td>0</td>\n",
       "      <td>3.60000</td>\n",
       "      <td>3.60000</td>\n",
       "    </tr>\n",
       "    <tr>\n",
       "      <th>4</th>\n",
       "      <td>5.4</td>\n",
       "      <td>NaN</td>\n",
       "      <td>1.7</td>\n",
       "      <td>0.4</td>\n",
       "      <td>0</td>\n",
       "      <td>3.04527</td>\n",
       "      <td>3.04527</td>\n",
       "    </tr>\n",
       "    <tr>\n",
       "      <th>...</th>\n",
       "      <td>...</td>\n",
       "      <td>...</td>\n",
       "      <td>...</td>\n",
       "      <td>...</td>\n",
       "      <td>...</td>\n",
       "      <td>...</td>\n",
       "      <td>...</td>\n",
       "    </tr>\n",
       "    <tr>\n",
       "      <th>144</th>\n",
       "      <td>6.7</td>\n",
       "      <td>3.0</td>\n",
       "      <td>5.2</td>\n",
       "      <td>2.3</td>\n",
       "      <td>2</td>\n",
       "      <td>3.00000</td>\n",
       "      <td>3.00000</td>\n",
       "    </tr>\n",
       "    <tr>\n",
       "      <th>145</th>\n",
       "      <td>6.3</td>\n",
       "      <td>2.5</td>\n",
       "      <td>5.0</td>\n",
       "      <td>1.9</td>\n",
       "      <td>2</td>\n",
       "      <td>2.50000</td>\n",
       "      <td>2.50000</td>\n",
       "    </tr>\n",
       "    <tr>\n",
       "      <th>146</th>\n",
       "      <td>6.5</td>\n",
       "      <td>3.0</td>\n",
       "      <td>5.2</td>\n",
       "      <td>2.0</td>\n",
       "      <td>2</td>\n",
       "      <td>3.00000</td>\n",
       "      <td>3.00000</td>\n",
       "    </tr>\n",
       "    <tr>\n",
       "      <th>147</th>\n",
       "      <td>6.2</td>\n",
       "      <td>3.4</td>\n",
       "      <td>5.4</td>\n",
       "      <td>2.3</td>\n",
       "      <td>2</td>\n",
       "      <td>3.40000</td>\n",
       "      <td>3.40000</td>\n",
       "    </tr>\n",
       "    <tr>\n",
       "      <th>148</th>\n",
       "      <td>5.9</td>\n",
       "      <td>3.0</td>\n",
       "      <td>5.1</td>\n",
       "      <td>1.8</td>\n",
       "      <td>2</td>\n",
       "      <td>3.00000</td>\n",
       "      <td>3.00000</td>\n",
       "    </tr>\n",
       "  </tbody>\n",
       "</table>\n",
       "<p>149 rows × 7 columns</p>\n",
       "</div>"
      ],
      "text/plain": [
       "     5.1  3.5  1.4  0.2  0      3.6  3.5_updated\n",
       "0    4.9  3.0  1.4  0.2  0  3.00000      3.00000\n",
       "1    4.7  3.2  1.3  0.2  0  3.20000      3.20000\n",
       "2    4.6  3.1  1.5  0.2  0  3.10000      3.10000\n",
       "3    5.0  3.6  1.4  0.2  0  3.60000      3.60000\n",
       "4    5.4  NaN  1.7  0.4  0  3.04527      3.04527\n",
       "..   ...  ...  ...  ... ..      ...          ...\n",
       "144  6.7  3.0  5.2  2.3  2  3.00000      3.00000\n",
       "145  6.3  2.5  5.0  1.9  2  2.50000      2.50000\n",
       "146  6.5  3.0  5.2  2.0  2  3.00000      3.00000\n",
       "147  6.2  3.4  5.4  2.3  2  3.40000      3.40000\n",
       "148  5.9  3.0  5.1  1.8  2  3.00000      3.00000\n",
       "\n",
       "[149 rows x 7 columns]"
      ]
     },
     "execution_count": 21,
     "metadata": {},
     "output_type": "execute_result"
    }
   ],
   "source": [
    "df"
   ]
  },
  {
   "cell_type": "code",
   "execution_count": 26,
   "metadata": {},
   "outputs": [],
   "source": [
    "df['5.1'] = df['5.1'].astype(int)"
   ]
  },
  {
   "cell_type": "code",
   "execution_count": 27,
   "id": "3ac3333a",
   "metadata": {},
   "outputs": [
    {
     "data": {
      "application/vnd.microsoft.datawrangler.viewer.v0+json": {
       "columns": [
        {
         "name": "index",
         "rawType": "int64",
         "type": "integer"
        },
        {
         "name": "5.1",
         "rawType": "int64",
         "type": "integer"
        },
        {
         "name": "3.5",
         "rawType": "float64",
         "type": "float"
        },
        {
         "name": "1.4",
         "rawType": "float64",
         "type": "float"
        },
        {
         "name": "0.2",
         "rawType": "float64",
         "type": "float"
        },
        {
         "name": "0",
         "rawType": "int64",
         "type": "integer"
        },
        {
         "name": "3.6",
         "rawType": "float64",
         "type": "float"
        },
        {
         "name": "3.5_updated",
         "rawType": "float64",
         "type": "float"
        }
       ],
       "ref": "7878c7ce-9a76-43bb-b39f-727ecca31322",
       "rows": [
        [
         "0",
         "4",
         "3.0",
         "1.4",
         "0.2",
         "0",
         "3.0",
         "3.0"
        ],
        [
         "1",
         "4",
         "3.2",
         "1.3",
         "0.2",
         "0",
         "3.2",
         "3.2"
        ],
        [
         "2",
         "4",
         "3.1",
         "1.5",
         "0.2",
         "0",
         "3.1",
         "3.1"
        ],
        [
         "3",
         "5",
         "3.6",
         "1.4",
         "0.2",
         "0",
         "3.6",
         "3.6"
        ],
        [
         "4",
         "5",
         null,
         "1.7",
         "0.4",
         "0",
         "3.0452702702702705",
         "3.0452702702702705"
        ],
        [
         "5",
         "4",
         "3.4",
         "1.4",
         "0.3",
         "0",
         "3.4",
         "3.4"
        ],
        [
         "6",
         "5",
         "3.4",
         "1.5",
         "0.2",
         "0",
         "3.4",
         "3.4"
        ],
        [
         "7",
         "4",
         "2.9",
         "1.4",
         "0.2",
         "0",
         "2.9",
         "2.9"
        ],
        [
         "8",
         "4",
         "3.1",
         "1.5",
         "0.1",
         "0",
         "3.1",
         "3.1"
        ],
        [
         "9",
         "5",
         "3.7",
         "1.5",
         "0.2",
         "0",
         "3.7",
         "3.7"
        ],
        [
         "10",
         "4",
         "3.4",
         "1.6",
         "0.2",
         "0",
         "3.4",
         "3.4"
        ],
        [
         "11",
         "4",
         "3.0",
         "1.4",
         "0.1",
         "0",
         "3.0",
         "3.0"
        ],
        [
         "12",
         "4",
         "3.0",
         "1.1",
         "0.1",
         "0",
         "3.0",
         "3.0"
        ],
        [
         "13",
         "5",
         "4.0",
         "1.2",
         "0.2",
         "0",
         "4.0",
         "4.0"
        ],
        [
         "14",
         "5",
         "4.4",
         "1.5",
         "0.4",
         "0",
         "4.4",
         "4.4"
        ],
        [
         "15",
         "5",
         "3.9",
         "1.3",
         "0.4",
         "0",
         "3.9",
         "3.9"
        ],
        [
         "16",
         "5",
         "3.5",
         "1.4",
         "0.3",
         "0",
         "3.5",
         "3.5"
        ],
        [
         "17",
         "5",
         "3.8",
         "1.7",
         "0.3",
         "0",
         "3.8",
         "3.8"
        ],
        [
         "18",
         "5",
         "3.8",
         "1.5",
         "0.3",
         "0",
         "3.8",
         "3.8"
        ],
        [
         "19",
         "5",
         "3.4",
         "1.7",
         "0.2",
         "0",
         "3.4",
         "3.4"
        ],
        [
         "20",
         "5",
         "3.7",
         "1.5",
         "0.4",
         "0",
         "3.7",
         "3.7"
        ],
        [
         "21",
         "4",
         "3.6",
         "1.0",
         "0.2",
         "0",
         "3.6",
         "3.6"
        ],
        [
         "22",
         "5",
         "3.3",
         "1.7",
         "0.5",
         "0",
         "3.3",
         "3.3"
        ],
        [
         "23",
         "4",
         "3.4",
         "1.9",
         "0.2",
         "0",
         "3.4",
         "3.4"
        ],
        [
         "24",
         "5",
         "3.0",
         "1.6",
         "0.2",
         "0",
         "3.0",
         "3.0"
        ],
        [
         "25",
         "5",
         "3.4",
         "1.6",
         "0.4",
         "0",
         "3.4",
         "3.4"
        ],
        [
         "26",
         "5",
         "3.5",
         "1.5",
         "0.2",
         "0",
         "3.5",
         "3.5"
        ],
        [
         "27",
         "5",
         "3.4",
         "1.4",
         "0.2",
         "0",
         "3.4",
         "3.4"
        ],
        [
         "28",
         "4",
         "3.2",
         "1.6",
         "0.2",
         "0",
         "3.2",
         "3.2"
        ],
        [
         "29",
         "4",
         "3.1",
         "1.6",
         "0.2",
         "0",
         "3.1",
         "3.1"
        ],
        [
         "30",
         "5",
         "3.4",
         "1.5",
         "0.4",
         "0",
         "3.4",
         "3.4"
        ],
        [
         "31",
         "5",
         "4.1",
         "1.5",
         "0.1",
         "0",
         "4.1",
         "4.1"
        ],
        [
         "32",
         "5",
         "4.2",
         "1.4",
         "0.2",
         "0",
         "4.2",
         "4.2"
        ],
        [
         "33",
         "4",
         "3.1",
         "1.5",
         "0.1",
         "0",
         "3.1",
         "3.1"
        ],
        [
         "34",
         "5",
         "3.2",
         "1.2",
         "0.2",
         "0",
         "3.2",
         "3.2"
        ],
        [
         "35",
         "5",
         "3.5",
         "1.3",
         "0.2",
         "0",
         "3.5",
         "3.5"
        ],
        [
         "36",
         "4",
         "3.1",
         "1.5",
         "0.1",
         "0",
         "3.1",
         "3.1"
        ],
        [
         "37",
         "4",
         "3.0",
         "1.3",
         "0.2",
         "0",
         "3.0",
         "3.0"
        ],
        [
         "38",
         "5",
         "3.4",
         "1.5",
         "0.2",
         "0",
         "3.4",
         "3.4"
        ],
        [
         "39",
         "5",
         "3.5",
         "1.3",
         "0.3",
         "0",
         "3.5",
         "3.5"
        ],
        [
         "40",
         "4",
         "2.3",
         "1.3",
         "0.3",
         "0",
         "2.3",
         "2.3"
        ],
        [
         "41",
         "4",
         "3.2",
         "1.3",
         "0.2",
         "0",
         "3.2",
         "3.2"
        ],
        [
         "42",
         "5",
         "3.5",
         "1.6",
         "0.6",
         "0",
         "3.5",
         "3.5"
        ],
        [
         "43",
         "5",
         "3.8",
         "1.9",
         "0.4",
         "0",
         "3.8",
         "3.8"
        ],
        [
         "44",
         "4",
         "3.0",
         "1.4",
         "0.3",
         "0",
         "3.0",
         "3.0"
        ],
        [
         "45",
         "5",
         "3.8",
         "1.6",
         "0.2",
         "0",
         "3.8",
         "3.8"
        ],
        [
         "46",
         "4",
         "3.2",
         "1.4",
         "0.2",
         "0",
         "3.2",
         "3.2"
        ],
        [
         "47",
         "5",
         "3.7",
         "1.5",
         "0.2",
         "0",
         "3.7",
         "3.7"
        ],
        [
         "48",
         "5",
         "3.3",
         "1.4",
         "0.2",
         "0",
         "3.3",
         "3.3"
        ],
        [
         "49",
         "7",
         "3.2",
         "4.7",
         "1.4",
         "1",
         "3.2",
         "3.2"
        ]
       ],
       "shape": {
        "columns": 7,
        "rows": 149
       }
      },
      "text/html": [
       "<div>\n",
       "<style scoped>\n",
       "    .dataframe tbody tr th:only-of-type {\n",
       "        vertical-align: middle;\n",
       "    }\n",
       "\n",
       "    .dataframe tbody tr th {\n",
       "        vertical-align: top;\n",
       "    }\n",
       "\n",
       "    .dataframe thead th {\n",
       "        text-align: right;\n",
       "    }\n",
       "</style>\n",
       "<table border=\"1\" class=\"dataframe\">\n",
       "  <thead>\n",
       "    <tr style=\"text-align: right;\">\n",
       "      <th></th>\n",
       "      <th>5.1</th>\n",
       "      <th>3.5</th>\n",
       "      <th>1.4</th>\n",
       "      <th>0.2</th>\n",
       "      <th>0</th>\n",
       "      <th>3.6</th>\n",
       "      <th>3.5_updated</th>\n",
       "    </tr>\n",
       "  </thead>\n",
       "  <tbody>\n",
       "    <tr>\n",
       "      <th>0</th>\n",
       "      <td>4</td>\n",
       "      <td>3.0</td>\n",
       "      <td>1.4</td>\n",
       "      <td>0.2</td>\n",
       "      <td>0</td>\n",
       "      <td>3.00000</td>\n",
       "      <td>3.00000</td>\n",
       "    </tr>\n",
       "    <tr>\n",
       "      <th>1</th>\n",
       "      <td>4</td>\n",
       "      <td>3.2</td>\n",
       "      <td>1.3</td>\n",
       "      <td>0.2</td>\n",
       "      <td>0</td>\n",
       "      <td>3.20000</td>\n",
       "      <td>3.20000</td>\n",
       "    </tr>\n",
       "    <tr>\n",
       "      <th>2</th>\n",
       "      <td>4</td>\n",
       "      <td>3.1</td>\n",
       "      <td>1.5</td>\n",
       "      <td>0.2</td>\n",
       "      <td>0</td>\n",
       "      <td>3.10000</td>\n",
       "      <td>3.10000</td>\n",
       "    </tr>\n",
       "    <tr>\n",
       "      <th>3</th>\n",
       "      <td>5</td>\n",
       "      <td>3.6</td>\n",
       "      <td>1.4</td>\n",
       "      <td>0.2</td>\n",
       "      <td>0</td>\n",
       "      <td>3.60000</td>\n",
       "      <td>3.60000</td>\n",
       "    </tr>\n",
       "    <tr>\n",
       "      <th>4</th>\n",
       "      <td>5</td>\n",
       "      <td>NaN</td>\n",
       "      <td>1.7</td>\n",
       "      <td>0.4</td>\n",
       "      <td>0</td>\n",
       "      <td>3.04527</td>\n",
       "      <td>3.04527</td>\n",
       "    </tr>\n",
       "    <tr>\n",
       "      <th>...</th>\n",
       "      <td>...</td>\n",
       "      <td>...</td>\n",
       "      <td>...</td>\n",
       "      <td>...</td>\n",
       "      <td>...</td>\n",
       "      <td>...</td>\n",
       "      <td>...</td>\n",
       "    </tr>\n",
       "    <tr>\n",
       "      <th>144</th>\n",
       "      <td>6</td>\n",
       "      <td>3.0</td>\n",
       "      <td>5.2</td>\n",
       "      <td>2.3</td>\n",
       "      <td>2</td>\n",
       "      <td>3.00000</td>\n",
       "      <td>3.00000</td>\n",
       "    </tr>\n",
       "    <tr>\n",
       "      <th>145</th>\n",
       "      <td>6</td>\n",
       "      <td>2.5</td>\n",
       "      <td>5.0</td>\n",
       "      <td>1.9</td>\n",
       "      <td>2</td>\n",
       "      <td>2.50000</td>\n",
       "      <td>2.50000</td>\n",
       "    </tr>\n",
       "    <tr>\n",
       "      <th>146</th>\n",
       "      <td>6</td>\n",
       "      <td>3.0</td>\n",
       "      <td>5.2</td>\n",
       "      <td>2.0</td>\n",
       "      <td>2</td>\n",
       "      <td>3.00000</td>\n",
       "      <td>3.00000</td>\n",
       "    </tr>\n",
       "    <tr>\n",
       "      <th>147</th>\n",
       "      <td>6</td>\n",
       "      <td>3.4</td>\n",
       "      <td>5.4</td>\n",
       "      <td>2.3</td>\n",
       "      <td>2</td>\n",
       "      <td>3.40000</td>\n",
       "      <td>3.40000</td>\n",
       "    </tr>\n",
       "    <tr>\n",
       "      <th>148</th>\n",
       "      <td>5</td>\n",
       "      <td>3.0</td>\n",
       "      <td>5.1</td>\n",
       "      <td>1.8</td>\n",
       "      <td>2</td>\n",
       "      <td>3.00000</td>\n",
       "      <td>3.00000</td>\n",
       "    </tr>\n",
       "  </tbody>\n",
       "</table>\n",
       "<p>149 rows × 7 columns</p>\n",
       "</div>"
      ],
      "text/plain": [
       "     5.1  3.5  1.4  0.2  0      3.6  3.5_updated\n",
       "0      4  3.0  1.4  0.2  0  3.00000      3.00000\n",
       "1      4  3.2  1.3  0.2  0  3.20000      3.20000\n",
       "2      4  3.1  1.5  0.2  0  3.10000      3.10000\n",
       "3      5  3.6  1.4  0.2  0  3.60000      3.60000\n",
       "4      5  NaN  1.7  0.4  0  3.04527      3.04527\n",
       "..   ...  ...  ...  ... ..      ...          ...\n",
       "144    6  3.0  5.2  2.3  2  3.00000      3.00000\n",
       "145    6  2.5  5.0  1.9  2  2.50000      2.50000\n",
       "146    6  3.0  5.2  2.0  2  3.00000      3.00000\n",
       "147    6  3.4  5.4  2.3  2  3.40000      3.40000\n",
       "148    5  3.0  5.1  1.8  2  3.00000      3.00000\n",
       "\n",
       "[149 rows x 7 columns]"
      ]
     },
     "execution_count": 27,
     "metadata": {},
     "output_type": "execute_result"
    }
   ],
   "source": [
    "df"
   ]
  },
  {
   "cell_type": "code",
   "execution_count": 31,
   "id": "8a3c8f1d",
   "metadata": {},
   "outputs": [
    {
     "name": "stderr",
     "output_type": "stream",
     "text": [
      "C:\\Users\\HP\\AppData\\Local\\Temp\\ipykernel_18284\\2265396126.py:2: FutureWarning: A value is trying to be set on a copy of a DataFrame or Series through chained assignment using an inplace method.\n",
      "The behavior will change in pandas 3.0. This inplace method will never work because the intermediate object on which we are setting values always behaves as a copy.\n",
      "\n",
      "For example, when doing 'df[col].method(value, inplace=True)', try using 'df.method({col: value}, inplace=True)' or df[col] = df[col].method(value) instead, to perform the operation inplace on the original object.\n",
      "\n",
      "\n",
      "  df['3.5'].fillna(df['3.5'].mean(), inplace=True)\n"
     ]
    }
   ],
   "source": [
    "df.head()\n",
    "df['3.5'].fillna(df['3.5'].mean(), inplace=True)"
   ]
  },
  {
   "cell_type": "code",
   "execution_count": 35,
   "id": "67e3b139",
   "metadata": {},
   "outputs": [
    {
     "data": {
      "application/vnd.microsoft.datawrangler.viewer.v0+json": {
       "columns": [
        {
         "name": "index",
         "rawType": "int64",
         "type": "integer"
        },
        {
         "name": "5.1",
         "rawType": "int64",
         "type": "integer"
        },
        {
         "name": "3.5",
         "rawType": "int64",
         "type": "integer"
        },
        {
         "name": "1.4",
         "rawType": "float64",
         "type": "float"
        },
        {
         "name": "0.2",
         "rawType": "float64",
         "type": "float"
        },
        {
         "name": "0",
         "rawType": "int64",
         "type": "integer"
        },
        {
         "name": "3.6",
         "rawType": "float64",
         "type": "float"
        },
        {
         "name": "3.5_updated",
         "rawType": "float64",
         "type": "float"
        }
       ],
       "ref": "452a4fbd-d5ba-4d47-874b-8253ea42f75e",
       "rows": [
        [
         "0",
         "4",
         "3",
         "1.4",
         "0.2",
         "0",
         "3.0",
         "3.0"
        ],
        [
         "1",
         "4",
         "3",
         "1.3",
         "0.2",
         "0",
         "3.2",
         "3.2"
        ],
        [
         "2",
         "4",
         "3",
         "1.5",
         "0.2",
         "0",
         "3.1",
         "3.1"
        ],
        [
         "3",
         "5",
         "3",
         "1.4",
         "0.2",
         "0",
         "3.6",
         "3.6"
        ],
        [
         "4",
         "5",
         "3",
         "1.7",
         "0.4",
         "0",
         "3.0452702702702705",
         "3.0452702702702705"
        ],
        [
         "5",
         "4",
         "3",
         "1.4",
         "0.3",
         "0",
         "3.4",
         "3.4"
        ],
        [
         "6",
         "5",
         "3",
         "1.5",
         "0.2",
         "0",
         "3.4",
         "3.4"
        ],
        [
         "7",
         "4",
         "2",
         "1.4",
         "0.2",
         "0",
         "2.9",
         "2.9"
        ],
        [
         "8",
         "4",
         "3",
         "1.5",
         "0.1",
         "0",
         "3.1",
         "3.1"
        ],
        [
         "9",
         "5",
         "3",
         "1.5",
         "0.2",
         "0",
         "3.7",
         "3.7"
        ],
        [
         "10",
         "4",
         "3",
         "1.6",
         "0.2",
         "0",
         "3.4",
         "3.4"
        ],
        [
         "11",
         "4",
         "3",
         "1.4",
         "0.1",
         "0",
         "3.0",
         "3.0"
        ],
        [
         "12",
         "4",
         "3",
         "1.1",
         "0.1",
         "0",
         "3.0",
         "3.0"
        ],
        [
         "13",
         "5",
         "4",
         "1.2",
         "0.2",
         "0",
         "4.0",
         "4.0"
        ],
        [
         "14",
         "5",
         "4",
         "1.5",
         "0.4",
         "0",
         "4.4",
         "4.4"
        ],
        [
         "15",
         "5",
         "3",
         "1.3",
         "0.4",
         "0",
         "3.9",
         "3.9"
        ],
        [
         "16",
         "5",
         "3",
         "1.4",
         "0.3",
         "0",
         "3.5",
         "3.5"
        ],
        [
         "17",
         "5",
         "3",
         "1.7",
         "0.3",
         "0",
         "3.8",
         "3.8"
        ],
        [
         "18",
         "5",
         "3",
         "1.5",
         "0.3",
         "0",
         "3.8",
         "3.8"
        ],
        [
         "19",
         "5",
         "3",
         "1.7",
         "0.2",
         "0",
         "3.4",
         "3.4"
        ],
        [
         "20",
         "5",
         "3",
         "1.5",
         "0.4",
         "0",
         "3.7",
         "3.7"
        ],
        [
         "21",
         "4",
         "3",
         "1.0",
         "0.2",
         "0",
         "3.6",
         "3.6"
        ],
        [
         "22",
         "5",
         "3",
         "1.7",
         "0.5",
         "0",
         "3.3",
         "3.3"
        ],
        [
         "23",
         "4",
         "3",
         "1.9",
         "0.2",
         "0",
         "3.4",
         "3.4"
        ],
        [
         "24",
         "5",
         "3",
         "1.6",
         "0.2",
         "0",
         "3.0",
         "3.0"
        ],
        [
         "25",
         "5",
         "3",
         "1.6",
         "0.4",
         "0",
         "3.4",
         "3.4"
        ],
        [
         "26",
         "5",
         "3",
         "1.5",
         "0.2",
         "0",
         "3.5",
         "3.5"
        ],
        [
         "27",
         "5",
         "3",
         "1.4",
         "0.2",
         "0",
         "3.4",
         "3.4"
        ],
        [
         "28",
         "4",
         "3",
         "1.6",
         "0.2",
         "0",
         "3.2",
         "3.2"
        ],
        [
         "29",
         "4",
         "3",
         "1.6",
         "0.2",
         "0",
         "3.1",
         "3.1"
        ],
        [
         "30",
         "5",
         "3",
         "1.5",
         "0.4",
         "0",
         "3.4",
         "3.4"
        ],
        [
         "31",
         "5",
         "4",
         "1.5",
         "0.1",
         "0",
         "4.1",
         "4.1"
        ],
        [
         "32",
         "5",
         "4",
         "1.4",
         "0.2",
         "0",
         "4.2",
         "4.2"
        ],
        [
         "33",
         "4",
         "3",
         "1.5",
         "0.1",
         "0",
         "3.1",
         "3.1"
        ],
        [
         "34",
         "5",
         "3",
         "1.2",
         "0.2",
         "0",
         "3.2",
         "3.2"
        ],
        [
         "35",
         "5",
         "3",
         "1.3",
         "0.2",
         "0",
         "3.5",
         "3.5"
        ],
        [
         "36",
         "4",
         "3",
         "1.5",
         "0.1",
         "0",
         "3.1",
         "3.1"
        ],
        [
         "37",
         "4",
         "3",
         "1.3",
         "0.2",
         "0",
         "3.0",
         "3.0"
        ],
        [
         "38",
         "5",
         "3",
         "1.5",
         "0.2",
         "0",
         "3.4",
         "3.4"
        ],
        [
         "39",
         "5",
         "3",
         "1.3",
         "0.3",
         "0",
         "3.5",
         "3.5"
        ],
        [
         "40",
         "4",
         "2",
         "1.3",
         "0.3",
         "0",
         "2.3",
         "2.3"
        ],
        [
         "41",
         "4",
         "3",
         "1.3",
         "0.2",
         "0",
         "3.2",
         "3.2"
        ],
        [
         "42",
         "5",
         "3",
         "1.6",
         "0.6",
         "0",
         "3.5",
         "3.5"
        ],
        [
         "43",
         "5",
         "3",
         "1.9",
         "0.4",
         "0",
         "3.8",
         "3.8"
        ],
        [
         "44",
         "4",
         "3",
         "1.4",
         "0.3",
         "0",
         "3.0",
         "3.0"
        ],
        [
         "45",
         "5",
         "3",
         "1.6",
         "0.2",
         "0",
         "3.8",
         "3.8"
        ],
        [
         "46",
         "4",
         "3",
         "1.4",
         "0.2",
         "0",
         "3.2",
         "3.2"
        ],
        [
         "47",
         "5",
         "3",
         "1.5",
         "0.2",
         "0",
         "3.7",
         "3.7"
        ],
        [
         "48",
         "5",
         "3",
         "1.4",
         "0.2",
         "0",
         "3.3",
         "3.3"
        ],
        [
         "49",
         "7",
         "3",
         "4.7",
         "1.4",
         "1",
         "3.2",
         "3.2"
        ]
       ],
       "shape": {
        "columns": 7,
        "rows": 149
       }
      },
      "text/html": [
       "<div>\n",
       "<style scoped>\n",
       "    .dataframe tbody tr th:only-of-type {\n",
       "        vertical-align: middle;\n",
       "    }\n",
       "\n",
       "    .dataframe tbody tr th {\n",
       "        vertical-align: top;\n",
       "    }\n",
       "\n",
       "    .dataframe thead th {\n",
       "        text-align: right;\n",
       "    }\n",
       "</style>\n",
       "<table border=\"1\" class=\"dataframe\">\n",
       "  <thead>\n",
       "    <tr style=\"text-align: right;\">\n",
       "      <th></th>\n",
       "      <th>5.1</th>\n",
       "      <th>3.5</th>\n",
       "      <th>1.4</th>\n",
       "      <th>0.2</th>\n",
       "      <th>0</th>\n",
       "      <th>3.6</th>\n",
       "      <th>3.5_updated</th>\n",
       "    </tr>\n",
       "  </thead>\n",
       "  <tbody>\n",
       "    <tr>\n",
       "      <th>0</th>\n",
       "      <td>4</td>\n",
       "      <td>3</td>\n",
       "      <td>1.4</td>\n",
       "      <td>0.2</td>\n",
       "      <td>0</td>\n",
       "      <td>3.00000</td>\n",
       "      <td>3.00000</td>\n",
       "    </tr>\n",
       "    <tr>\n",
       "      <th>1</th>\n",
       "      <td>4</td>\n",
       "      <td>3</td>\n",
       "      <td>1.3</td>\n",
       "      <td>0.2</td>\n",
       "      <td>0</td>\n",
       "      <td>3.20000</td>\n",
       "      <td>3.20000</td>\n",
       "    </tr>\n",
       "    <tr>\n",
       "      <th>2</th>\n",
       "      <td>4</td>\n",
       "      <td>3</td>\n",
       "      <td>1.5</td>\n",
       "      <td>0.2</td>\n",
       "      <td>0</td>\n",
       "      <td>3.10000</td>\n",
       "      <td>3.10000</td>\n",
       "    </tr>\n",
       "    <tr>\n",
       "      <th>3</th>\n",
       "      <td>5</td>\n",
       "      <td>3</td>\n",
       "      <td>1.4</td>\n",
       "      <td>0.2</td>\n",
       "      <td>0</td>\n",
       "      <td>3.60000</td>\n",
       "      <td>3.60000</td>\n",
       "    </tr>\n",
       "    <tr>\n",
       "      <th>4</th>\n",
       "      <td>5</td>\n",
       "      <td>3</td>\n",
       "      <td>1.7</td>\n",
       "      <td>0.4</td>\n",
       "      <td>0</td>\n",
       "      <td>3.04527</td>\n",
       "      <td>3.04527</td>\n",
       "    </tr>\n",
       "    <tr>\n",
       "      <th>...</th>\n",
       "      <td>...</td>\n",
       "      <td>...</td>\n",
       "      <td>...</td>\n",
       "      <td>...</td>\n",
       "      <td>...</td>\n",
       "      <td>...</td>\n",
       "      <td>...</td>\n",
       "    </tr>\n",
       "    <tr>\n",
       "      <th>144</th>\n",
       "      <td>6</td>\n",
       "      <td>3</td>\n",
       "      <td>5.2</td>\n",
       "      <td>2.3</td>\n",
       "      <td>2</td>\n",
       "      <td>3.00000</td>\n",
       "      <td>3.00000</td>\n",
       "    </tr>\n",
       "    <tr>\n",
       "      <th>145</th>\n",
       "      <td>6</td>\n",
       "      <td>2</td>\n",
       "      <td>5.0</td>\n",
       "      <td>1.9</td>\n",
       "      <td>2</td>\n",
       "      <td>2.50000</td>\n",
       "      <td>2.50000</td>\n",
       "    </tr>\n",
       "    <tr>\n",
       "      <th>146</th>\n",
       "      <td>6</td>\n",
       "      <td>3</td>\n",
       "      <td>5.2</td>\n",
       "      <td>2.0</td>\n",
       "      <td>2</td>\n",
       "      <td>3.00000</td>\n",
       "      <td>3.00000</td>\n",
       "    </tr>\n",
       "    <tr>\n",
       "      <th>147</th>\n",
       "      <td>6</td>\n",
       "      <td>3</td>\n",
       "      <td>5.4</td>\n",
       "      <td>2.3</td>\n",
       "      <td>2</td>\n",
       "      <td>3.40000</td>\n",
       "      <td>3.40000</td>\n",
       "    </tr>\n",
       "    <tr>\n",
       "      <th>148</th>\n",
       "      <td>5</td>\n",
       "      <td>3</td>\n",
       "      <td>5.1</td>\n",
       "      <td>1.8</td>\n",
       "      <td>2</td>\n",
       "      <td>3.00000</td>\n",
       "      <td>3.00000</td>\n",
       "    </tr>\n",
       "  </tbody>\n",
       "</table>\n",
       "<p>149 rows × 7 columns</p>\n",
       "</div>"
      ],
      "text/plain": [
       "     5.1  3.5  1.4  0.2  0      3.6  3.5_updated\n",
       "0      4    3  1.4  0.2  0  3.00000      3.00000\n",
       "1      4    3  1.3  0.2  0  3.20000      3.20000\n",
       "2      4    3  1.5  0.2  0  3.10000      3.10000\n",
       "3      5    3  1.4  0.2  0  3.60000      3.60000\n",
       "4      5    3  1.7  0.4  0  3.04527      3.04527\n",
       "..   ...  ...  ...  ... ..      ...          ...\n",
       "144    6    3  5.2  2.3  2  3.00000      3.00000\n",
       "145    6    2  5.0  1.9  2  2.50000      2.50000\n",
       "146    6    3  5.2  2.0  2  3.00000      3.00000\n",
       "147    6    3  5.4  2.3  2  3.40000      3.40000\n",
       "148    5    3  5.1  1.8  2  3.00000      3.00000\n",
       "\n",
       "[149 rows x 7 columns]"
      ]
     },
     "execution_count": 35,
     "metadata": {},
     "output_type": "execute_result"
    }
   ],
   "source": [
    "df\n",
    "df['3.5']=df['3.5'].astype(int)\n",
    "df"
   ]
  },
  {
   "cell_type": "code",
   "execution_count": 36,
   "id": "66e7dd74",
   "metadata": {},
   "outputs": [
    {
     "data": {
      "application/vnd.microsoft.datawrangler.viewer.v0+json": {
       "columns": [
        {
         "name": "index",
         "rawType": "int64",
         "type": "integer"
        },
        {
         "name": "5.1",
         "rawType": "int64",
         "type": "integer"
        },
        {
         "name": "3.5",
         "rawType": "int64",
         "type": "integer"
        },
        {
         "name": "1.4",
         "rawType": "float64",
         "type": "float"
        },
        {
         "name": "0.2",
         "rawType": "float64",
         "type": "float"
        },
        {
         "name": "0",
         "rawType": "int64",
         "type": "integer"
        },
        {
         "name": "3.6",
         "rawType": "float64",
         "type": "float"
        },
        {
         "name": "3.5_updated",
         "rawType": "float64",
         "type": "float"
        }
       ],
       "ref": "f4288bb7-2b7f-432a-9d52-ac7d9d1ff143",
       "rows": [
        [
         "0",
         "4",
         "3",
         "1.4",
         "0.2",
         "0",
         "3.0",
         "3.0"
        ],
        [
         "1",
         "4",
         "3",
         "1.3",
         "0.2",
         "0",
         "3.2",
         "3.2"
        ],
        [
         "2",
         "4",
         "3",
         "1.5",
         "0.2",
         "0",
         "3.1",
         "3.1"
        ],
        [
         "3",
         "5",
         "3",
         "1.4",
         "0.2",
         "0",
         "3.6",
         "3.6"
        ],
        [
         "4",
         "5",
         "3",
         "1.7",
         "0.4",
         "0",
         "3.0452702702702705",
         "3.0452702702702705"
        ],
        [
         "5",
         "4",
         "3",
         "1.4",
         "0.3",
         "0",
         "3.4",
         "3.4"
        ],
        [
         "6",
         "5",
         "3",
         "1.5",
         "0.2",
         "0",
         "3.4",
         "3.4"
        ],
        [
         "7",
         "4",
         "2",
         "1.4",
         "0.2",
         "0",
         "2.9",
         "2.9"
        ],
        [
         "8",
         "4",
         "3",
         "1.5",
         "0.1",
         "0",
         "3.1",
         "3.1"
        ],
        [
         "9",
         "5",
         "3",
         "1.5",
         "0.2",
         "0",
         "3.7",
         "3.7"
        ],
        [
         "10",
         "4",
         "3",
         "1.6",
         "0.2",
         "0",
         "3.4",
         "3.4"
        ],
        [
         "11",
         "4",
         "3",
         "1.4",
         "0.1",
         "0",
         "3.0",
         "3.0"
        ],
        [
         "12",
         "4",
         "3",
         "1.1",
         "0.1",
         "0",
         "3.0",
         "3.0"
        ],
        [
         "13",
         "5",
         "4",
         "1.2",
         "0.2",
         "0",
         "4.0",
         "4.0"
        ],
        [
         "14",
         "5",
         "4",
         "1.5",
         "0.4",
         "0",
         "4.4",
         "4.4"
        ],
        [
         "15",
         "5",
         "3",
         "1.3",
         "0.4",
         "0",
         "3.9",
         "3.9"
        ],
        [
         "16",
         "5",
         "3",
         "1.4",
         "0.3",
         "0",
         "3.5",
         "3.5"
        ],
        [
         "17",
         "5",
         "3",
         "1.7",
         "0.3",
         "0",
         "3.8",
         "3.8"
        ],
        [
         "18",
         "5",
         "3",
         "1.5",
         "0.3",
         "0",
         "3.8",
         "3.8"
        ],
        [
         "19",
         "5",
         "3",
         "1.7",
         "0.2",
         "0",
         "3.4",
         "3.4"
        ],
        [
         "20",
         "5",
         "3",
         "1.5",
         "0.4",
         "0",
         "3.7",
         "3.7"
        ],
        [
         "21",
         "4",
         "3",
         "1.0",
         "0.2",
         "0",
         "3.6",
         "3.6"
        ],
        [
         "22",
         "5",
         "3",
         "1.7",
         "0.5",
         "0",
         "3.3",
         "3.3"
        ],
        [
         "23",
         "4",
         "3",
         "1.9",
         "0.2",
         "0",
         "3.4",
         "3.4"
        ],
        [
         "24",
         "5",
         "3",
         "1.6",
         "0.2",
         "0",
         "3.0",
         "3.0"
        ],
        [
         "25",
         "5",
         "3",
         "1.6",
         "0.4",
         "0",
         "3.4",
         "3.4"
        ],
        [
         "26",
         "5",
         "3",
         "1.5",
         "0.2",
         "0",
         "3.5",
         "3.5"
        ],
        [
         "27",
         "5",
         "3",
         "1.4",
         "0.2",
         "0",
         "3.4",
         "3.4"
        ],
        [
         "28",
         "4",
         "3",
         "1.6",
         "0.2",
         "0",
         "3.2",
         "3.2"
        ],
        [
         "29",
         "4",
         "3",
         "1.6",
         "0.2",
         "0",
         "3.1",
         "3.1"
        ],
        [
         "30",
         "5",
         "3",
         "1.5",
         "0.4",
         "0",
         "3.4",
         "3.4"
        ],
        [
         "31",
         "5",
         "4",
         "1.5",
         "0.1",
         "0",
         "4.1",
         "4.1"
        ],
        [
         "32",
         "5",
         "4",
         "1.4",
         "0.2",
         "0",
         "4.2",
         "4.2"
        ],
        [
         "33",
         "4",
         "3",
         "1.5",
         "0.1",
         "0",
         "3.1",
         "3.1"
        ],
        [
         "34",
         "5",
         "3",
         "1.2",
         "0.2",
         "0",
         "3.2",
         "3.2"
        ],
        [
         "35",
         "5",
         "3",
         "1.3",
         "0.2",
         "0",
         "3.5",
         "3.5"
        ],
        [
         "36",
         "4",
         "3",
         "1.5",
         "0.1",
         "0",
         "3.1",
         "3.1"
        ],
        [
         "37",
         "4",
         "3",
         "1.3",
         "0.2",
         "0",
         "3.0",
         "3.0"
        ],
        [
         "38",
         "5",
         "3",
         "1.5",
         "0.2",
         "0",
         "3.4",
         "3.4"
        ],
        [
         "39",
         "5",
         "3",
         "1.3",
         "0.3",
         "0",
         "3.5",
         "3.5"
        ],
        [
         "40",
         "4",
         "2",
         "1.3",
         "0.3",
         "0",
         "2.3",
         "2.3"
        ],
        [
         "41",
         "4",
         "3",
         "1.3",
         "0.2",
         "0",
         "3.2",
         "3.2"
        ],
        [
         "42",
         "5",
         "3",
         "1.6",
         "0.6",
         "0",
         "3.5",
         "3.5"
        ],
        [
         "43",
         "5",
         "3",
         "1.9",
         "0.4",
         "0",
         "3.8",
         "3.8"
        ],
        [
         "44",
         "4",
         "3",
         "1.4",
         "0.3",
         "0",
         "3.0",
         "3.0"
        ],
        [
         "45",
         "5",
         "3",
         "1.6",
         "0.2",
         "0",
         "3.8",
         "3.8"
        ],
        [
         "46",
         "4",
         "3",
         "1.4",
         "0.2",
         "0",
         "3.2",
         "3.2"
        ],
        [
         "47",
         "5",
         "3",
         "1.5",
         "0.2",
         "0",
         "3.7",
         "3.7"
        ],
        [
         "48",
         "5",
         "3",
         "1.4",
         "0.2",
         "0",
         "3.3",
         "3.3"
        ],
        [
         "49",
         "7",
         "3",
         "4.7",
         "1.4",
         "1",
         "3.2",
         "3.2"
        ]
       ],
       "shape": {
        "columns": 7,
        "rows": 149
       }
      },
      "text/html": [
       "<div>\n",
       "<style scoped>\n",
       "    .dataframe tbody tr th:only-of-type {\n",
       "        vertical-align: middle;\n",
       "    }\n",
       "\n",
       "    .dataframe tbody tr th {\n",
       "        vertical-align: top;\n",
       "    }\n",
       "\n",
       "    .dataframe thead th {\n",
       "        text-align: right;\n",
       "    }\n",
       "</style>\n",
       "<table border=\"1\" class=\"dataframe\">\n",
       "  <thead>\n",
       "    <tr style=\"text-align: right;\">\n",
       "      <th></th>\n",
       "      <th>5.1</th>\n",
       "      <th>3.5</th>\n",
       "      <th>1.4</th>\n",
       "      <th>0.2</th>\n",
       "      <th>0</th>\n",
       "      <th>3.6</th>\n",
       "      <th>3.5_updated</th>\n",
       "    </tr>\n",
       "  </thead>\n",
       "  <tbody>\n",
       "    <tr>\n",
       "      <th>0</th>\n",
       "      <td>4</td>\n",
       "      <td>3</td>\n",
       "      <td>1.4</td>\n",
       "      <td>0.2</td>\n",
       "      <td>0</td>\n",
       "      <td>3.00000</td>\n",
       "      <td>3.00000</td>\n",
       "    </tr>\n",
       "    <tr>\n",
       "      <th>1</th>\n",
       "      <td>4</td>\n",
       "      <td>3</td>\n",
       "      <td>1.3</td>\n",
       "      <td>0.2</td>\n",
       "      <td>0</td>\n",
       "      <td>3.20000</td>\n",
       "      <td>3.20000</td>\n",
       "    </tr>\n",
       "    <tr>\n",
       "      <th>2</th>\n",
       "      <td>4</td>\n",
       "      <td>3</td>\n",
       "      <td>1.5</td>\n",
       "      <td>0.2</td>\n",
       "      <td>0</td>\n",
       "      <td>3.10000</td>\n",
       "      <td>3.10000</td>\n",
       "    </tr>\n",
       "    <tr>\n",
       "      <th>3</th>\n",
       "      <td>5</td>\n",
       "      <td>3</td>\n",
       "      <td>1.4</td>\n",
       "      <td>0.2</td>\n",
       "      <td>0</td>\n",
       "      <td>3.60000</td>\n",
       "      <td>3.60000</td>\n",
       "    </tr>\n",
       "    <tr>\n",
       "      <th>4</th>\n",
       "      <td>5</td>\n",
       "      <td>3</td>\n",
       "      <td>1.7</td>\n",
       "      <td>0.4</td>\n",
       "      <td>0</td>\n",
       "      <td>3.04527</td>\n",
       "      <td>3.04527</td>\n",
       "    </tr>\n",
       "    <tr>\n",
       "      <th>...</th>\n",
       "      <td>...</td>\n",
       "      <td>...</td>\n",
       "      <td>...</td>\n",
       "      <td>...</td>\n",
       "      <td>...</td>\n",
       "      <td>...</td>\n",
       "      <td>...</td>\n",
       "    </tr>\n",
       "    <tr>\n",
       "      <th>144</th>\n",
       "      <td>6</td>\n",
       "      <td>3</td>\n",
       "      <td>5.2</td>\n",
       "      <td>2.3</td>\n",
       "      <td>2</td>\n",
       "      <td>3.00000</td>\n",
       "      <td>3.00000</td>\n",
       "    </tr>\n",
       "    <tr>\n",
       "      <th>145</th>\n",
       "      <td>6</td>\n",
       "      <td>2</td>\n",
       "      <td>5.0</td>\n",
       "      <td>1.9</td>\n",
       "      <td>2</td>\n",
       "      <td>2.50000</td>\n",
       "      <td>2.50000</td>\n",
       "    </tr>\n",
       "    <tr>\n",
       "      <th>146</th>\n",
       "      <td>6</td>\n",
       "      <td>3</td>\n",
       "      <td>5.2</td>\n",
       "      <td>2.0</td>\n",
       "      <td>2</td>\n",
       "      <td>3.00000</td>\n",
       "      <td>3.00000</td>\n",
       "    </tr>\n",
       "    <tr>\n",
       "      <th>147</th>\n",
       "      <td>6</td>\n",
       "      <td>3</td>\n",
       "      <td>5.4</td>\n",
       "      <td>2.3</td>\n",
       "      <td>2</td>\n",
       "      <td>3.40000</td>\n",
       "      <td>3.40000</td>\n",
       "    </tr>\n",
       "    <tr>\n",
       "      <th>148</th>\n",
       "      <td>5</td>\n",
       "      <td>3</td>\n",
       "      <td>5.1</td>\n",
       "      <td>1.8</td>\n",
       "      <td>2</td>\n",
       "      <td>3.00000</td>\n",
       "      <td>3.00000</td>\n",
       "    </tr>\n",
       "  </tbody>\n",
       "</table>\n",
       "<p>149 rows × 7 columns</p>\n",
       "</div>"
      ],
      "text/plain": [
       "     5.1  3.5  1.4  0.2  0      3.6  3.5_updated\n",
       "0      4    3  1.4  0.2  0  3.00000      3.00000\n",
       "1      4    3  1.3  0.2  0  3.20000      3.20000\n",
       "2      4    3  1.5  0.2  0  3.10000      3.10000\n",
       "3      5    3  1.4  0.2  0  3.60000      3.60000\n",
       "4      5    3  1.7  0.4  0  3.04527      3.04527\n",
       "..   ...  ...  ...  ... ..      ...          ...\n",
       "144    6    3  5.2  2.3  2  3.00000      3.00000\n",
       "145    6    2  5.0  1.9  2  2.50000      2.50000\n",
       "146    6    3  5.2  2.0  2  3.00000      3.00000\n",
       "147    6    3  5.4  2.3  2  3.40000      3.40000\n",
       "148    5    3  5.1  1.8  2  3.00000      3.00000\n",
       "\n",
       "[149 rows x 7 columns]"
      ]
     },
     "execution_count": 36,
     "metadata": {},
     "output_type": "execute_result"
    }
   ],
   "source": [
    "df"
   ]
  },
  {
   "cell_type": "code",
   "execution_count": 37,
   "metadata": {},
   "outputs": [
    {
     "data": {
      "application/vnd.microsoft.datawrangler.viewer.v0+json": {
       "columns": [
        {
         "name": "index",
         "rawType": "object",
         "type": "string"
        },
        {
         "name": "5.1",
         "rawType": "float64",
         "type": "float"
        },
        {
         "name": "3.5",
         "rawType": "float64",
         "type": "float"
        },
        {
         "name": "1.4",
         "rawType": "float64",
         "type": "float"
        },
        {
         "name": "0.2",
         "rawType": "float64",
         "type": "float"
        },
        {
         "name": "0",
         "rawType": "float64",
         "type": "float"
        },
        {
         "name": "3.6",
         "rawType": "float64",
         "type": "float"
        },
        {
         "name": "3.5_updated",
         "rawType": "float64",
         "type": "float"
        }
       ],
       "ref": "dde5d370-6a0e-46b0-8888-53d33a11fb84",
       "rows": [
        [
         "count",
         "149.0",
         "149.0",
         "149.0",
         "149.0",
         "149.0",
         "149.0",
         "149.0"
        ],
        [
         "mean",
         "5.389261744966443",
         "2.6442953020134228",
         "3.774496644295302",
         "1.2053691275167786",
         "1.0067114093959733",
         "3.0452702702702705",
         "3.0452702702702705"
        ],
        [
         "std",
         "0.843988354889347",
         "0.5336491597679349",
         "1.7596511617753423",
         "0.7612920413899603",
         "0.8178469120551446",
         "0.4278062297316675",
         "0.4278062297316675"
        ],
        [
         "min",
         "4.0",
         "2.0",
         "1.0",
         "0.1",
         "0.0",
         "2.0",
         "2.0"
        ],
        [
         "25%",
         "5.0",
         "2.0",
         "1.6",
         "0.3",
         "0.0",
         "2.8",
         "2.8"
        ],
        [
         "50%",
         "5.0",
         "3.0",
         "4.4",
         "1.3",
         "1.0",
         "3.0",
         "3.0"
        ],
        [
         "75%",
         "6.0",
         "3.0",
         "5.1",
         "1.8",
         "2.0",
         "3.3",
         "3.3"
        ],
        [
         "max",
         "7.0",
         "4.0",
         "6.9",
         "2.5",
         "2.0",
         "4.4",
         "4.4"
        ]
       ],
       "shape": {
        "columns": 7,
        "rows": 8
       }
      },
      "text/html": [
       "<div>\n",
       "<style scoped>\n",
       "    .dataframe tbody tr th:only-of-type {\n",
       "        vertical-align: middle;\n",
       "    }\n",
       "\n",
       "    .dataframe tbody tr th {\n",
       "        vertical-align: top;\n",
       "    }\n",
       "\n",
       "    .dataframe thead th {\n",
       "        text-align: right;\n",
       "    }\n",
       "</style>\n",
       "<table border=\"1\" class=\"dataframe\">\n",
       "  <thead>\n",
       "    <tr style=\"text-align: right;\">\n",
       "      <th></th>\n",
       "      <th>5.1</th>\n",
       "      <th>3.5</th>\n",
       "      <th>1.4</th>\n",
       "      <th>0.2</th>\n",
       "      <th>0</th>\n",
       "      <th>3.6</th>\n",
       "      <th>3.5_updated</th>\n",
       "    </tr>\n",
       "  </thead>\n",
       "  <tbody>\n",
       "    <tr>\n",
       "      <th>count</th>\n",
       "      <td>149.000000</td>\n",
       "      <td>149.000000</td>\n",
       "      <td>149.000000</td>\n",
       "      <td>149.000000</td>\n",
       "      <td>149.000000</td>\n",
       "      <td>149.000000</td>\n",
       "      <td>149.000000</td>\n",
       "    </tr>\n",
       "    <tr>\n",
       "      <th>mean</th>\n",
       "      <td>5.389262</td>\n",
       "      <td>2.644295</td>\n",
       "      <td>3.774497</td>\n",
       "      <td>1.205369</td>\n",
       "      <td>1.006711</td>\n",
       "      <td>3.045270</td>\n",
       "      <td>3.045270</td>\n",
       "    </tr>\n",
       "    <tr>\n",
       "      <th>std</th>\n",
       "      <td>0.843988</td>\n",
       "      <td>0.533649</td>\n",
       "      <td>1.759651</td>\n",
       "      <td>0.761292</td>\n",
       "      <td>0.817847</td>\n",
       "      <td>0.427806</td>\n",
       "      <td>0.427806</td>\n",
       "    </tr>\n",
       "    <tr>\n",
       "      <th>min</th>\n",
       "      <td>4.000000</td>\n",
       "      <td>2.000000</td>\n",
       "      <td>1.000000</td>\n",
       "      <td>0.100000</td>\n",
       "      <td>0.000000</td>\n",
       "      <td>2.000000</td>\n",
       "      <td>2.000000</td>\n",
       "    </tr>\n",
       "    <tr>\n",
       "      <th>25%</th>\n",
       "      <td>5.000000</td>\n",
       "      <td>2.000000</td>\n",
       "      <td>1.600000</td>\n",
       "      <td>0.300000</td>\n",
       "      <td>0.000000</td>\n",
       "      <td>2.800000</td>\n",
       "      <td>2.800000</td>\n",
       "    </tr>\n",
       "    <tr>\n",
       "      <th>50%</th>\n",
       "      <td>5.000000</td>\n",
       "      <td>3.000000</td>\n",
       "      <td>4.400000</td>\n",
       "      <td>1.300000</td>\n",
       "      <td>1.000000</td>\n",
       "      <td>3.000000</td>\n",
       "      <td>3.000000</td>\n",
       "    </tr>\n",
       "    <tr>\n",
       "      <th>75%</th>\n",
       "      <td>6.000000</td>\n",
       "      <td>3.000000</td>\n",
       "      <td>5.100000</td>\n",
       "      <td>1.800000</td>\n",
       "      <td>2.000000</td>\n",
       "      <td>3.300000</td>\n",
       "      <td>3.300000</td>\n",
       "    </tr>\n",
       "    <tr>\n",
       "      <th>max</th>\n",
       "      <td>7.000000</td>\n",
       "      <td>4.000000</td>\n",
       "      <td>6.900000</td>\n",
       "      <td>2.500000</td>\n",
       "      <td>2.000000</td>\n",
       "      <td>4.400000</td>\n",
       "      <td>4.400000</td>\n",
       "    </tr>\n",
       "  </tbody>\n",
       "</table>\n",
       "</div>"
      ],
      "text/plain": [
       "              5.1         3.5         1.4         0.2           0         3.6  \\\n",
       "count  149.000000  149.000000  149.000000  149.000000  149.000000  149.000000   \n",
       "mean     5.389262    2.644295    3.774497    1.205369    1.006711    3.045270   \n",
       "std      0.843988    0.533649    1.759651    0.761292    0.817847    0.427806   \n",
       "min      4.000000    2.000000    1.000000    0.100000    0.000000    2.000000   \n",
       "25%      5.000000    2.000000    1.600000    0.300000    0.000000    2.800000   \n",
       "50%      5.000000    3.000000    4.400000    1.300000    1.000000    3.000000   \n",
       "75%      6.000000    3.000000    5.100000    1.800000    2.000000    3.300000   \n",
       "max      7.000000    4.000000    6.900000    2.500000    2.000000    4.400000   \n",
       "\n",
       "       3.5_updated  \n",
       "count   149.000000  \n",
       "mean      3.045270  \n",
       "std       0.427806  \n",
       "min       2.000000  \n",
       "25%       2.800000  \n",
       "50%       3.000000  \n",
       "75%       3.300000  \n",
       "max       4.400000  "
      ]
     },
     "execution_count": 37,
     "metadata": {},
     "output_type": "execute_result"
    }
   ],
   "source": [
    "df.describe()"
   ]
  },
  {
   "cell_type": "code",
   "execution_count": 38,
   "metadata": {},
   "outputs": [],
   "source": [
    "df1=pd.DataFrame({'A':[1,2,3,4,5],'B':[1,2,3,4,5]})\n",
    "df2=pd.DataFrame({'A':[11,22,33,44,55],'B':[11,22,33,44,55]})"
   ]
  },
  {
   "cell_type": "code",
   "execution_count": 39,
   "id": "7b0702b0",
   "metadata": {},
   "outputs": [
    {
     "name": "stdout",
     "output_type": "stream",
     "text": [
      "   A  B\n",
      "0  1  1\n",
      "1  2  2\n",
      "2  3  3\n",
      "3  4  4\n",
      "4  5  5\n",
      "    A   B\n",
      "0  11  11\n",
      "1  22  22\n",
      "2  33  33\n",
      "3  44  44\n",
      "4  55  55\n"
     ]
    }
   ],
   "source": [
    "print(df1)\n",
    "print(df2)"
   ]
  },
  {
   "cell_type": "code",
   "execution_count": null,
   "metadata": {},
   "outputs": [
    {
     "data": {
      "application/vnd.microsoft.datawrangler.viewer.v0+json": {
       "columns": [
        {
         "name": "index",
         "rawType": "int64",
         "type": "integer"
        },
        {
         "name": "A",
         "rawType": "int64",
         "type": "integer"
        },
        {
         "name": "B_x",
         "rawType": "float64",
         "type": "float"
        },
        {
         "name": "B_y",
         "rawType": "float64",
         "type": "float"
        }
       ],
       "ref": "80ce19c8-5225-4bd9-afca-c3c3890539d6",
       "rows": [
        [
         "0",
         "1",
         "1.0",
         null
        ],
        [
         "1",
         "2",
         "2.0",
         null
        ],
        [
         "2",
         "3",
         "3.0",
         null
        ],
        [
         "3",
         "4",
         "4.0",
         null
        ],
        [
         "4",
         "5",
         "5.0",
         null
        ],
        [
         "5",
         "11",
         null,
         "11.0"
        ],
        [
         "6",
         "22",
         null,
         "22.0"
        ],
        [
         "7",
         "33",
         null,
         "33.0"
        ],
        [
         "8",
         "44",
         null,
         "44.0"
        ],
        [
         "9",
         "55",
         null,
         "55.0"
        ]
       ],
       "shape": {
        "columns": 3,
        "rows": 10
       }
      },
      "text/html": [
       "<div>\n",
       "<style scoped>\n",
       "    .dataframe tbody tr th:only-of-type {\n",
       "        vertical-align: middle;\n",
       "    }\n",
       "\n",
       "    .dataframe tbody tr th {\n",
       "        vertical-align: top;\n",
       "    }\n",
       "\n",
       "    .dataframe thead th {\n",
       "        text-align: right;\n",
       "    }\n",
       "</style>\n",
       "<table border=\"1\" class=\"dataframe\">\n",
       "  <thead>\n",
       "    <tr style=\"text-align: right;\">\n",
       "      <th></th>\n",
       "      <th>A</th>\n",
       "      <th>B_x</th>\n",
       "      <th>B_y</th>\n",
       "    </tr>\n",
       "  </thead>\n",
       "  <tbody>\n",
       "    <tr>\n",
       "      <th>0</th>\n",
       "      <td>1</td>\n",
       "      <td>1.0</td>\n",
       "      <td>NaN</td>\n",
       "    </tr>\n",
       "    <tr>\n",
       "      <th>1</th>\n",
       "      <td>2</td>\n",
       "      <td>2.0</td>\n",
       "      <td>NaN</td>\n",
       "    </tr>\n",
       "    <tr>\n",
       "      <th>2</th>\n",
       "      <td>3</td>\n",
       "      <td>3.0</td>\n",
       "      <td>NaN</td>\n",
       "    </tr>\n",
       "    <tr>\n",
       "      <th>3</th>\n",
       "      <td>4</td>\n",
       "      <td>4.0</td>\n",
       "      <td>NaN</td>\n",
       "    </tr>\n",
       "    <tr>\n",
       "      <th>4</th>\n",
       "      <td>5</td>\n",
       "      <td>5.0</td>\n",
       "      <td>NaN</td>\n",
       "    </tr>\n",
       "    <tr>\n",
       "      <th>5</th>\n",
       "      <td>11</td>\n",
       "      <td>NaN</td>\n",
       "      <td>11.0</td>\n",
       "    </tr>\n",
       "    <tr>\n",
       "      <th>6</th>\n",
       "      <td>22</td>\n",
       "      <td>NaN</td>\n",
       "      <td>22.0</td>\n",
       "    </tr>\n",
       "    <tr>\n",
       "      <th>7</th>\n",
       "      <td>33</td>\n",
       "      <td>NaN</td>\n",
       "      <td>33.0</td>\n",
       "    </tr>\n",
       "    <tr>\n",
       "      <th>8</th>\n",
       "      <td>44</td>\n",
       "      <td>NaN</td>\n",
       "      <td>44.0</td>\n",
       "    </tr>\n",
       "    <tr>\n",
       "      <th>9</th>\n",
       "      <td>55</td>\n",
       "      <td>NaN</td>\n",
       "      <td>55.0</td>\n",
       "    </tr>\n",
       "  </tbody>\n",
       "</table>\n",
       "</div>"
      ],
      "text/plain": [
       "    A  B_x   B_y\n",
       "0   1  1.0   NaN\n",
       "1   2  2.0   NaN\n",
       "2   3  3.0   NaN\n",
       "3   4  4.0   NaN\n",
       "4   5  5.0   NaN\n",
       "5  11  NaN  11.0\n",
       "6  22  NaN  22.0\n",
       "7  33  NaN  33.0\n",
       "8  44  NaN  44.0\n",
       "9  55  NaN  55.0"
      ]
     },
     "execution_count": 43,
     "metadata": {},
     "output_type": "execute_result"
    }
   ],
   "source": [
    "pd.merge(df1,df2,on='A',how='outer')\n"
   ]
  },
  {
   "cell_type": "code",
   "execution_count": 44,
   "metadata": {},
   "outputs": [
    {
     "data": {
      "application/vnd.microsoft.datawrangler.viewer.v0+json": {
       "columns": [
        {
         "name": "index",
         "rawType": "int64",
         "type": "integer"
        },
        {
         "name": "A",
         "rawType": "int64",
         "type": "integer"
        },
        {
         "name": "B_x",
         "rawType": "int64",
         "type": "integer"
        },
        {
         "name": "B_y",
         "rawType": "float64",
         "type": "float"
        }
       ],
       "ref": "05504a1d-ab01-4982-b413-86e86dc0ce2d",
       "rows": [
        [
         "0",
         "1",
         "1",
         null
        ],
        [
         "1",
         "2",
         "2",
         null
        ],
        [
         "2",
         "3",
         "3",
         null
        ],
        [
         "3",
         "4",
         "4",
         null
        ],
        [
         "4",
         "5",
         "5",
         null
        ]
       ],
       "shape": {
        "columns": 3,
        "rows": 5
       }
      },
      "text/html": [
       "<div>\n",
       "<style scoped>\n",
       "    .dataframe tbody tr th:only-of-type {\n",
       "        vertical-align: middle;\n",
       "    }\n",
       "\n",
       "    .dataframe tbody tr th {\n",
       "        vertical-align: top;\n",
       "    }\n",
       "\n",
       "    .dataframe thead th {\n",
       "        text-align: right;\n",
       "    }\n",
       "</style>\n",
       "<table border=\"1\" class=\"dataframe\">\n",
       "  <thead>\n",
       "    <tr style=\"text-align: right;\">\n",
       "      <th></th>\n",
       "      <th>A</th>\n",
       "      <th>B_x</th>\n",
       "      <th>B_y</th>\n",
       "    </tr>\n",
       "  </thead>\n",
       "  <tbody>\n",
       "    <tr>\n",
       "      <th>0</th>\n",
       "      <td>1</td>\n",
       "      <td>1</td>\n",
       "      <td>NaN</td>\n",
       "    </tr>\n",
       "    <tr>\n",
       "      <th>1</th>\n",
       "      <td>2</td>\n",
       "      <td>2</td>\n",
       "      <td>NaN</td>\n",
       "    </tr>\n",
       "    <tr>\n",
       "      <th>2</th>\n",
       "      <td>3</td>\n",
       "      <td>3</td>\n",
       "      <td>NaN</td>\n",
       "    </tr>\n",
       "    <tr>\n",
       "      <th>3</th>\n",
       "      <td>4</td>\n",
       "      <td>4</td>\n",
       "      <td>NaN</td>\n",
       "    </tr>\n",
       "    <tr>\n",
       "      <th>4</th>\n",
       "      <td>5</td>\n",
       "      <td>5</td>\n",
       "      <td>NaN</td>\n",
       "    </tr>\n",
       "  </tbody>\n",
       "</table>\n",
       "</div>"
      ],
      "text/plain": [
       "   A  B_x  B_y\n",
       "0  1    1  NaN\n",
       "1  2    2  NaN\n",
       "2  3    3  NaN\n",
       "3  4    4  NaN\n",
       "4  5    5  NaN"
      ]
     },
     "execution_count": 44,
     "metadata": {},
     "output_type": "execute_result"
    }
   ],
   "source": [
    "pd.merge(df1,df2,on='A',how='left')"
   ]
  },
  {
   "cell_type": "code",
   "execution_count": 45,
   "metadata": {},
   "outputs": [
    {
     "data": {
      "application/vnd.microsoft.datawrangler.viewer.v0+json": {
       "columns": [
        {
         "name": "index",
         "rawType": "int64",
         "type": "integer"
        },
        {
         "name": "A",
         "rawType": "int64",
         "type": "integer"
        },
        {
         "name": "B_x",
         "rawType": "float64",
         "type": "float"
        },
        {
         "name": "B_y",
         "rawType": "int64",
         "type": "integer"
        }
       ],
       "ref": "7a6ae508-e99a-4ff9-bb83-96586ad7ecf8",
       "rows": [
        [
         "0",
         "11",
         null,
         "11"
        ],
        [
         "1",
         "22",
         null,
         "22"
        ],
        [
         "2",
         "33",
         null,
         "33"
        ],
        [
         "3",
         "44",
         null,
         "44"
        ],
        [
         "4",
         "55",
         null,
         "55"
        ]
       ],
       "shape": {
        "columns": 3,
        "rows": 5
       }
      },
      "text/html": [
       "<div>\n",
       "<style scoped>\n",
       "    .dataframe tbody tr th:only-of-type {\n",
       "        vertical-align: middle;\n",
       "    }\n",
       "\n",
       "    .dataframe tbody tr th {\n",
       "        vertical-align: top;\n",
       "    }\n",
       "\n",
       "    .dataframe thead th {\n",
       "        text-align: right;\n",
       "    }\n",
       "</style>\n",
       "<table border=\"1\" class=\"dataframe\">\n",
       "  <thead>\n",
       "    <tr style=\"text-align: right;\">\n",
       "      <th></th>\n",
       "      <th>A</th>\n",
       "      <th>B_x</th>\n",
       "      <th>B_y</th>\n",
       "    </tr>\n",
       "  </thead>\n",
       "  <tbody>\n",
       "    <tr>\n",
       "      <th>0</th>\n",
       "      <td>11</td>\n",
       "      <td>NaN</td>\n",
       "      <td>11</td>\n",
       "    </tr>\n",
       "    <tr>\n",
       "      <th>1</th>\n",
       "      <td>22</td>\n",
       "      <td>NaN</td>\n",
       "      <td>22</td>\n",
       "    </tr>\n",
       "    <tr>\n",
       "      <th>2</th>\n",
       "      <td>33</td>\n",
       "      <td>NaN</td>\n",
       "      <td>33</td>\n",
       "    </tr>\n",
       "    <tr>\n",
       "      <th>3</th>\n",
       "      <td>44</td>\n",
       "      <td>NaN</td>\n",
       "      <td>44</td>\n",
       "    </tr>\n",
       "    <tr>\n",
       "      <th>4</th>\n",
       "      <td>55</td>\n",
       "      <td>NaN</td>\n",
       "      <td>55</td>\n",
       "    </tr>\n",
       "  </tbody>\n",
       "</table>\n",
       "</div>"
      ],
      "text/plain": [
       "    A  B_x  B_y\n",
       "0  11  NaN   11\n",
       "1  22  NaN   22\n",
       "2  33  NaN   33\n",
       "3  44  NaN   44\n",
       "4  55  NaN   55"
      ]
     },
     "execution_count": 45,
     "metadata": {},
     "output_type": "execute_result"
    }
   ],
   "source": [
    "pd.merge(df1,df2,on='A',how='right')"
   ]
  },
  {
   "cell_type": "code",
   "execution_count": null,
   "metadata": {},
   "outputs": [],
   "source": []
  },
  {
   "cell_type": "code",
   "execution_count": null,
   "metadata": {},
   "outputs": [],
   "source": []
  },
  {
   "cell_type": "code",
   "execution_count": null,
   "id": "e7fe236c",
   "metadata": {},
   "outputs": [],
   "source": []
  },
  {
   "cell_type": "code",
   "execution_count": null,
   "metadata": {},
   "outputs": [],
   "source": []
  },
  {
   "cell_type": "code",
   "execution_count": null,
   "metadata": {},
   "outputs": [],
   "source": []
  }
 ],
 "metadata": {
  "kernelspec": {
   "display_name": "Python 3",
   "language": "python",
   "name": "python3"
  },
  "language_info": {
   "codemirror_mode": {
    "name": "ipython",
    "version": 3
   },
   "file_extension": ".py",
   "mimetype": "text/x-python",
   "name": "python",
   "nbconvert_exporter": "python",
   "pygments_lexer": "ipython3",
   "version": "3.10.0"
  }
 },
 "nbformat": 4,
 "nbformat_minor": 5
}
