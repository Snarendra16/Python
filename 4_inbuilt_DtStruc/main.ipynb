{
 "cells": [
  {
   "cell_type": "code",
   "execution_count": 10,
   "metadata": {},
   "outputs": [
    {
     "name": "stdout",
     "output_type": "stream",
     "text": [
      "['Guava', 'Kiwi', 'Orange']\n",
      "['Apple', 'Banana', 'Guava']\n",
      "['Banana', 'Guava', 'Kiwi']\n"
     ]
    }
   ],
   "source": [
    "list=[\"Apple\",\"Banana\",\"Guava\",\"Kiwi\",\"Orange\"]\n",
    "\n",
    "print(list[2:])\n",
    "\n",
    "print(list[:-2])\n",
    "\n",
    "print(list[1:4])\n"
   ]
  },
  {
   "cell_type": "code",
   "execution_count": 11,
   "metadata": {},
   "outputs": [
    {
     "name": "stdout",
     "output_type": "stream",
     "text": [
      "['Apple', 'Mango', 'Guava', 'Kiwi', 'Orange']\n"
     ]
    }
   ],
   "source": [
    "# Modifying list elements\n",
    "\n",
    "list[1]=\"Mango\"\n",
    "print(list)"
   ]
  },
  {
   "cell_type": "code",
   "execution_count": 15,
   "metadata": {},
   "outputs": [
    {
     "name": "stdout",
     "output_type": "stream",
     "text": [
      "['Apple', 'Mango', 'Strawberry', 'Strawberry', 'Strawberry', 'Kiwi', 'Orange', 'Pineapple', 'Pineapple', 'Pineapple', 'Pineapple']\n",
      "['Apple', 'Mango', 'Strawberry', 'Strawberry', 'Strawberry', 'Strawberry', 'Kiwi', 'Orange', 'Pineapple', 'Pineapple', 'Pineapple', 'Pineapple']\n",
      "Pineapple\n"
     ]
    }
   ],
   "source": [
    "# List methods\n",
    "\n",
    "list.append(\"Pineapple\")\n",
    "print(list)\n",
    "\n",
    "list.insert(2,\"Strawberry\")\n",
    "print(list)\n",
    "\n",
    "# list.remove(\"Guava\")\n",
    "# print(list)\n",
    "\n",
    "# remove and return last\n",
    "popped_list=list.pop()\n",
    "print(popped_list)\n",
    "\n"
   ]
  },
  {
   "cell_type": "code",
   "execution_count": 16,
   "metadata": {},
   "outputs": [
    {
     "name": "stdout",
     "output_type": "stream",
     "text": [
      "['Apple', 'Kiwi', 'Mango', 'Orange', 'Pineapple', 'Pineapple', 'Pineapple', 'Strawberry', 'Strawberry', 'Strawberry', 'Strawberry']\n"
     ]
    }
   ],
   "source": [
    "list.sort()\n",
    "print(list)"
   ]
  },
  {
   "cell_type": "code",
   "execution_count": null,
   "metadata": {},
   "outputs": [
    {
     "name": "stdout",
     "output_type": "stream",
     "text": [
      "[]\n"
     ]
    }
   ],
   "source": [
    "list.clear()\n",
    "print(list)"
   ]
  },
  {
   "cell_type": "code",
   "execution_count": 21,
   "metadata": {},
   "outputs": [
    {
     "name": "stdout",
     "output_type": "stream",
     "text": [
      "[2, 3, 4, 5, 6]\n",
      "[1, 2, 3, 4]\n",
      "[6, 7, 8, 9, 10]\n",
      "[1, 4, 7, 10]\n",
      "[3, 4, 5, 6, 7, 8, 9, 10]\n",
      "[10, 7, 4, 1]\n",
      "[8, 9, 10]\n",
      "[1, 2, 3, 4, 5, 6, 7, 8, 9, 10]\n"
     ]
    }
   ],
   "source": [
    "# List Sliceing \n",
    "\n",
    "number=[1,2,3,4,5,6,7,8,9,10]\n",
    "\n",
    "print(number[1:6])\n",
    "print(number[:4])\n",
    "print(number[5:])\n",
    "print(number[::3])\n",
    "print(number[2::])\n",
    "print(number[::-3])\n",
    "print(number[-3::])\n",
    "print(number[::])"
   ]
  },
  {
   "cell_type": "code",
   "execution_count": 25,
   "metadata": {},
   "outputs": [
    {
     "name": "stdout",
     "output_type": "stream",
     "text": [
      "1\n",
      "2\n",
      "3\n",
      "4\n",
      "5\n",
      "6\n",
      "7\n",
      "8\n",
      "9\n",
      "10\n",
      "0 1\n",
      "1 2\n",
      "2 3\n",
      "3 4\n",
      "4 5\n",
      "5 6\n",
      "6 7\n",
      "7 8\n",
      "8 9\n",
      "9 10\n"
     ]
    }
   ],
   "source": [
    "# Iterate through list\n",
    "\n",
    "for i in number:\n",
    "    print(i)\n",
    "\n",
    "for index,i in enumerate(number):\n",
    "    print(index,i)"
   ]
  },
  {
   "cell_type": "markdown",
   "metadata": {},
   "source": [
    "1. List Comprehenssion\n",
    "\n",
    "    Basic Syntax \n",
    "\n",
    "        [expression for item in iterate]\n",
    "\n",
    "    with conditional syntax\n",
    "\n",
    "        [expression for item in iterate conditional_Statement]\n",
    "\n",
    "    With nested comphresion\n",
    "\n",
    "        [expression for item1 in iterate1 for item2 in iterate2]"
   ]
  },
  {
   "cell_type": "code",
   "execution_count": null,
   "metadata": {},
   "outputs": [
    {
     "name": "stdout",
     "output_type": "stream",
     "text": [
      "[0, 1, 4, 9, 16, 25, 36, 49, 64, 81]\n"
     ]
    },
    {
     "data": {
      "text/plain": [
       "[0, 1, 4, 9, 16, 25, 36, 49, 64, 81, 100, 121, 144]"
      ]
     },
     "execution_count": 29,
     "metadata": {},
     "output_type": "execute_result"
    }
   ],
   "source": [
    "#Basic List comprehension \n",
    "\n",
    "lst=[]\n",
    "for i in range(10):\n",
    "    lst.append(i**2)\n",
    "\n",
    "print(lst)\n",
    "\n",
    "\n",
    "[i**2 for i in range(13)] ##this is called as list comprehension\n"
   ]
  },
  {
   "cell_type": "code",
   "execution_count": 1,
   "metadata": {},
   "outputs": [
    {
     "name": "stdout",
     "output_type": "stream",
     "text": [
      "[0, 2, 4, 6, 8, 10, 12]\n",
      "[0, 8, 64, 216, 512, 1000, 1728]\n"
     ]
    }
   ],
   "source": [
    "# Conditional List comprehension\n",
    "\n",
    "lst=[]\n",
    "for i in range(13):\n",
    "    if i%2==0:\n",
    "        lst.append(i)\n",
    "print(lst)\n",
    "\n",
    "cube=[i**3 for i in range(13) if i%2==0]\n",
    "print(cube)"
   ]
  },
  {
   "cell_type": "code",
   "execution_count": 34,
   "metadata": {},
   "outputs": [
    {
     "name": "stdout",
     "output_type": "stream",
     "text": [
      "[[4, 144], [4, 196], [4, 256], [4, 324], [4, 400], [16, 144], [16, 196], [16, 256], [16, 324], [16, 400], [36, 144], [36, 196], [36, 256], [36, 324], [36, 400], [64, 144], [64, 196], [64, 256], [64, 324], [64, 400], [100, 144], [100, 196], [100, 256], [100, 324], [100, 400]]\n"
     ]
    }
   ],
   "source": [
    "# Nested list comprehension\n",
    "\n",
    "lst1=[1,2,3,4,5,6,7,8,9,10]\n",
    "lst2=[11,12,13,14,15,16,17,18,19,20]\n",
    "lst=[[x**2,y**2] for x in lst1 for y in lst2 if x%2==0 and y%2==0]\n",
    "print(lst)"
   ]
  },
  {
   "cell_type": "markdown",
   "metadata": {},
   "source": [
    "*Tuples* "
   ]
  },
  {
   "cell_type": "code",
   "execution_count": null,
   "metadata": {},
   "outputs": [],
   "source": []
  }
 ],
 "metadata": {
  "kernelspec": {
   "display_name": "Python 3",
   "language": "python",
   "name": "python3"
  },
  "language_info": {
   "codemirror_mode": {
    "name": "ipython",
    "version": 3
   },
   "file_extension": ".py",
   "mimetype": "text/x-python",
   "name": "python",
   "nbconvert_exporter": "python",
   "pygments_lexer": "ipython3",
   "version": "3.10.0"
  }
 },
 "nbformat": 4,
 "nbformat_minor": 2
}
