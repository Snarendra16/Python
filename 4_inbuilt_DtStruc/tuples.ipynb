{
 "cells": [
  {
   "cell_type": "markdown",
   "metadata": {},
   "source": [
    "    1. Tuples \n",
    "\n",
    "        Intro\n",
    "        Create\n",
    "        Access\n",
    "        Operations\n",
    "        Methods\n",
    "        Nested Tuples\n"
   ]
  },
  {
   "cell_type": "markdown",
   "metadata": {},
   "source": [
    "Tuples are ordered collection of items that are immutable \n",
    "same as list but there immutable prop. makes them diffrent "
   ]
  },
  {
   "cell_type": "code",
   "execution_count": 1,
   "metadata": {},
   "outputs": [
    {
     "name": "stdout",
     "output_type": "stream",
     "text": [
      "()\n",
      "<class 'tuple'>\n"
     ]
    }
   ],
   "source": [
    "# Creating a tuple\n",
    "\n",
    "test_tuple=()\n",
    "print(test_tuple)\n",
    "print(type(test_tuple))"
   ]
  },
  {
   "cell_type": "code",
   "execution_count": 3,
   "metadata": {},
   "outputs": [
    {
     "name": "stdout",
     "output_type": "stream",
     "text": [
      "<class 'list'>\n",
      "<class 'tuple'>\n"
     ]
    }
   ],
   "source": [
    "# Shortcut to create list\n",
    "lst=list()\n",
    "print(type(lst))\n",
    "\n",
    "# shortcut to creatr a tuple\n",
    "tpl=tuple()\n",
    "print(type(tpl))\n"
   ]
  },
  {
   "cell_type": "code",
   "execution_count": 20,
   "metadata": {},
   "outputs": [
    {
     "data": {
      "text/plain": [
       "(1, 2, 3, 4, 3, 5, 3, 5, 3, 5, 3, 5, 6)"
      ]
     },
     "execution_count": 20,
     "metadata": {},
     "output_type": "execute_result"
    }
   ],
   "source": [
    "numbers=tuple([1,2,3,4,3,5,3,5,3,5,3,5,6])\n",
    "numbers"
   ]
  },
  {
   "cell_type": "code",
   "execution_count": null,
   "metadata": {},
   "outputs": [
    {
     "data": {
      "text/plain": [
       "[(1, 2, 3, 4)]"
      ]
     },
     "execution_count": 7,
     "metadata": {},
     "output_type": "execute_result"
    }
   ],
   "source": [
    "list=[(1,2,3,4)]\n",
    "list"
   ]
  },
  {
   "cell_type": "code",
   "execution_count": 8,
   "metadata": {},
   "outputs": [
    {
     "name": "stdout",
     "output_type": "stream",
     "text": [
      "3\n"
     ]
    }
   ],
   "source": [
    "print(numbers[2])"
   ]
  },
  {
   "cell_type": "code",
   "execution_count": 17,
   "metadata": {},
   "outputs": [
    {
     "name": "stdout",
     "output_type": "stream",
     "text": [
      "1\n",
      "Hello\n",
      "3.14\n",
      "True\n"
     ]
    },
    {
     "data": {
      "text/plain": [
       "2"
      ]
     },
     "execution_count": 17,
     "metadata": {},
     "output_type": "execute_result"
    }
   ],
   "source": [
    "# Tuples Operations \n",
    "\n",
    "mixed_tuple = (1, \"Hello\", 3.14, True)\n",
    "mixed_tuple\n",
    "\n",
    "# Concatenation\n",
    "concat_tpl=numbers+mixed_tuple\n",
    "concat_tpl\n",
    "\n",
    "# Repetition\n",
    "mixed_tuple*3\n",
    "\n",
    "# Slicing\n",
    "mixed_tuple[1:3]\n",
    "\n",
    "# Length\n",
    "len(mixed_tuple)\n",
    "\n",
    "# Membership\n",
    "3.14 in mixed_tuple\n",
    "\n",
    "# Iteration\n",
    "for i in mixed_tuple:\n",
    "    print(i)\n",
    "\n",
    "# Tuple Methods\n",
    "# count()\n",
    "mixed_tuple.count(3.14)\n",
    "\n",
    "# index()\n",
    "mixed_tuple.index(3.14)\n",
    "\n",
    "# Tuple Immutability\n",
    "# mixed_tuple[1]=\"Naru\"\n"
   ]
  },
  {
   "cell_type": "code",
   "execution_count": 24,
   "metadata": {},
   "outputs": [
    {
     "name": "stdout",
     "output_type": "stream",
     "text": [
      "5\n",
      "2\n"
     ]
    }
   ],
   "source": [
    "# Tuples Methods\n",
    "\n",
    "print(numbers.count(3))\n",
    "print(numbers.index(3))"
   ]
  },
  {
   "cell_type": "code",
   "execution_count": 29,
   "metadata": {},
   "outputs": [
    {
     "name": "stdout",
     "output_type": "stream",
     "text": [
      "(1, 2, 3, 'Naru', 'Yuks', 3.14, True)\n",
      "1\n",
      "2\n",
      "Naru\n",
      "3.14\n"
     ]
    }
   ],
   "source": [
    "# Packing and Unpacking Tuples \n",
    "\n",
    "packed_tpl=1,2,3,\"Naru\",\"Yuks\",3.14,True\n",
    "print(packed_tpl)\n",
    "\n",
    "a,b,c,d,e,f,g=packed_tpl\n",
    "print(a)\n",
    "print(b)\n",
    "# print(c)\n",
    "print(d)\n",
    "# print(e)\n",
    "print(f)\n",
    "# print(g)\n"
   ]
  },
  {
   "cell_type": "code",
   "execution_count": 30,
   "metadata": {},
   "outputs": [
    {
     "name": "stdout",
     "output_type": "stream",
     "text": [
      "1\n",
      "[2, 3, 'Naru', 'Yuks', 3.14]\n",
      "True\n"
     ]
    }
   ],
   "source": [
    "# unpacking with *\n",
    "a,*b,c=packed_tpl\n",
    "print(a)\n",
    "print(b)\n",
    "print(c)"
   ]
  },
  {
   "cell_type": "code",
   "execution_count": 33,
   "metadata": {},
   "outputs": [
    {
     "name": "stdout",
     "output_type": "stream",
     "text": [
      "(1, 2, 3, ('Hello', 'there'), ('Naru', 'here'), (1, 1, 9))\n"
     ]
    },
    {
     "data": {
      "text/plain": [
       "'there'"
      ]
     },
     "execution_count": 33,
     "metadata": {},
     "output_type": "execute_result"
    }
   ],
   "source": [
    "# Nested Tuples\n",
    "\n",
    "nested_tpl = (1, 2, 3, (\"Hello\", \"there\"), (\"Naru\", \"here\"), (1, 1, 9))\n",
    "print(nested_tpl)\n",
    "nested_tpl[3][1]"
   ]
  },
  {
   "cell_type": "code",
   "execution_count": 38,
   "metadata": {},
   "outputs": [
    {
     "ename": "IndentationError",
     "evalue": "unindent does not match any outer indentation level (<tokenize>, line 7)",
     "output_type": "error",
     "traceback": [
      "\u001b[1;36m  File \u001b[1;32m<tokenize>:7\u001b[1;36m\u001b[0m\n\u001b[1;33m    print()\u001b[0m\n\u001b[1;37m    ^\u001b[0m\n\u001b[1;31mIndentationError\u001b[0m\u001b[1;31m:\u001b[0m unindent does not match any outer indentation level\n"
     ]
    }
   ],
   "source": [
    "# Iterate through nested tuple\n",
    "\n",
    "for sub_tuple in nested_tpl:\n",
    "    # if isinstance(sub_tuple, tuple):\n",
    "    # for item in sub_tuple:\n",
    "        print(item)\n",
    "    print()\n",
    "    # else:\n",
    "    #     print(sub_tuple)"
   ]
  }
 ],
 "metadata": {
  "kernelspec": {
   "display_name": "Python 3",
   "language": "python",
   "name": "python3"
  },
  "language_info": {
   "codemirror_mode": {
    "name": "ipython",
    "version": 3
   },
   "file_extension": ".py",
   "mimetype": "text/x-python",
   "name": "python",
   "nbconvert_exporter": "python",
   "pygments_lexer": "ipython3",
   "version": "3.10.0"
  }
 },
 "nbformat": 4,
 "nbformat_minor": 2
}
