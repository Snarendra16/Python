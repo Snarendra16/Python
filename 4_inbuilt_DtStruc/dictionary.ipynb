{
 "cells": [
  {
   "cell_type": "markdown",
   "metadata": {},
   "source": [
    "Dictioaries \n",
    "\n",
    "key value pairs"
   ]
  },
  {
   "cell_type": "code",
   "execution_count": 8,
   "metadata": {},
   "outputs": [
    {
     "name": "stdout",
     "output_type": "stream",
     "text": [
      "<class 'dict'>\n"
     ]
    }
   ],
   "source": [
    "my_empty_dict = {\"Name\":\"Narendra\", \"Age\": 18, \"Collage\":\"VIIT\"}\n",
    "print(type(my_empty_dict))"
   ]
  },
  {
   "cell_type": "code",
   "execution_count": 9,
   "metadata": {},
   "outputs": [
    {
     "name": "stdout",
     "output_type": "stream",
     "text": [
      "{'Name': 'Narendra', 'Age': 18, 'Collage': 'VIIT'}\n"
     ]
    },
    {
     "data": {
      "text/plain": [
       "'Narendra'"
      ]
     },
     "execution_count": 9,
     "metadata": {},
     "output_type": "execute_result"
    }
   ],
   "source": [
    "print(my_empty_dict)\n",
    "my_empty_dict['Name']"
   ]
  },
  {
   "cell_type": "code",
   "execution_count": 10,
   "metadata": {},
   "outputs": [
    {
     "name": "stdout",
     "output_type": "stream",
     "text": [
      "{'Name': 'VIIT', 'Age': 18}\n"
     ]
    }
   ],
   "source": [
    "# Error when\n",
    "my_empty_dict = {\"Name\":\"Narendra\", \"Age\": 18, \"Name\":\"VIIT\"}\n",
    "print(my_empty_dict)\n",
    "# no key same for "
   ]
  },
  {
   "cell_type": "code",
   "execution_count": 11,
   "metadata": {},
   "outputs": [
    {
     "name": "stdout",
     "output_type": "stream",
     "text": [
      "VIIT\n",
      "18\n",
      "None\n"
     ]
    }
   ],
   "source": [
    "# getting value by get() method\n",
    "print(my_empty_dict.get('Name'))\n",
    "print(my_empty_dict.get('Age'))\n",
    "print(my_empty_dict.get('LastName')) #key value pair not defined so it will return None"
   ]
  },
  {
   "cell_type": "markdown",
   "metadata": {},
   "source": [
    "Modifying dictionary variable \n",
    "dictionaries are mutable so you can add update and remove elememnts \n",
    "but keys must be unique"
   ]
  },
  {
   "cell_type": "code",
   "execution_count": 12,
   "metadata": {},
   "outputs": [
    {
     "name": "stdout",
     "output_type": "stream",
     "text": [
      "{'Name': 'VIIT', 'Age': 20, 'LastName': 'Saraf '}\n"
     ]
    },
    {
     "data": {
      "text/plain": [
       "{'Name': 'Narendra', 'Age': 20, 'LastName': 'Saraf ', 'Grade': 'A'}"
      ]
     },
     "execution_count": 12,
     "metadata": {},
     "output_type": "execute_result"
    }
   ],
   "source": [
    "my_empty_dict['LastName'] = 'Saraf ' # Adding new key value pair\n",
    "my_empty_dict['Age']=20 #Updating value of key\n",
    "print(my_empty_dict)\n",
    "my_empty_dict['Name']='Narendra' #Updating value of key\n",
    "my_empty_dict\n",
    "my_empty_dict['Grade']=\"A\" #Adding new key value pair\n",
    "my_empty_dict"
   ]
  },
  {
   "cell_type": "code",
   "execution_count": 13,
   "metadata": {},
   "outputs": [
    {
     "data": {
      "text/plain": [
       "{'Name': 'Narendra', 'Age': 20, 'LastName': 'Saraf ', 'Collage': 'VIIT'}"
      ]
     },
     "execution_count": 13,
     "metadata": {},
     "output_type": "execute_result"
    }
   ],
   "source": [
    "# Deleting key value pair\n",
    "del my_empty_dict['Grade']\n",
    "my_empty_dict\n",
    "my_empty_dict['Collage']=\"VIIT\" #Adding new key value pair\n",
    "my_empty_dict"
   ]
  },
  {
   "cell_type": "code",
   "execution_count": 15,
   "metadata": {},
   "outputs": [
    {
     "name": "stdout",
     "output_type": "stream",
     "text": [
      "dict_keys(['Name', 'Age', 'LastName', 'Collage'])\n",
      "dict_values(['Narendra', 20, 'Saraf ', 'VIIT'])\n",
      "dict_items([('Name', 'Narendra'), ('Age', 20), ('LastName', 'Saraf '), ('Collage', 'VIIT')])\n"
     ]
    }
   ],
   "source": [
    "# dictionary methods\n",
    "keys=my_empty_dict.keys() #return all keys\n",
    "print(keys)\n",
    "values=my_empty_dict.values() #return all values \n",
    "print(values)\n",
    "items=my_empty_dict.items() #return all key-value pairs\n",
    "print(items)"
   ]
  },
  {
   "cell_type": "code",
   "execution_count": 17,
   "metadata": {},
   "outputs": [
    {
     "name": "stdout",
     "output_type": "stream",
     "text": [
      "{'Name': 'Narendra', 'Age': 20, 'LastName': 'Saraf ', 'Collage': 'VIIT'}\n",
      "{'Name': 'Narendra', 'Age': 20, 'LastName': 'Saraf ', 'Collage': 'VIIT'}\n"
     ]
    }
   ],
   "source": [
    "# shallow copy\n",
    "not_empty = my_empty_dict.copy()\n",
    "print(my_empty_dict)\n",
    "print(not_empty)"
   ]
  },
  {
   "cell_type": "code",
   "execution_count": null,
   "metadata": {},
   "outputs": [
    {
     "name": "stdout",
     "output_type": "stream",
     "text": [
      "Name\n",
      "Age\n",
      "LastName\n",
      "Collage\n",
      "Narendra\n",
      "20\n",
      "Saraf \n",
      "VIIT\n"
     ]
    }
   ],
   "source": [
    "# Iterating over keys\n",
    "for keys in my_empty_dict.keys():\n",
    "    print(keys)\n",
    "\n",
    "# Iterating over values\n",
    "for values in my_empty_dict.values():\n",
    "    print(values)"
   ]
  },
  {
   "cell_type": "code",
   "execution_count": 23,
   "metadata": {},
   "outputs": [
    {
     "name": "stdout",
     "output_type": "stream",
     "text": [
      "Name : Narendra\n",
      "Age : 20\n",
      "LastName : Saraf \n",
      "Collage : VIIT\n"
     ]
    }
   ],
   "source": [
    "# Iterate over key-values pair\n",
    "for keys,values in my_empty_dict.items():\n",
    "    print(f\"{keys} : {values}\")"
   ]
  },
  {
   "cell_type": "code",
   "execution_count": 36,
   "metadata": {},
   "outputs": [
    {
     "name": "stdout",
     "output_type": "stream",
     "text": [
      "{'student1': {'Name': 'Narendra', 'Age': 20, 'Collage': 'VIIT'}, 'student2': {'Name': 'Yukta', 'Age': 22, 'Collage': 'VIT'}}\n"
     ]
    }
   ],
   "source": [
    "# Nested dictionaries\n",
    "students={\n",
    "    \"student1\":{\"Name\":\"Narendra\",\"Age\":20,\"Collage\":\"VIIT\"},\n",
    "    \"student2\":{\"Name\":\"Yukta\",\"Age\":22,\"Collage\":\"VIT\"}\n",
    "}\n",
    "print(students)"
   ]
  },
  {
   "cell_type": "code",
   "execution_count": null,
   "metadata": {},
   "outputs": [
    {
     "name": "stdout",
     "output_type": "stream",
     "text": [
      "student1: {'Name': 'Narendra', 'Age': 20, 'Collage': 'VIIT'}\n",
      "Name: Narendra\n",
      "Age: 20\n",
      "Collage: VIIT\n",
      "student2: {'Name': 'Yukta', 'Age': 22, 'Collage': 'VIT'}\n",
      "Name: Yukta\n",
      "Age: 22\n",
      "Collage: VIT\n"
     ]
    }
   ],
   "source": [
    "# iterate in nested dictionaries for key-values pair\n",
    "for Student_id, Student_info in students.items():\n",
    "    print(f\"{Student_id}: {Student_info}\")\n",
    "    for key, value in Student_info.items():\n",
    "        print(f\"{key}: {value}\")"
   ]
  },
  {
   "cell_type": "code",
   "execution_count": 41,
   "metadata": {},
   "outputs": [
    {
     "name": "stdout",
     "output_type": "stream",
     "text": [
      "{0: 0, 1: 1, 2: 4, 3: 9, 4: 16, 5: 25, 6: 36, 7: 49, 8: 64, 9: 81, 10: 100}\n"
     ]
    }
   ],
   "source": [
    "squares={x:x**2 for x in range(11) }\n",
    "print(squares)"
   ]
  },
  {
   "cell_type": "code",
   "execution_count": 45,
   "metadata": {},
   "outputs": [
    {
     "name": "stdout",
     "output_type": "stream",
     "text": [
      "{0: 0, 2: 4, 4: 16, 6: 36, 8: 64, 10: 100}\n"
     ]
    }
   ],
   "source": [
    "squares1={x:x**2 for x in range(11) if x%2==0}\n",
    "print(squares1)\n",
    "# print(squares1.count())"
   ]
  },
  {
   "cell_type": "code",
   "execution_count": 47,
   "metadata": {},
   "outputs": [
    {
     "name": "stdout",
     "output_type": "stream",
     "text": [
      "{'a': 1, 'b': 3, 'c': 4}\n"
     ]
    }
   ],
   "source": [
    "# Mergeing of dictionaries\n",
    "\n",
    "dict1={\"a\":1,\"b\":2}\n",
    "dict2={\"b\":3,\"c\":4}\n",
    "merged_dict={**dict1,**dict2}\n",
    "print(merged_dict)"
   ]
  }
 ],
 "metadata": {
  "kernelspec": {
   "display_name": "Python 3",
   "language": "python",
   "name": "python3"
  },
  "language_info": {
   "codemirror_mode": {
    "name": "ipython",
    "version": 3
   },
   "file_extension": ".py",
   "mimetype": "text/x-python",
   "name": "python",
   "nbconvert_exporter": "python",
   "pygments_lexer": "ipython3",
   "version": "3.10.0"
  }
 },
 "nbformat": 4,
 "nbformat_minor": 2
}
