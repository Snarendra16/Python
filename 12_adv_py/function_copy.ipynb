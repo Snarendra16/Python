{
 "cells": [
  {
   "cell_type": "markdown",
   "id": "ea1d31ed",
   "metadata": {},
   "source": [
    "#### Function copy"
   ]
  },
  {
   "cell_type": "code",
   "execution_count": 6,
   "id": "9542d337",
   "metadata": {},
   "outputs": [],
   "source": [
    "def Welcome():\n",
    "    print(\"Welcome to the world of Python\")"
   ]
  },
  {
   "cell_type": "code",
   "execution_count": 7,
   "id": "93c6f3e2",
   "metadata": {},
   "outputs": [
    {
     "name": "stdout",
     "output_type": "stream",
     "text": [
      "Welcome to the world of Python\n"
     ]
    }
   ],
   "source": [
    "wel=Welcome()"
   ]
  },
  {
   "cell_type": "code",
   "execution_count": null,
   "metadata": {},
   "outputs": [],
   "source": [
    "# wel()"
   ]
  },
  {
   "cell_type": "code",
   "execution_count": 9,
   "id": "e0672c1c",
   "metadata": {},
   "outputs": [
    {
     "name": "stdout",
     "output_type": "stream",
     "text": [
      "Welcome to the world of Python\n"
     ]
    }
   ],
   "source": [
    "Welcome()  # Call the function directly\n",
    "del Welcome\n",
    "wel  # wel is None, just output its value"
   ]
  },
  {
   "cell_type": "markdown",
   "id": "702dccfb",
   "metadata": {},
   "source": [
    "# Closer"
   ]
  },
  {
   "cell_type": "code",
   "execution_count": 16,
   "id": "4355634a",
   "metadata": {},
   "outputs": [],
   "source": [
    "def mainWelcome():\n",
    "    print(\"Welcome to the world of Python\")\n",
    "    msg=\"welcome\"\n",
    "    def subWelcome():\n",
    "        print(\"This is a sub function\")\n",
    "    return subWelcome\n",
    "\n"
   ]
  },
  {
   "cell_type": "code",
   "execution_count": 17,
   "id": "a2634db0",
   "metadata": {},
   "outputs": [
    {
     "name": "stdout",
     "output_type": "stream",
     "text": [
      "Welcome to the world of Python\n"
     ]
    },
    {
     "data": {
      "text/plain": [
       "<function __main__.mainWelcome.<locals>.subWelcome()>"
      ]
     },
     "execution_count": 17,
     "metadata": {},
     "output_type": "execute_result"
    }
   ],
   "source": [
    "mainWelcome()"
   ]
  },
  {
   "cell_type": "code",
   "execution_count": null,
   "id": "b93c8f0c",
   "metadata": {},
   "outputs": [],
   "source": []
  }
 ],
 "metadata": {
  "kernelspec": {
   "display_name": "Python 3",
   "language": "python",
   "name": "python3"
  },
  "language_info": {
   "codemirror_mode": {
    "name": "ipython",
    "version": 3
   },
   "file_extension": ".py",
   "mimetype": "text/x-python",
   "name": "python",
   "nbconvert_exporter": "python",
   "pygments_lexer": "ipython3",
   "version": "3.10.0"
  }
 },
 "nbformat": 4,
 "nbformat_minor": 5
}
