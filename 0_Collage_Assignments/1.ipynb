{
 "cells": [
  {
   "cell_type": "markdown",
   "id": "ca217cdb",
   "metadata": {},
   "source": [
    "### Implementation and Analysis of Encryption Algorithms"
   ]
  },
  {
   "cell_type": "code",
   "execution_count": 1,
   "id": "64164b37",
   "metadata": {},
   "outputs": [
    {
     "name": "stdout",
     "output_type": "stream",
     "text": [
      "Requirement already satisfied: cryptography in f:\\courses\\ds,ml,dl,nlp\\code\\venv\\lib\\site-packages (45.0.5)\n",
      "Requirement already satisfied: cffi>=1.14 in f:\\courses\\ds,ml,dl,nlp\\code\\venv\\lib\\site-packages (from cryptography) (1.17.1)\n",
      "Requirement already satisfied: pycparser in f:\\courses\\ds,ml,dl,nlp\\code\\venv\\lib\\site-packages (from cffi>=1.14->cryptography) (2.22)\n"
     ]
    }
   ],
   "source": [
    "!pip install cryptography\n"
   ]
  },
  {
   "cell_type": "code",
   "execution_count": 2,
   "id": "65151685",
   "metadata": {},
   "outputs": [],
   "source": [
    "def caesar_encrypt(text, shift):\n",
    "    result = \"\"\n",
    "    for char in text:\n",
    "        if char.isalpha():\n",
    "            base = 'A' if char.isupper() else 'a'\n",
    "            result += chr((ord(char) - ord(base) + shift) % 26 + ord(base))\n",
    "        else:\n",
    "            result += char\n",
    "    return result\n",
    "\n",
    "def caesar_decrypt(text, shift):\n",
    "    return caesar_encrypt(text, -shift)"
   ]
  },
  {
   "cell_type": "code",
   "execution_count": 3,
   "metadata": {},
   "outputs": [
    {
     "name": "stdout",
     "output_type": "stream",
     "text": [
      "Caesar Cipher Encryption\n",
      "\n",
      "Results (Caesar Cipher):\n",
      "Encrypted Message: Qduhqgud\n",
      "Decrypted Message: Narendra\n"
     ]
    }
   ],
   "source": [
    "print(\"Caesar Cipher Encryption\")\n",
    "text = input(\"Enter the message: \")\n",
    "shift = int(input(\"Enter the shift key (e.g., 3): \"))\n",
    "\n",
    "encrypted = caesar_encrypt(text, shift)\n",
    "decrypted = caesar_decrypt(encrypted, shift)\n",
    "\n",
    "print(\"\\nResults (Caesar Cipher):\")\n",
    "print(\"Encrypted Message:\", encrypted)\n",
    "print(\"Decrypted Message:\", decrypted)"
   ]
  },
  {
   "cell_type": "code",
   "execution_count": 4,
   "metadata": {},
   "outputs": [],
   "source": [
    "from cryptography.fernet import Fernet\n",
    "\n",
    "def fernet_encrypt_decrypt(message):\n",
    "    key = Fernet.generate_key()\n",
    "    cipher = Fernet(key)\n",
    "\n",
    "    encrypted = cipher.encrypt(message.encode())\n",
    "    decrypted = cipher.decrypt(encrypted).decode()\n",
    "\n",
    "    return key.decode(), encrypted.decode(), decrypted"
   ]
  },
  {
   "cell_type": "code",
   "execution_count": 5,
   "id": "48e5f2c5",
   "metadata": {},
   "outputs": [
    {
     "name": "stdout",
     "output_type": "stream",
     "text": [
      "Fernet AES Encryption\n",
      "\n",
      "Results (Fernet AES):\n",
      "Generated Key (Save securely): R1-YZ1u90oPNYpH7E2_SXo46Ios1P4M-6HgpsdGeODA=\n",
      "Encrypted Message: gAAAAABokELUdIaq5RkMxwqXPafgRQFpvrjQJJ3rhUmq33oMNwyMqr8y1FfZiSujScpSqv3K21YMloAY3YJXaHsKtTu_DuGPNA==\n",
      "Decrypted Message: Hello\n"
     ]
    }
   ],
   "source": [
    "print(\"Fernet AES Encryption\")\n",
    "text = input(\"Enter the message: \")\n",
    "\n",
    "key, encrypted, decrypted = fernet_encrypt_decrypt(text)\n",
    "\n",
    "print(\"\\nResults (Fernet AES):\")\n",
    "print(\"Generated Key (Save securely):\", key)\n",
    "print(\"Encrypted Message:\", encrypted)\n",
    "print(\"Decrypted Message:\", decrypted)"
   ]
  },
  {
   "cell_type": "code",
   "execution_count": 6,
   "id": "a1afccc3",
   "metadata": {},
   "outputs": [
    {
     "name": "stdout",
     "output_type": "stream",
     "text": [
      "Collecting pycryptodome\n",
      "  Downloading pycryptodome-3.23.0-cp37-abi3-win_amd64.whl.metadata (3.5 kB)\n",
      "Downloading pycryptodome-3.23.0-cp37-abi3-win_amd64.whl (1.8 MB)\n",
      "   ---------------------------------------- 0.0/1.8 MB ? eta -:--:--\n",
      "   ----- ---------------------------------- 0.3/1.8 MB ? eta -:--:--\n",
      "   ----------- ---------------------------- 0.5/1.8 MB 1.7 MB/s eta 0:00:01\n",
      "   ----------------------- ---------------- 1.0/1.8 MB 1.5 MB/s eta 0:00:01\n",
      "   ---------------------------------- ----- 1.6/1.8 MB 2.0 MB/s eta 0:00:01\n",
      "   ---------------------------------------- 1.8/1.8 MB 1.8 MB/s eta 0:00:00\n",
      "Installing collected packages: pycryptodome\n",
      "Successfully installed pycryptodome-3.23.0\n"
     ]
    }
   ],
   "source": [
    "# AES Encryption\n",
    "!pip install pycryptodome"
   ]
  },
  {
   "cell_type": "code",
   "execution_count": 9,
   "id": "b2be0bb2",
   "metadata": {},
   "outputs": [
    {
     "name": "stdout",
     "output_type": "stream",
     "text": [
      "Ciphertext (hex): e944eeee18bf9c426c0281791bc2f1a4\n",
      "Decrypted: Hello VIT !\n"
     ]
    }
   ],
   "source": [
    "from Crypto.Cipher import AES\n",
    "from Crypto.Random import get_random_bytes\n",
    "from Crypto.Util.Padding import pad, unpad\n",
    "\n",
    "key = get_random_bytes(16)  # You can also use 24 or 32 bytes for AES-192/256\n",
    "\n",
    "plaintext = b\"Hello VIT !\"\n",
    "\n",
    "cipher_encrypt = AES.new(key, AES.MODE_CBC)\n",
    "iv = cipher_encrypt.iv\n",
    "\n",
    "ciphertext = cipher_encrypt.encrypt(pad(plaintext, AES.block_size))\n",
    "\n",
    "print(\"Ciphertext (hex):\", ciphertext.hex())\n",
    "\n",
    "cipher_decrypt = AES.new(key, AES.MODE_CBC, iv)\n",
    "decrypted = unpad(cipher_decrypt.decrypt(ciphertext), AES.block_size)\n",
    "\n",
    "print(\"Decrypted:\", decrypted.decode())\n"
   ]
  },
  {
   "cell_type": "code",
   "execution_count": 10,
   "id": "0c2f5d53",
   "metadata": {},
   "outputs": [
    {
     "name": "stdout",
     "output_type": "stream",
     "text": [
      "Encrypted (hex): c43d3bd73eaa08f663fc027a1961f905fb54dd9564259622aecf60d7258e1ee7ad994cfa130c59f1dbc5a68f0b3431d22d5f501885777629948bf41a87bf1550971b9aa894f7698e679cd7d05afa6c14bea753950dde4662bfc48352bdd2dfce2f6da074d16e75bd1eebaa4f2b35f505264acbf0fe2229a9a8197dd33c889028d1058c877e5962162825efec4289251fda38cd75e22ec59f5f6d9f66d4a708751d1d9a86e31d9e12a36edf4a37e472358d55762f234de98068db7bf3d187cf39e4adfb787f406530f0112695c0fc7b0ed1f4a48e7722cc5f7fab395b272fbe412138e33b7dfbac086783a64d2f1671791c7dd7dca738875951348ba06bfcb2b7\n",
      "Decrypted message: Narendra\n"
     ]
    }
   ],
   "source": [
    "# RSA Algorithm\n",
    "from Crypto.PublicKey import RSA\n",
    "from Crypto.Cipher import PKCS1_OAEP\n",
    "\n",
    "key = RSA.generate(2048)\n",
    "public_key = key.publickey()\n",
    "encryptor = PKCS1_OAEP.new(public_key)\n",
    "decryptor = PKCS1_OAEP.new(key)\n",
    "\n",
    "message = input(\"Enter message to encrypt: \").encode()\n",
    "\n",
    "ciphertext = encryptor.encrypt(message)\n",
    "print(\"Encrypted (hex):\", ciphertext.hex())\n",
    "\n",
    "decrypted = decryptor.decrypt(ciphertext)\n",
    "print(\"Decrypted message:\", decrypted.decode())\n"
   ]
  }
 ],
 "metadata": {
  "kernelspec": {
   "display_name": "Python 3",
   "language": "python",
   "name": "python3"
  },
  "language_info": {
   "codemirror_mode": {
    "name": "ipython",
    "version": 3
   },
   "file_extension": ".py",
   "mimetype": "text/x-python",
   "name": "python",
   "nbconvert_exporter": "python",
   "pygments_lexer": "ipython3",
   "version": "3.10.0"
  }
 },
 "nbformat": 4,
 "nbformat_minor": 5
}
