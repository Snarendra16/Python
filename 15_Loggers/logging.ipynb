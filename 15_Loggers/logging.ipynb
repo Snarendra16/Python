{
 "cells": [
  {
   "cell_type": "markdown",
   "id": "b1c90159",
   "metadata": {},
   "source": [
    "### Logging in Python\n",
    "\n",
    "-->Tracks events like errors & Operational info\n"
   ]
  },
  {
   "cell_type": "code",
   "execution_count": 1,
   "id": "5b09f55f",
   "metadata": {},
   "outputs": [],
   "source": [
    "import logging as log "
   ]
  },
  {
   "cell_type": "code",
   "execution_count": 3,
   "id": "411be663",
   "metadata": {},
   "outputs": [
    {
     "name": "stderr",
     "output_type": "stream",
     "text": [
      "DEBUG:root:This is a debug message\n",
      "INFO:root:This is a info message\n",
      "WARNING:root:This is a warning message\n",
      "ERROR:root:This is an error message\n",
      "CRITICAL:root:This is an critical message\n"
     ]
    }
   ],
   "source": [
    "# First of all we need to configure basic logging methods\n",
    "log.basicConfig(level=log.DEBUG)\n",
    "\n",
    "# Log Messages\n",
    "log.debug(\"This is a debug message\")\n",
    "log.info(\"This is a info message\")\n",
    "log.warning(\"This is a warning message\")\n",
    "log.error(\"This is an error message\")\n",
    "log.critical(\"This is an critical message\")\n"
   ]
  },
  {
   "cell_type": "code",
   "execution_count": 3,
   "id": "bcb2bfed",
   "metadata": {},
   "outputs": [],
   "source": [
    "# restart kernal to run this cell\n",
    "import logging\n",
    "\n",
    "logging.basicConfig(\n",
    "    filename='app.log',\n",
    "    filemode='w',\n",
    "    level=logging.DEBUG,\n",
    "    format='%(asctime)s - %(name)s - %(levelname)s - %(message)s',\n",
    "    datefmt='%y-%m-%d %H-%M-%S'\n",
    ")\n",
    "\n",
    "logging.debug(\"This is a debug message\")\n",
    "logging.info(\"This is a info message\")\n",
    "logging.warning(\"This is a warning message\")\n",
    "logging.error(\"This is an error message\")\n",
    "logging.critical(\"This is an critical message\")"
   ]
  },
  {
   "cell_type": "code",
   "execution_count": null,
   "id": "4f15fd74",
   "metadata": {},
   "outputs": [],
   "source": []
  },
  {
   "cell_type": "code",
   "execution_count": null,
   "id": "b2554ece",
   "metadata": {},
   "outputs": [],
   "source": []
  },
  {
   "cell_type": "code",
   "execution_count": null,
   "metadata": {},
   "outputs": [],
   "source": []
  }
 ],
 "metadata": {
  "kernelspec": {
   "display_name": "Python 3",
   "language": "python",
   "name": "python3"
  },
  "language_info": {
   "codemirror_mode": {
    "name": "ipython",
    "version": 3
   },
   "file_extension": ".py",
   "mimetype": "text/x-python",
   "name": "python",
   "nbconvert_exporter": "python",
   "pygments_lexer": "ipython3",
   "version": "3.10.0"
  }
 },
 "nbformat": 4,
 "nbformat_minor": 5
}
