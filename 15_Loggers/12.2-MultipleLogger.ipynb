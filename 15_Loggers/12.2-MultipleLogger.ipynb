{
 "cells": [
  {
   "cell_type": "markdown",
   "id": "cc12d02b",
   "metadata": {},
   "source": [
    "### Multiple Loggers"
   ]
  },
  {
   "cell_type": "code",
   "execution_count": 5,
   "id": "f82ab735",
   "metadata": {},
   "outputs": [],
   "source": [
    "import logging\n",
    "# logger for module 1\n",
    "logger1 = logging.getLogger(\"Module1\")\n",
    "logger1.setLevel(logging.DEBUG)\n",
    "\n",
    "# logger for module 2\n",
    "logger2 = logging.getLogger(\"Module2\")\n",
    "logger2.setLevel(logging.INFO)\n",
    "\n",
    "logging.basicConfig(\n",
    "    filename='test.log',\n",
    "    filemode='w',\n",
    "    level=logging.DEBUG,\n",
    "    format='%(asctime)s - %(name)s - %(levelname)s - %(message)s',\n",
    "    datefmt='%y-%m-%d %H-%M-%S'\n",
    ")"
   ]
  },
  {
   "cell_type": "code",
   "execution_count": 7,
   "metadata": {},
   "outputs": [],
   "source": [
    "logger1.debug(\"This is a debug message from Module 1\")\n",
    "logger1.info(\"This is an info message from Module 1\")\n",
    "logger2.debug(\"This is a debug message from Module 2\")\n",
    "logger2.info(\"This is an info message from Module 2\")"
   ]
  },
  {
   "cell_type": "code",
   "execution_count": null,
   "id": "5ec240d1",
   "metadata": {},
   "outputs": [],
   "source": []
  },
  {
   "cell_type": "code",
   "execution_count": null,
   "metadata": {},
   "outputs": [],
   "source": []
  },
  {
   "cell_type": "code",
   "execution_count": null,
   "metadata": {},
   "outputs": [],
   "source": []
  },
  {
   "cell_type": "code",
   "execution_count": null,
   "metadata": {},
   "outputs": [],
   "source": []
  },
  {
   "cell_type": "code",
   "execution_count": null,
   "metadata": {},
   "outputs": [],
   "source": []
  },
  {
   "cell_type": "code",
   "execution_count": null,
   "metadata": {},
   "outputs": [],
   "source": []
  },
  {
   "cell_type": "code",
   "execution_count": null,
   "metadata": {},
   "outputs": [],
   "source": []
  },
  {
   "cell_type": "code",
   "execution_count": null,
   "id": "4c423c92",
   "metadata": {},
   "outputs": [],
   "source": []
  },
  {
   "cell_type": "code",
   "execution_count": null,
   "metadata": {},
   "outputs": [],
   "source": []
  },
  {
   "cell_type": "code",
   "execution_count": null,
   "metadata": {},
   "outputs": [],
   "source": []
  }
 ],
 "metadata": {
  "kernelspec": {
   "display_name": "Python 3",
   "language": "python",
   "name": "python3"
  },
  "language_info": {
   "codemirror_mode": {
    "name": "ipython",
    "version": 3
   },
   "file_extension": ".py",
   "mimetype": "text/x-python",
   "name": "python",
   "nbconvert_exporter": "python",
   "pygments_lexer": "ipython3",
   "version": "3.10.0"
  }
 },
 "nbformat": 4,
 "nbformat_minor": 5
}
