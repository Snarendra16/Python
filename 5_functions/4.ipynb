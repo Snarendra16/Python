{
 "cells": [
  {
   "cell_type": "markdown",
   "metadata": {},
   "source": [
    "1. map() Function in python "
   ]
  },
  {
   "cell_type": "code",
   "execution_count": 4,
   "metadata": {},
   "outputs": [
    {
     "data": {
      "text/plain": [
       "100"
      ]
     },
     "execution_count": 4,
     "metadata": {},
     "output_type": "execute_result"
    }
   ],
   "source": [
    "def square(x):\n",
    "    return x*x\n",
    "\n",
    "square(10)"
   ]
  },
  {
   "cell_type": "code",
   "execution_count": null,
   "metadata": {},
   "outputs": [
    {
     "name": "stdout",
     "output_type": "stream",
     "text": [
      "[1, 4, 9, 16, 25, 36, 49, 64, 81, 100, 121]\n",
      "2786914576000\n"
     ]
    }
   ],
   "source": [
    "numbers=[1,2,3,4,5,6,7,8,9,10,11]\n",
    "\n",
    "list[map(square,numbers)]\n",
    "print(list(map(square,numbers)))"
   ]
  },
  {
   "cell_type": "code",
   "execution_count": 2,
   "metadata": {},
   "outputs": [
    {
     "data": {
      "text/plain": [
       "[1, 8, 27, 64, 125, 216, 343, 512, 729, 1000, 1331]"
      ]
     },
     "execution_count": 2,
     "metadata": {},
     "output_type": "execute_result"
    }
   ],
   "source": [
    "# Map() function with lambda function \n",
    "\n",
    "numbers=[1,2,3,4,5,6,7,8,9,10,11]\n",
    "\n",
    "map(lambda x:x**3,numbers) #map is a lazy function, it will not return the result until we convert it to list or tuple\n",
    "list(map(lambda x:x**3,numbers))"
   ]
  },
  {
   "cell_type": "code",
   "execution_count": 7,
   "metadata": {},
   "outputs": [
    {
     "name": "stdout",
     "output_type": "stream",
     "text": [
      "[1, 4, 9, 16, 25, 36, 49, 64, 81, 100]\n",
      "[6, 14, 24, 36, 50]\n"
     ]
    }
   ],
   "source": [
    "numbers1=[1,2,3,4,5]\n",
    "numbers2=[6,7,8,9,10]\n",
    "\n",
    "map(lambda x:x**2,numbers1+numbers2)\n",
    "result1=list(map(lambda x:x**2,numbers1+numbers2))\n",
    "print(result1)\n",
    "\n",
    "\n",
    "result2=list(map(lambda x,y:x*y,numbers1,numbers2))\n",
    "print(result2)"
   ]
  },
  {
   "cell_type": "code",
   "execution_count": 8,
   "metadata": {},
   "outputs": [
    {
     "data": {
      "text/plain": [
       "[1, 2, 3, 4, 5]"
      ]
     },
     "execution_count": 8,
     "metadata": {},
     "output_type": "execute_result"
    }
   ],
   "source": [
    "# map() is also used for typecasting\n",
    "str_numbers=['1','2','3','4','5']\n",
    "list(map(int,str_numbers))"
   ]
  },
  {
   "cell_type": "code",
   "execution_count": null,
   "metadata": {},
   "outputs": [
    {
     "name": "stdout",
     "output_type": "stream",
     "text": [
      "['APPLE', 'BANANA', 'ORANGE', 'GRAPES']\n"
     ]
    }
   ],
   "source": [
    "# map() with string upper function\n",
    "fruits=['apple','banana','orange','grapes']\n",
    "upper_fruits=list(map(str.upper,fruits))\n",
    "print(upper_fruits)"
   ]
  },
  {
   "cell_type": "code",
   "execution_count": 12,
   "metadata": {},
   "outputs": [
    {
     "name": "stdout",
     "output_type": "stream",
     "text": [
      "['Narendra', 'Ravi', 'Kiran', 'Rahul']\n"
     ]
    }
   ],
   "source": [
    "def get_name(name):\n",
    "    return name['name']\n",
    "\n",
    "peoples=[\n",
    "    {'name':'Narendra','age':20},\n",
    "    {'name':'Ravi','age':30},\n",
    "    {'name':'Kiran','age':40},\n",
    "    {'name':'Rahul','age':50}\n",
    "]\n",
    "\n",
    "names=list(map(get_name,peoples))\n",
    "print(names)"
   ]
  },
  {
   "cell_type": "code",
   "execution_count": null,
   "metadata": {},
   "outputs": [],
   "source": []
  }
 ],
 "metadata": {
  "kernelspec": {
   "display_name": "Python 3",
   "language": "python",
   "name": "python3"
  },
  "language_info": {
   "codemirror_mode": {
    "name": "ipython",
    "version": 3
   },
   "file_extension": ".py",
   "mimetype": "text/x-python",
   "name": "python",
   "nbconvert_exporter": "python",
   "pygments_lexer": "ipython3",
   "version": "3.10.0"
  }
 },
 "nbformat": 4,
 "nbformat_minor": 2
}
