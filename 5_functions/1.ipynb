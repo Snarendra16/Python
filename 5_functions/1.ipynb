{
 "cells": [
  {
   "cell_type": "markdown",
   "metadata": {},
   "source": [
    "1. Functions\n",
    "\n",
    "A block of CODE which is reused by just calling/typing a name of that perticular code is called as a Functions"
   ]
  },
  {
   "cell_type": "code",
   "execution_count": null,
   "metadata": {},
   "outputs": [],
   "source": [
    "                                            # Syntax \n",
    "def function_name(parameters):\n",
    "    \"\"\"Docstring\"\"\"\n",
    "    # Function Body\n",
    "    return #expression"
   ]
  },
  {
   "cell_type": "code",
   "execution_count": 10,
   "metadata": {},
   "outputs": [
    {
     "name": "stdout",
     "output_type": "stream",
     "text": [
      "15 is a Odd Number\n"
     ]
    }
   ],
   "source": [
    "num=int(input(\"Enter number you want to check\"))\n",
    "def even_odd(num):\n",
    "    if num%2==0:\n",
    "        print(f\"{num} is Even Number\")\n",
    "    else:\n",
    "        print(f\"{num} is a Odd Number\")\n",
    "\n",
    "even_odd(num)"
   ]
  },
  {
   "cell_type": "code",
   "execution_count": 12,
   "metadata": {},
   "outputs": [
    {
     "name": "stdout",
     "output_type": "stream",
     "text": [
      "Addition of 45678 and 56789 is 102467\n"
     ]
    }
   ],
   "source": [
    "# Addition of two numbers\n",
    "num1=int(input(\"Enter first number\"))\n",
    "num2=int(input(\"Enter second number\"))\n",
    "\n",
    "def add(num1,num2):\n",
    "    return num1+num2\n",
    "result=add(num1,num2)\n",
    "print(f\"Addition of {num1} and {num2} is {result}\")"
   ]
  },
  {
   "cell_type": "code",
   "execution_count": 14,
   "metadata": {},
   "outputs": [
    {
     "name": "stdout",
     "output_type": "stream",
     "text": [
      "Hello Narendra , Good Morning ! Welcome to the Paradise\n",
      "Hello Guest , Good Morning ! Welcome to the Paradise\n"
     ]
    }
   ],
   "source": [
    "# default parameter\n",
    "\n",
    "def greet(name=\"Guest\"):\n",
    "    print(f\"Hello {name} , Good Morning ! Welcome to the Paradise\")\n",
    "\n",
    "greet(\"Narendra\")\n",
    "greet()"
   ]
  },
  {
   "cell_type": "code",
   "execution_count": null,
   "metadata": {},
   "outputs": [
    {
     "name": "stdout",
     "output_type": "stream",
     "text": [
      "1\n",
      "2\n",
      "3\n",
      "4\n",
      "5\n",
      "6\n",
      "7\n",
      "8\n",
      "9\n",
      "Narendra\n",
      "True\n",
      "3.14\n"
     ]
    }
   ],
   "source": [
    "# Variable length argument\n",
    "# positional arguments\n",
    "def print_numbers(*args):\n",
    "    for item in args:\n",
    "        print(item)\n",
    "\n",
    "print_numbers(1,2,3,4,5,6,7,8,9,\"Narendra\",True,3.14)"
   ]
  },
  {
   "cell_type": "code",
   "execution_count": 16,
   "metadata": {},
   "outputs": [
    {
     "name": "stdout",
     "output_type": "stream",
     "text": [
      "name : Narendra\n",
      "Age : 20\n",
      "Adress : Parbhani\n"
     ]
    }
   ],
   "source": [
    "# Keywords arguments\n",
    "def print_details(**kwargs):\n",
    "    for key,value in kwargs.items():\n",
    "        print(f\"{key} : {value}\")\n",
    "\n",
    "print_details(name=\"Narendra\",Age=20,Adress=\"Parbhani\")"
   ]
  },
  {
   "cell_type": "code",
   "execution_count": 23,
   "metadata": {},
   "outputs": [
    {
     "name": "stdout",
     "output_type": "stream",
     "text": [
      "Positional argument -------> 1\n",
      "Positional argument -------> 2\n",
      "Positional argument -------> 3\n",
      "Positional argument -------> 4\n",
      "Positional argument -------> 5\n",
      "   keyword argument -------> name : Narendra\n",
      "   keyword argument -------> Age : 20\n",
      "   keyword argument -------> Adress : Parbhani\n"
     ]
    }
   ],
   "source": [
    "def print1(*args,**kwargs):\n",
    "    for val in args:\n",
    "        print(f\"Positional argument -------> {val}\")\n",
    "    for key,value in kwargs.items():\n",
    "        print(f\"   keyword argument -------> {key} : {value}\")\n",
    "\n",
    "print1(1,2,3,4,5,name=\"Narendra\",Age=20,Adress=\"Parbhani\")"
   ]
  },
  {
   "cell_type": "code",
   "execution_count": 26,
   "metadata": {},
   "outputs": [
    {
     "data": {
      "text/plain": [
       "6"
      ]
     },
     "execution_count": 26,
     "metadata": {},
     "output_type": "execute_result"
    }
   ],
   "source": [
    "# Return statements\n",
    "def multiply(num1,num2):\n",
    "    return num1*num2\n",
    "multiply(2,3)"
   ]
  },
  {
   "cell_type": "code",
   "execution_count": null,
   "metadata": {},
   "outputs": [
    {
     "data": {
      "text/plain": [
       "(6, 3)"
      ]
     },
     "execution_count": 27,
     "metadata": {},
     "output_type": "execute_result"
    }
   ],
   "source": [
    "# Return statements\n",
    "# In python we can return multiple values from a function\n",
    "def multiply(num1,num2):\n",
    "    return num1*num2,num2\n",
    "multiply(2,3)"
   ]
  }
 ],
 "metadata": {
  "kernelspec": {
   "display_name": "Python 3",
   "language": "python",
   "name": "python3"
  },
  "language_info": {
   "codemirror_mode": {
    "name": "ipython",
    "version": 3
   },
   "file_extension": ".py",
   "mimetype": "text/x-python",
   "name": "python",
   "nbconvert_exporter": "python",
   "pygments_lexer": "ipython3",
   "version": "3.10.0"
  }
 },
 "nbformat": 4,
 "nbformat_minor": 2
}
